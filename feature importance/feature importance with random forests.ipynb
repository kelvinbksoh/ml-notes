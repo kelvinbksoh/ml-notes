{
 "cells": [
  {
   "cell_type": "markdown",
   "metadata": {},
   "source": [
    "## Assessing feature importance with random forests\n",
    "\n",
    "Using a random forest, we can measure the feature importance as the averaged impurity decrease computed from all decision trees in the forest, without making any assumptions about whether our data is linearly separable or not.\n",
    "\n",
    "Tree-based models doesn't require standardized or normalized features."
   ]
  },
  {
   "cell_type": "code",
   "execution_count": 1,
   "metadata": {},
   "outputs": [],
   "source": [
    "import numpy as np\n",
    "import pandas as pd\n",
    "import seaborn as sns\n",
    "import matplotlib.pyplot as plt\n",
    "plt.style.use('seaborn')"
   ]
  },
  {
   "cell_type": "markdown",
   "metadata": {},
   "source": [
    "### Exploring feature importance with wine dataset"
   ]
  },
  {
   "cell_type": "code",
   "execution_count": 2,
   "metadata": {},
   "outputs": [
    {
     "name": "stdout",
     "output_type": "stream",
     "text": [
      "Class labels [1 2 3]\n"
     ]
    },
    {
     "data": {
      "text/html": [
       "<div>\n",
       "<style scoped>\n",
       "    .dataframe tbody tr th:only-of-type {\n",
       "        vertical-align: middle;\n",
       "    }\n",
       "\n",
       "    .dataframe tbody tr th {\n",
       "        vertical-align: top;\n",
       "    }\n",
       "\n",
       "    .dataframe thead th {\n",
       "        text-align: right;\n",
       "    }\n",
       "</style>\n",
       "<table border=\"1\" class=\"dataframe\">\n",
       "  <thead>\n",
       "    <tr style=\"text-align: right;\">\n",
       "      <th></th>\n",
       "      <th>Class label</th>\n",
       "      <th>Alcohol</th>\n",
       "      <th>Malic acid</th>\n",
       "      <th>Ash</th>\n",
       "      <th>Alcalinity of ash</th>\n",
       "      <th>Magnesium</th>\n",
       "      <th>Total phenols</th>\n",
       "      <th>Flavanoids</th>\n",
       "      <th>Nonflavanoid phenols</th>\n",
       "      <th>Proanthocyanins</th>\n",
       "      <th>Color intensity</th>\n",
       "      <th>Hue</th>\n",
       "      <th>OD280/OD315 of diluted wines</th>\n",
       "      <th>Proline</th>\n",
       "    </tr>\n",
       "  </thead>\n",
       "  <tbody>\n",
       "    <tr>\n",
       "      <th>0</th>\n",
       "      <td>1</td>\n",
       "      <td>14.23</td>\n",
       "      <td>1.71</td>\n",
       "      <td>2.43</td>\n",
       "      <td>15.6</td>\n",
       "      <td>127</td>\n",
       "      <td>2.80</td>\n",
       "      <td>3.06</td>\n",
       "      <td>0.28</td>\n",
       "      <td>2.29</td>\n",
       "      <td>5.64</td>\n",
       "      <td>1.04</td>\n",
       "      <td>3.92</td>\n",
       "      <td>1065</td>\n",
       "    </tr>\n",
       "    <tr>\n",
       "      <th>1</th>\n",
       "      <td>1</td>\n",
       "      <td>13.20</td>\n",
       "      <td>1.78</td>\n",
       "      <td>2.14</td>\n",
       "      <td>11.2</td>\n",
       "      <td>100</td>\n",
       "      <td>2.65</td>\n",
       "      <td>2.76</td>\n",
       "      <td>0.26</td>\n",
       "      <td>1.28</td>\n",
       "      <td>4.38</td>\n",
       "      <td>1.05</td>\n",
       "      <td>3.40</td>\n",
       "      <td>1050</td>\n",
       "    </tr>\n",
       "    <tr>\n",
       "      <th>2</th>\n",
       "      <td>1</td>\n",
       "      <td>13.16</td>\n",
       "      <td>2.36</td>\n",
       "      <td>2.67</td>\n",
       "      <td>18.6</td>\n",
       "      <td>101</td>\n",
       "      <td>2.80</td>\n",
       "      <td>3.24</td>\n",
       "      <td>0.30</td>\n",
       "      <td>2.81</td>\n",
       "      <td>5.68</td>\n",
       "      <td>1.03</td>\n",
       "      <td>3.17</td>\n",
       "      <td>1185</td>\n",
       "    </tr>\n",
       "    <tr>\n",
       "      <th>3</th>\n",
       "      <td>1</td>\n",
       "      <td>14.37</td>\n",
       "      <td>1.95</td>\n",
       "      <td>2.50</td>\n",
       "      <td>16.8</td>\n",
       "      <td>113</td>\n",
       "      <td>3.85</td>\n",
       "      <td>3.49</td>\n",
       "      <td>0.24</td>\n",
       "      <td>2.18</td>\n",
       "      <td>7.80</td>\n",
       "      <td>0.86</td>\n",
       "      <td>3.45</td>\n",
       "      <td>1480</td>\n",
       "    </tr>\n",
       "    <tr>\n",
       "      <th>4</th>\n",
       "      <td>1</td>\n",
       "      <td>13.24</td>\n",
       "      <td>2.59</td>\n",
       "      <td>2.87</td>\n",
       "      <td>21.0</td>\n",
       "      <td>118</td>\n",
       "      <td>2.80</td>\n",
       "      <td>2.69</td>\n",
       "      <td>0.39</td>\n",
       "      <td>1.82</td>\n",
       "      <td>4.32</td>\n",
       "      <td>1.04</td>\n",
       "      <td>2.93</td>\n",
       "      <td>735</td>\n",
       "    </tr>\n",
       "  </tbody>\n",
       "</table>\n",
       "</div>"
      ],
      "text/plain": [
       "   Class label  Alcohol  Malic acid   Ash  Alcalinity of ash  Magnesium  \\\n",
       "0            1    14.23        1.71  2.43               15.6        127   \n",
       "1            1    13.20        1.78  2.14               11.2        100   \n",
       "2            1    13.16        2.36  2.67               18.6        101   \n",
       "3            1    14.37        1.95  2.50               16.8        113   \n",
       "4            1    13.24        2.59  2.87               21.0        118   \n",
       "\n",
       "   Total phenols  Flavanoids  Nonflavanoid phenols  Proanthocyanins  \\\n",
       "0           2.80        3.06                  0.28             2.29   \n",
       "1           2.65        2.76                  0.26             1.28   \n",
       "2           2.80        3.24                  0.30             2.81   \n",
       "3           3.85        3.49                  0.24             2.18   \n",
       "4           2.80        2.69                  0.39             1.82   \n",
       "\n",
       "   Color intensity   Hue  OD280/OD315 of diluted wines  Proline  \n",
       "0             5.64  1.04                          3.92     1065  \n",
       "1             4.38  1.05                          3.40     1050  \n",
       "2             5.68  1.03                          3.17     1185  \n",
       "3             7.80  0.86                          3.45     1480  \n",
       "4             4.32  1.04                          2.93      735  "
      ]
     },
     "execution_count": 2,
     "metadata": {},
     "output_type": "execute_result"
    }
   ],
   "source": [
    "df = pd.read_csv('./wine.data', header=None)\n",
    "df.columns = ['Class label', 'Alcohol', 'Malic acid', 'Ash',\n",
    "                   'Alcalinity of ash', 'Magnesium', 'Total phenols',\n",
    "                   'Flavanoids', 'Nonflavanoid phenols', 'Proanthocyanins',\n",
    "                   'Color intensity', 'Hue', 'OD280/OD315 of diluted wines',\n",
    "                   'Proline']\n",
    "print('Class labels', np.unique(df['Class label']))\n",
    "df.head()"
   ]
  },
  {
   "cell_type": "code",
   "execution_count": 3,
   "metadata": {},
   "outputs": [],
   "source": [
    "X = df.iloc[:, 1:]\n",
    "y = df['Class label']"
   ]
  },
  {
   "cell_type": "code",
   "execution_count": 4,
   "metadata": {},
   "outputs": [],
   "source": [
    "from sklearn.model_selection import train_test_split\n",
    "X_train, X_test, y_train, y_test = train_test_split(X, y, test_size=0.3, random_state=0, stratify=y)"
   ]
  },
  {
   "cell_type": "code",
   "execution_count": 5,
   "metadata": {},
   "outputs": [
    {
     "name": "stdout",
     "output_type": "stream",
     "text": [
      " 1) Proline                        0.185453\n",
      " 2) Flavanoids                     0.174751\n",
      " 3) Color intensity                0.143920\n",
      " 4) OD280/OD315 of diluted wines   0.136162\n",
      " 5) Alcohol                        0.118529\n",
      " 6) Hue                            0.058739\n",
      " 7) Total phenols                  0.050872\n",
      " 8) Magnesium                      0.031357\n",
      " 9) Malic acid                     0.025648\n",
      "10) Proanthocyanins                0.025570\n",
      "11) Alcalinity of ash              0.022366\n",
      "12) Nonflavanoid phenols           0.013354\n",
      "13) Ash                            0.013279\n"
     ]
    },
    {
     "data": {
      "image/png": "[encoded data removed]",
      "text/plain": [
       "<matplotlib.figure.Figure at 0x17648329f98>"
      ]
     },
     "metadata": {},
     "output_type": "display_data"
    }
   ],
   "source": [
    "from sklearn.ensemble import RandomForestClassifier\n",
    "\n",
    "feat_labels = df.columns[1:]\n",
    "forest = RandomForestClassifier(n_estimators=500, random_state=1)\n",
    "forest.fit(X_train, y_train)\n",
    "\n",
    "importances = forest.feature_importances_\n",
    "\n",
    "indices = np.argsort(importances)[::-1]\n",
    "\n",
    "for f in range(X_train.shape[1]):\n",
    "    print(\"%2d) %-*s %f\" % (f + 1, 30, feat_labels[indices[f]], importances[indices[f]]))\n",
    "    \n",
    "plt.title('Feature Importance')\n",
    "plt.bar(range(X_train.shape[1]), importances[indices], align='center')\n",
    "plt.xticks(range(X_train.shape[1]), feat_labels[indices], rotation=90)\n",
    "plt.xlim([-1, X_train.shape[1]])\n",
    "plt.tight_layout()\n",
    "plt.show()"
   ]
  },
  {
   "cell_type": "markdown",
   "metadata": {},
   "source": [
    "The feature importance values are normalized so that they sum to 1.0\n",
    "\n",
    "Given the above graph we can see that proline and flavanoid are the most important features given this dataset.\n",
    "\n",
    "Let's reuse the code and use it on different dataset to determine the feature importances"
   ]
  },
  {
   "cell_type": "code",
   "execution_count": 6,
   "metadata": {},
   "outputs": [],
   "source": [
    "from sklearn.ensemble import RandomForestClassifier\n",
    "class feat_importances():\n",
    "    \n",
    "    def __init__(self, n_estimators=500, test_size=0.3, random_state=1):\n",
    "        self.test_size = test_size\n",
    "        self.random_state = random_state\n",
    "        self.n_estimators = n_estimators\n",
    "    \n",
    "    def get_feat_importances(self, X, y):\n",
    "        print(\"Feature ranking:\")\n",
    "        X_train, X_test, y_train, y_test = \\\n",
    "            train_test_split(X, y, test_size=self.test_size, random_state=self.random_state)\n",
    "\n",
    "        # optional hyperparameters tuning for rf: criterion='gini', max_depth=300, min_samples_split=3, min_samples_leaf=1\n",
    "        feat_labels = X.columns\n",
    "        forest = RandomForestClassifier(n_estimators=self.n_estimators, random_state=self.random_state)\n",
    "        \n",
    "        forest.fit(X_train, y_train)\n",
    "        importances = forest.feature_importances_\n",
    "\n",
    "        indices = np.argsort(importances)[::-1]\n",
    "        \n",
    "        for f in range(X_train.shape[1]):\n",
    "            print(\"%2d) %-*s %f\" % (indices[f], 30, feat_labels[indices[f]], importances[indices[f]]))\n",
    "        plt.title('Feature Importance')\n",
    "        plt.bar(range(X_train.shape[1]), importances[indices], align='center')\n",
    "        plt.xticks(range(X_train.shape[1]), feat_labels[indices], rotation=90)\n",
    "        plt.xlim([-1, X_train.shape[1]])\n",
    "        plt.tight_layout()\n",
    "        plt.show()\n",
    "      \n",
    "        \n",
    "    #def plot_feat_importances():"
   ]
  },
  {
   "cell_type": "code",
   "execution_count": 7,
   "metadata": {},
   "outputs": [
    {
     "name": "stdout",
     "output_type": "stream",
     "text": [
      "Feature ranking:\n",
      "12) Proline                        0.178209\n",
      " 6) Flavanoids                     0.170896\n",
      " 9) Color intensity                0.130607\n",
      "11) OD280/OD315 of diluted wines   0.118767\n",
      " 0) Alcohol                        0.108576\n",
      "10) Hue                            0.089635\n",
      " 5) Total phenols                  0.056197\n",
      " 1) Malic acid                     0.039554\n",
      " 4) Magnesium                      0.037642\n",
      " 3) Alcalinity of ash              0.024482\n",
      " 8) Proanthocyanins                0.017584\n",
      " 2) Ash                            0.016286\n",
      " 7) Nonflavanoid phenols           0.011564\n"
     ]
    },
    {
     "data": {
      "image/png": "[encoded data removed]",
      "text/plain": [
       "<matplotlib.figure.Figure at 0x1764870f048>"
      ]
     },
     "metadata": {},
     "output_type": "display_data"
    }
   ],
   "source": [
    "feat_imp = feat_importances()\n",
    "feat_imp.get_feat_importances(X, y)"
   ]
  },
  {
   "cell_type": "markdown",
   "metadata": {},
   "source": [
    "### Scikit learn Select from Model"
   ]
  },
  {
   "cell_type": "code",
   "execution_count": 8,
   "metadata": {},
   "outputs": [
    {
     "name": "stdout",
     "output_type": "stream",
     "text": [
      "Number of samples that meet this criterion: 124\n"
     ]
    }
   ],
   "source": [
    "from sklearn.feature_selection import SelectFromModel\n",
    "\n",
    "sfm = SelectFromModel(forest, threshold=0.1, prefit=True)\n",
    "X_selected = sfm.transform(X_train)\n",
    "print('Number of samples that meet this criterion:', X_selected.shape[0])"
   ]
  },
  {
   "cell_type": "code",
   "execution_count": 9,
   "metadata": {},
   "outputs": [
    {
     "name": "stdout",
     "output_type": "stream",
     "text": [
      " 1) Proline                        0.185453\n",
      " 2) Flavanoids                     0.174751\n",
      " 3) Color intensity                0.143920\n",
      " 4) OD280/OD315 of diluted wines   0.136162\n",
      " 5) Alcohol                        0.118529\n"
     ]
    }
   ],
   "source": [
    "for f in range(X_selected.shape[1]):\n",
    "    print(\"%2d) %-*s %f\" % (f + 1, 30, feat_labels[indices[f]], importances[indices[f]]))"
   ]
  },
  {
   "cell_type": "markdown",
   "metadata": {},
   "source": [
    "### Exploring feature importance with iris dataset"
   ]
  },
  {
   "cell_type": "code",
   "execution_count": 10,
   "metadata": {},
   "outputs": [
    {
     "data": {
      "text/html": [
       "<div>\n",
       "<style scoped>\n",
       "    .dataframe tbody tr th:only-of-type {\n",
       "        vertical-align: middle;\n",
       "    }\n",
       "\n",
       "    .dataframe tbody tr th {\n",
       "        vertical-align: top;\n",
       "    }\n",
       "\n",
       "    .dataframe thead th {\n",
       "        text-align: right;\n",
       "    }\n",
       "</style>\n",
       "<table border=\"1\" class=\"dataframe\">\n",
       "  <thead>\n",
       "    <tr style=\"text-align: right;\">\n",
       "      <th></th>\n",
       "      <th>Id</th>\n",
       "      <th>SepalLengthCm</th>\n",
       "      <th>SepalWidthCm</th>\n",
       "      <th>PetalLengthCm</th>\n",
       "      <th>PetalWidthCm</th>\n",
       "      <th>Species</th>\n",
       "    </tr>\n",
       "  </thead>\n",
       "  <tbody>\n",
       "    <tr>\n",
       "      <th>0</th>\n",
       "      <td>1</td>\n",
       "      <td>5.1</td>\n",
       "      <td>3.5</td>\n",
       "      <td>1.4</td>\n",
       "      <td>0.2</td>\n",
       "      <td>Iris-setosa</td>\n",
       "    </tr>\n",
       "    <tr>\n",
       "      <th>1</th>\n",
       "      <td>2</td>\n",
       "      <td>4.9</td>\n",
       "      <td>3.0</td>\n",
       "      <td>1.4</td>\n",
       "      <td>0.2</td>\n",
       "      <td>Iris-setosa</td>\n",
       "    </tr>\n",
       "    <tr>\n",
       "      <th>2</th>\n",
       "      <td>3</td>\n",
       "      <td>4.7</td>\n",
       "      <td>3.2</td>\n",
       "      <td>1.3</td>\n",
       "      <td>0.2</td>\n",
       "      <td>Iris-setosa</td>\n",
       "    </tr>\n",
       "    <tr>\n",
       "      <th>3</th>\n",
       "      <td>4</td>\n",
       "      <td>4.6</td>\n",
       "      <td>3.1</td>\n",
       "      <td>1.5</td>\n",
       "      <td>0.2</td>\n",
       "      <td>Iris-setosa</td>\n",
       "    </tr>\n",
       "    <tr>\n",
       "      <th>4</th>\n",
       "      <td>5</td>\n",
       "      <td>5.0</td>\n",
       "      <td>3.6</td>\n",
       "      <td>1.4</td>\n",
       "      <td>0.2</td>\n",
       "      <td>Iris-setosa</td>\n",
       "    </tr>\n",
       "  </tbody>\n",
       "</table>\n",
       "</div>"
      ],
      "text/plain": [
       "   Id  SepalLengthCm  SepalWidthCm  PetalLengthCm  PetalWidthCm      Species\n",
       "0   1            5.1           3.5            1.4           0.2  Iris-setosa\n",
       "1   2            4.9           3.0            1.4           0.2  Iris-setosa\n",
       "2   3            4.7           3.2            1.3           0.2  Iris-setosa\n",
       "3   4            4.6           3.1            1.5           0.2  Iris-setosa\n",
       "4   5            5.0           3.6            1.4           0.2  Iris-setosa"
      ]
     },
     "execution_count": 10,
     "metadata": {},
     "output_type": "execute_result"
    }
   ],
   "source": [
    "df = pd.read_csv('./Iris.csv')\n",
    "df.head()"
   ]
  },
  {
   "cell_type": "code",
   "execution_count": 11,
   "metadata": {},
   "outputs": [],
   "source": [
    "X = df.iloc[:,1:-1]\n",
    "y = df['Species']"
   ]
  },
  {
   "cell_type": "code",
   "execution_count": 12,
   "metadata": {},
   "outputs": [
    {
     "name": "stdout",
     "output_type": "stream",
     "text": [
      "Feature ranking:\n",
      " 3) PetalWidthCm                   0.448989\n",
      " 2) PetalLengthCm                  0.422606\n",
      " 0) SepalLengthCm                  0.099156\n",
      " 1) SepalWidthCm                   0.029250\n"
     ]
    },
    {
     "data": {
      "image/png": "[encoded data removed]",
      "text/plain": [
       "<matplotlib.figure.Figure at 0x176487c3048>"
      ]
     },
     "metadata": {},
     "output_type": "display_data"
    }
   ],
   "source": [
    "feat_imp = feat_importances()\n",
    "feat_imp.get_feat_importances(X, y)"
   ]
  },
  {
   "cell_type": "markdown",
   "metadata": {},
   "source": [
    "It appears that Petal Width and Petal Length are the most importance features."
   ]
  },
  {
   "cell_type": "markdown",
   "metadata": {},
   "source": [
    "## Exploring feature importance with German credit dataset"
   ]
  },
  {
   "cell_type": "code",
   "execution_count": 13,
   "metadata": {},
   "outputs": [],
   "source": [
    "import pandas as pd\n",
    "from sklearn.ensemble import RandomForestClassifier\n",
    "from sklearn.model_selection import train_test_split\n",
    "from sklearn.metrics import accuracy_score, classification_report"
   ]
  },
  {
   "cell_type": "code",
   "execution_count": 14,
   "metadata": {},
   "outputs": [],
   "source": [
    "df = pd.read_csv('../dataset/Statlog (German Credit Data) Data Set/german.data', sep=' ', header=None)\n",
    "df.columns = ['Status_of_existing_checking_account', 'Duration_in_month', 'Credit_history',\n",
    "             'Purpose', 'Credit_amount', 'Savings_account', 'Present_employment_since',\n",
    "             'Installment_rate_in_percentage_of_disposable_income', 'Personal_status_and_sex',\n",
    "             'Other_debtors', 'Present_residence_since', 'Property', 'Age_in_years',\n",
    "             'Other_installment_plans', 'Housing', 'Number_of_existing_credits_at_this_bank',\n",
    "             'Job', 'Number_of_people_being_liable_to_provide_maintenance_for', 'Telephone', 'Foreign worker', 'class']"
   ]
  },
  {
   "cell_type": "code",
   "execution_count": 15,
   "metadata": {},
   "outputs": [],
   "source": [
    "df['class'] = df['class'] - 1"
   ]
  },
  {
   "cell_type": "code",
   "execution_count": 16,
   "metadata": {},
   "outputs": [],
   "source": [
    "discrete_columns, continuous_columns = [], []\n",
    "for i, j in enumerate(df.dtypes[:-1]): ## select columns up till class\n",
    "    if j == object:\n",
    "        discrete_columns.append(df.columns[i])\n",
    "    else:\n",
    "        continuous_columns.append(df.columns[i])"
   ]
  },
  {
   "cell_type": "code",
   "execution_count": 17,
   "metadata": {},
   "outputs": [
    {
     "data": {
      "text/plain": [
       "['Status_of_existing_checking_account',\n",
       " 'Credit_history',\n",
       " 'Purpose',\n",
       " 'Savings_account',\n",
       " 'Present_employment_since',\n",
       " 'Personal_status_and_sex',\n",
       " 'Other_debtors',\n",
       " 'Property',\n",
       " 'Other_installment_plans',\n",
       " 'Housing',\n",
       " 'Job',\n",
       " 'Telephone',\n",
       " 'Foreign worker']"
      ]
     },
     "execution_count": 17,
     "metadata": {},
     "output_type": "execute_result"
    }
   ],
   "source": [
    "discrete_columns"
   ]
  },
  {
   "cell_type": "code",
   "execution_count": 18,
   "metadata": {},
   "outputs": [
    {
     "data": {
      "text/plain": [
       "['Duration_in_month',\n",
       " 'Credit_amount',\n",
       " 'Installment_rate_in_percentage_of_disposable_income',\n",
       " 'Present_residence_since',\n",
       " 'Age_in_years',\n",
       " 'Number_of_existing_credits_at_this_bank',\n",
       " 'Number_of_people_being_liable_to_provide_maintenance_for']"
      ]
     },
     "execution_count": 18,
     "metadata": {},
     "output_type": "execute_result"
    }
   ],
   "source": [
    "continuous_columns"
   ]
  },
  {
   "cell_type": "code",
   "execution_count": 19,
   "metadata": {},
   "outputs": [],
   "source": [
    "dummy_stseca = pd.get_dummies(df['Status_of_existing_checking_account'], prefix='status_exs_accnt')\n",
    "dummy_ch = pd.get_dummies(df['Credit_history'], prefix='cred_hist')\n",
    "dummy_purpose = pd.get_dummies(df['Purpose'], prefix='purpose')\n",
    "dummy_savacc = pd.get_dummies(df['Savings_account'], prefix='sav_acc')\n",
    "dummy_presc = pd.get_dummies(df['Present_employment_since'], prefix='pre_emp_snc')\n",
    "dummy_perssx = pd.get_dummies(df['Personal_status_and_sex'], prefix='per_stat_sx')\n",
    "dummy_othdts = pd.get_dummies(df['Other_debtors'], prefix='oth_debtors')\n",
    "dummy_property = pd.get_dummies(df['Property'], prefix='property')\n",
    "dummy_othinstpln = pd.get_dummies(df['Other_installment_plans'], prefix='oth_inst_plan')\n",
    "dummy_housing = pd.get_dummies(df['Housing'], prefix='housing')\n",
    "dummy_job = pd.get_dummies(df['Job'], prefix='job')\n",
    "dummy_telephn = pd.get_dummies(df['Telephone'], prefix='telephn')\n",
    "dummy_forgnwrkr = pd.get_dummies(df['Foreign worker'], prefix='forgn_wrkr')"
   ]
  },
  {
   "cell_type": "code",
   "execution_count": 20,
   "metadata": {},
   "outputs": [
    {
     "data": {
      "text/plain": [
       "Index(['status_exs_accnt_A11', 'status_exs_accnt_A12', 'status_exs_accnt_A13',\n",
       "       'status_exs_accnt_A14', 'cred_hist_A30', 'cred_hist_A31',\n",
       "       'cred_hist_A32', 'cred_hist_A33', 'cred_hist_A34', 'purpose_A40',\n",
       "       'purpose_A41', 'purpose_A410', 'purpose_A42', 'purpose_A43',\n",
       "       'purpose_A44', 'purpose_A45', 'purpose_A46', 'purpose_A48',\n",
       "       'purpose_A49', 'sav_acc_A61', 'sav_acc_A62', 'sav_acc_A63',\n",
       "       'sav_acc_A64', 'sav_acc_A65', 'pre_emp_snc_A71', 'pre_emp_snc_A72',\n",
       "       'pre_emp_snc_A73', 'pre_emp_snc_A74', 'pre_emp_snc_A75',\n",
       "       'per_stat_sx_A91', 'per_stat_sx_A92', 'per_stat_sx_A93',\n",
       "       'per_stat_sx_A94', 'oth_debtors_A101', 'oth_debtors_A102',\n",
       "       'oth_debtors_A103', 'property_A121', 'property_A122', 'property_A123',\n",
       "       'property_A124', 'oth_debtors_A101', 'oth_debtors_A102',\n",
       "       'oth_debtors_A103', 'property_A121', 'property_A122', 'property_A123',\n",
       "       'property_A124', 'oth_inst_plan_A141', 'oth_inst_plan_A142',\n",
       "       'oth_inst_plan_A143', 'housing_A151', 'housing_A152', 'housing_A153',\n",
       "       'job_A171', 'job_A172', 'job_A173', 'job_A174', 'telephn_A191',\n",
       "       'telephn_A192', 'forgn_wrkr_A201', 'forgn_wrkr_A202',\n",
       "       'Duration_in_month', 'Credit_amount',\n",
       "       'Installment_rate_in_percentage_of_disposable_income',\n",
       "       'Present_residence_since', 'Age_in_years',\n",
       "       'Number_of_existing_credits_at_this_bank',\n",
       "       'Number_of_people_being_liable_to_provide_maintenance_for', 'class'],\n",
       "      dtype='object')"
      ]
     },
     "execution_count": 20,
     "metadata": {},
     "output_type": "execute_result"
    }
   ],
   "source": [
    "credit_continuous = df[continuous_columns]\n",
    "df_new = pd.concat([dummy_stseca, dummy_ch, dummy_purpose, dummy_savacc, dummy_presc,\n",
    "                   dummy_perssx, dummy_othdts, dummy_property, dummy_othdts, dummy_property,\n",
    "                   dummy_othinstpln, dummy_housing, dummy_job, dummy_telephn, dummy_forgnwrkr, credit_continuous,\n",
    "                   df['class']], axis=1)\n",
    "df_new.columns"
   ]
  },
  {
   "cell_type": "code",
   "execution_count": 21,
   "metadata": {},
   "outputs": [],
   "source": [
    "X = df_new.iloc[:, :-1]\n",
    "y = df_new['class']"
   ]
  },
  {
   "cell_type": "code",
   "execution_count": 22,
   "metadata": {},
   "outputs": [
    {
     "name": "stdout",
     "output_type": "stream",
     "text": [
      "Feature ranking:\n",
      "62) Credit_amount                  0.098845\n",
      "65) Age_in_years                   0.075244\n",
      "61) Duration_in_month              0.071311\n",
      " 3) status_exs_accnt_A14           0.044758\n",
      " 0) status_exs_accnt_A11           0.037201\n",
      "63) Installment_rate_in_percentage_of_disposable_income 0.036452\n",
      "64) Present_residence_since        0.030673\n",
      " 8) cred_hist_A34                  0.028805\n",
      "19) sav_acc_A61                    0.021215\n",
      "66) Number_of_existing_credits_at_this_bank 0.017110\n",
      " 9) purpose_A40                    0.016858\n",
      "49) oth_inst_plan_A143             0.016119\n",
      " 1) status_exs_accnt_A12           0.015428\n",
      " 4) cred_hist_A30                  0.014393\n",
      " 6) cred_hist_A32                  0.014349\n",
      "25) pre_emp_snc_A72                0.014272\n",
      "31) per_stat_sx_A93                0.014258\n",
      "30) per_stat_sx_A92                0.014224\n",
      "55) job_A173                       0.014160\n",
      "26) pre_emp_snc_A73                0.014145\n",
      "12) purpose_A42                    0.013905\n",
      "57) telephn_A191                   0.013695\n",
      "47) oth_inst_plan_A141             0.013594\n",
      "58) telephn_A192                   0.013570\n",
      "13) purpose_A43                    0.013564\n",
      "28) pre_emp_snc_A75                0.013102\n",
      "51) housing_A152                   0.012996\n",
      "23) sav_acc_A65                    0.012667\n",
      "50) housing_A151                   0.011221\n",
      "56) job_A174                       0.011127\n",
      "27) pre_emp_snc_A74                0.010799\n",
      "36) property_A121                  0.010553\n",
      "54) job_A172                       0.010077\n",
      "18) purpose_A49                    0.010069\n",
      "38) property_A123                  0.010066\n",
      "43) property_A121                  0.009966\n",
      "67) Number_of_people_being_liable_to_provide_maintenance_for 0.009647\n",
      "10) purpose_A41                    0.009514\n",
      "37) property_A122                  0.009365\n",
      "45) property_A123                  0.009144\n",
      "44) property_A122                  0.008903\n",
      " 7) cred_hist_A33                  0.008667\n",
      "20) sav_acc_A62                    0.008488\n",
      "24) pre_emp_snc_A71                0.008400\n",
      " 5) cred_hist_A31                  0.008161\n",
      " 2) status_exs_accnt_A13           0.007622\n",
      "48) oth_inst_plan_A142             0.007342\n",
      "32) per_stat_sx_A94                0.007191\n",
      "46) property_A124                  0.007169\n",
      "40) oth_debtors_A101               0.007134\n",
      "39) property_A124                  0.006998\n",
      "29) per_stat_sx_A91                0.006835\n",
      "22) sav_acc_A64                    0.006559\n",
      "33) oth_debtors_A101               0.006390\n",
      "41) oth_debtors_A102               0.006126\n",
      "34) oth_debtors_A102               0.005994\n",
      "35) oth_debtors_A103               0.005596\n",
      "16) purpose_A46                    0.005573\n",
      "52) housing_A153                   0.005387\n",
      "21) sav_acc_A63                    0.005335\n",
      "15) purpose_A45                    0.005184\n",
      "42) oth_debtors_A103               0.005073\n",
      "59) forgn_wrkr_A201                0.002448\n",
      "60) forgn_wrkr_A202                0.002330\n",
      "14) purpose_A44                    0.002307\n",
      "53) job_A171                       0.001897\n",
      "11) purpose_A410                   0.001653\n",
      "17) purpose_A48                    0.000770\n"
     ]
    },
    {
     "data": {
      "image/png": "[encoded data removed]",
      "text/plain": [
       "<matplotlib.figure.Figure at 0x176487510f0>"
      ]
     },
     "metadata": {},
     "output_type": "display_data"
    }
   ],
   "source": [
    "plt.figure(figsize=(15, 8))\n",
    "feat_imp = feat_importances()\n",
    "feat_imp.get_feat_importances(X, y)\n",
    "        "
   ]
  },
  {
   "cell_type": "code",
   "execution_count": 23,
   "metadata": {},
   "outputs": [],
   "source": [
    "# References and credits to\n",
    "# Python Machine Learning 2nd"
   ]
  }
 ],
 "metadata": {
  "kernelspec": {
   "display_name": "Python 3",
   "language": "python",
   "name": "python3"
  },
  "language_info": {
   "codemirror_mode": {
    "name": "ipython",
    "version": 3
   },
   "file_extension": ".py",
   "mimetype": "text/x-python",
   "name": "python",
   "nbconvert_exporter": "python",
   "pygments_lexer": "ipython3",
   "version": "3.6.4"
  }
 },
 "nbformat": 4,
 "nbformat_minor": 2
}
