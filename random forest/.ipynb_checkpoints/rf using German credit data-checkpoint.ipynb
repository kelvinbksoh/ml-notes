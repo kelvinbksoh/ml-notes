{
 "cells": [
  {
   "cell_type": "code",
   "execution_count": 47,
   "metadata": {},
   "outputs": [],
   "source": [
    "import pandas as pd\n",
    "from sklearn.ensemble import RandomForestClassifier\n",
    "from sklearn.model_selection import train_test_split\n",
    "from sklearn.metrics import accuracy_score, classification_report"
   ]
  },
  {
   "cell_type": "code",
   "execution_count": 2,
   "metadata": {},
   "outputs": [],
   "source": [
    "df = pd.read_csv('../dataset/Statlog (German Credit Data) Data Set/german.data', sep=' ', header=None)\n",
    "df.columns = ['Status_of_existing_checking_account', 'Duration_in_month', 'Credit_history',\n",
    "             'Purpose', 'Credit_amount', 'Savings_account', 'Present_employment_since',\n",
    "             'Installment_rate_in_percentage_of_disposable_income', 'Personal_status_and_sex',\n",
    "             'Other_debtors', 'Present_residence_since', 'Property', 'Age_in_years',\n",
    "             'Other_installment_plans', 'Housing', 'Number_of_existing_credits_at_this_bank',\n",
    "             'Job', 'Number_of_people_being_liable_to_provide_maintenance_for', 'Telephone', 'Foreign worker', 'class']"
   ]
  },
  {
   "cell_type": "code",
   "execution_count": 3,
   "metadata": {},
   "outputs": [
    {
     "data": {
      "text/html": [
       "<div>\n",
       "<style scoped>\n",
       "    .dataframe tbody tr th:only-of-type {\n",
       "        vertical-align: middle;\n",
       "    }\n",
       "\n",
       "    .dataframe tbody tr th {\n",
       "        vertical-align: top;\n",
       "    }\n",
       "\n",
       "    .dataframe thead th {\n",
       "        text-align: right;\n",
       "    }\n",
       "</style>\n",
       "<table border=\"1\" class=\"dataframe\">\n",
       "  <thead>\n",
       "    <tr style=\"text-align: right;\">\n",
       "      <th></th>\n",
       "      <th>Status_of_existing_checking_account</th>\n",
       "      <th>Duration_in_month</th>\n",
       "      <th>Credit_history</th>\n",
       "      <th>Purpose</th>\n",
       "      <th>Credit_amount</th>\n",
       "      <th>Savings_account</th>\n",
       "      <th>Present_employment_since</th>\n",
       "      <th>Installment_rate_in_percentage_of_disposable_income</th>\n",
       "      <th>Personal_status_and_sex</th>\n",
       "      <th>Other_debtors</th>\n",
       "      <th>...</th>\n",
       "      <th>Property</th>\n",
       "      <th>Age_in_years</th>\n",
       "      <th>Other_installment_plans</th>\n",
       "      <th>Housing</th>\n",
       "      <th>Number_of_existing_credits_at_this_bank</th>\n",
       "      <th>Job</th>\n",
       "      <th>Number_of_people_being_liable_to_provide_maintenance_for</th>\n",
       "      <th>Telephone</th>\n",
       "      <th>Foreign worker</th>\n",
       "      <th>class</th>\n",
       "    </tr>\n",
       "  </thead>\n",
       "  <tbody>\n",
       "    <tr>\n",
       "      <th>0</th>\n",
       "      <td>A11</td>\n",
       "      <td>6</td>\n",
       "      <td>A34</td>\n",
       "      <td>A43</td>\n",
       "      <td>1169</td>\n",
       "      <td>A65</td>\n",
       "      <td>A75</td>\n",
       "      <td>4</td>\n",
       "      <td>A93</td>\n",
       "      <td>A101</td>\n",
       "      <td>...</td>\n",
       "      <td>A121</td>\n",
       "      <td>67</td>\n",
       "      <td>A143</td>\n",
       "      <td>A152</td>\n",
       "      <td>2</td>\n",
       "      <td>A173</td>\n",
       "      <td>1</td>\n",
       "      <td>A192</td>\n",
       "      <td>A201</td>\n",
       "      <td>1</td>\n",
       "    </tr>\n",
       "    <tr>\n",
       "      <th>1</th>\n",
       "      <td>A12</td>\n",
       "      <td>48</td>\n",
       "      <td>A32</td>\n",
       "      <td>A43</td>\n",
       "      <td>5951</td>\n",
       "      <td>A61</td>\n",
       "      <td>A73</td>\n",
       "      <td>2</td>\n",
       "      <td>A92</td>\n",
       "      <td>A101</td>\n",
       "      <td>...</td>\n",
       "      <td>A121</td>\n",
       "      <td>22</td>\n",
       "      <td>A143</td>\n",
       "      <td>A152</td>\n",
       "      <td>1</td>\n",
       "      <td>A173</td>\n",
       "      <td>1</td>\n",
       "      <td>A191</td>\n",
       "      <td>A201</td>\n",
       "      <td>2</td>\n",
       "    </tr>\n",
       "    <tr>\n",
       "      <th>2</th>\n",
       "      <td>A14</td>\n",
       "      <td>12</td>\n",
       "      <td>A34</td>\n",
       "      <td>A46</td>\n",
       "      <td>2096</td>\n",
       "      <td>A61</td>\n",
       "      <td>A74</td>\n",
       "      <td>2</td>\n",
       "      <td>A93</td>\n",
       "      <td>A101</td>\n",
       "      <td>...</td>\n",
       "      <td>A121</td>\n",
       "      <td>49</td>\n",
       "      <td>A143</td>\n",
       "      <td>A152</td>\n",
       "      <td>1</td>\n",
       "      <td>A172</td>\n",
       "      <td>2</td>\n",
       "      <td>A191</td>\n",
       "      <td>A201</td>\n",
       "      <td>1</td>\n",
       "    </tr>\n",
       "    <tr>\n",
       "      <th>3</th>\n",
       "      <td>A11</td>\n",
       "      <td>42</td>\n",
       "      <td>A32</td>\n",
       "      <td>A42</td>\n",
       "      <td>7882</td>\n",
       "      <td>A61</td>\n",
       "      <td>A74</td>\n",
       "      <td>2</td>\n",
       "      <td>A93</td>\n",
       "      <td>A103</td>\n",
       "      <td>...</td>\n",
       "      <td>A122</td>\n",
       "      <td>45</td>\n",
       "      <td>A143</td>\n",
       "      <td>A153</td>\n",
       "      <td>1</td>\n",
       "      <td>A173</td>\n",
       "      <td>2</td>\n",
       "      <td>A191</td>\n",
       "      <td>A201</td>\n",
       "      <td>1</td>\n",
       "    </tr>\n",
       "    <tr>\n",
       "      <th>4</th>\n",
       "      <td>A11</td>\n",
       "      <td>24</td>\n",
       "      <td>A33</td>\n",
       "      <td>A40</td>\n",
       "      <td>4870</td>\n",
       "      <td>A61</td>\n",
       "      <td>A73</td>\n",
       "      <td>3</td>\n",
       "      <td>A93</td>\n",
       "      <td>A101</td>\n",
       "      <td>...</td>\n",
       "      <td>A124</td>\n",
       "      <td>53</td>\n",
       "      <td>A143</td>\n",
       "      <td>A153</td>\n",
       "      <td>2</td>\n",
       "      <td>A173</td>\n",
       "      <td>2</td>\n",
       "      <td>A191</td>\n",
       "      <td>A201</td>\n",
       "      <td>2</td>\n",
       "    </tr>\n",
       "  </tbody>\n",
       "</table>\n",
       "<p>5 rows × 21 columns</p>\n",
       "</div>"
      ],
      "text/plain": [
       "  Status_of_existing_checking_account  Duration_in_month Credit_history  \\\n",
       "0                                 A11                  6            A34   \n",
       "1                                 A12                 48            A32   \n",
       "2                                 A14                 12            A34   \n",
       "3                                 A11                 42            A32   \n",
       "4                                 A11                 24            A33   \n",
       "\n",
       "  Purpose  Credit_amount Savings_account Present_employment_since  \\\n",
       "0     A43           1169             A65                      A75   \n",
       "1     A43           5951             A61                      A73   \n",
       "2     A46           2096             A61                      A74   \n",
       "3     A42           7882             A61                      A74   \n",
       "4     A40           4870             A61                      A73   \n",
       "\n",
       "   Installment_rate_in_percentage_of_disposable_income  \\\n",
       "0                                                  4     \n",
       "1                                                  2     \n",
       "2                                                  2     \n",
       "3                                                  2     \n",
       "4                                                  3     \n",
       "\n",
       "  Personal_status_and_sex Other_debtors  ...   Property Age_in_years  \\\n",
       "0                     A93          A101  ...       A121           67   \n",
       "1                     A92          A101  ...       A121           22   \n",
       "2                     A93          A101  ...       A121           49   \n",
       "3                     A93          A103  ...       A122           45   \n",
       "4                     A93          A101  ...       A124           53   \n",
       "\n",
       "   Other_installment_plans Housing Number_of_existing_credits_at_this_bank  \\\n",
       "0                     A143    A152                                       2   \n",
       "1                     A143    A152                                       1   \n",
       "2                     A143    A152                                       1   \n",
       "3                     A143    A153                                       1   \n",
       "4                     A143    A153                                       2   \n",
       "\n",
       "    Job Number_of_people_being_liable_to_provide_maintenance_for  Telephone  \\\n",
       "0  A173                                                  1             A192   \n",
       "1  A173                                                  1             A191   \n",
       "2  A172                                                  2             A191   \n",
       "3  A173                                                  2             A191   \n",
       "4  A173                                                  2             A191   \n",
       "\n",
       "  Foreign worker class  \n",
       "0           A201     1  \n",
       "1           A201     2  \n",
       "2           A201     1  \n",
       "3           A201     1  \n",
       "4           A201     2  \n",
       "\n",
       "[5 rows x 21 columns]"
      ]
     },
     "execution_count": 3,
     "metadata": {},
     "output_type": "execute_result"
    }
   ],
   "source": [
    "df.head()"
   ]
  },
  {
   "cell_type": "code",
   "execution_count": 4,
   "metadata": {},
   "outputs": [],
   "source": [
    "df['class'] = df['class'] - 1"
   ]
  },
  {
   "cell_type": "markdown",
   "metadata": {},
   "source": [
    "Creation of dummy variables for categorical data"
   ]
  },
  {
   "cell_type": "code",
   "execution_count": 7,
   "metadata": {},
   "outputs": [
    {
     "data": {
      "text/plain": [
       "['Status_of_existing_checking_account',\n",
       " 'Duration_in_month',\n",
       " 'Credit_history',\n",
       " 'Purpose',\n",
       " 'Credit_amount',\n",
       " 'Savings_account',\n",
       " 'Present_employment_since',\n",
       " 'Installment_rate_in_percentage_of_disposable_income',\n",
       " 'Personal_status_and_sex',\n",
       " 'Other_debtors',\n",
       " 'Present_residence_since',\n",
       " 'Property',\n",
       " 'Age_in_years',\n",
       " 'Other_installment_plans',\n",
       " 'Housing',\n",
       " 'Number_of_existing_credits_at_this_bank',\n",
       " 'Job',\n",
       " 'Number_of_people_being_liable_to_provide_maintenance_for',\n",
       " 'Telephone',\n",
       " 'Foreign worker',\n",
       " 'class']"
      ]
     },
     "execution_count": 7,
     "metadata": {},
     "output_type": "execute_result"
    }
   ],
   "source": [
    "list(df.columns.values)"
   ]
  },
  {
   "cell_type": "code",
   "execution_count": 8,
   "metadata": {},
   "outputs": [],
   "source": [
    "discrete_columns, continuous_columns = [], []\n",
    "for i, j in enumerate(df.dtypes[:-1]): ## select columns up till class\n",
    "    if j == object:\n",
    "        discrete_columns.append(df.columns[i])\n",
    "    else:\n",
    "        continuous_columns.append(df.columns[i])"
   ]
  },
  {
   "cell_type": "code",
   "execution_count": 11,
   "metadata": {},
   "outputs": [
    {
     "data": {
      "text/plain": [
       "['Status_of_existing_checking_account',\n",
       " 'Credit_history',\n",
       " 'Purpose',\n",
       " 'Savings_account',\n",
       " 'Present_employment_since',\n",
       " 'Personal_status_and_sex',\n",
       " 'Other_debtors',\n",
       " 'Property',\n",
       " 'Other_installment_plans',\n",
       " 'Housing',\n",
       " 'Job',\n",
       " 'Telephone',\n",
       " 'Foreign worker']"
      ]
     },
     "execution_count": 11,
     "metadata": {},
     "output_type": "execute_result"
    }
   ],
   "source": [
    "discrete_columns"
   ]
  },
  {
   "cell_type": "code",
   "execution_count": 13,
   "metadata": {},
   "outputs": [
    {
     "data": {
      "text/plain": [
       "['Duration_in_month',\n",
       " 'Credit_amount',\n",
       " 'Installment_rate_in_percentage_of_disposable_income',\n",
       " 'Present_residence_since',\n",
       " 'Age_in_years',\n",
       " 'Number_of_existing_credits_at_this_bank',\n",
       " 'Number_of_people_being_liable_to_provide_maintenance_for']"
      ]
     },
     "execution_count": 13,
     "metadata": {},
     "output_type": "execute_result"
    }
   ],
   "source": [
    "continuous_columns"
   ]
  },
  {
   "cell_type": "code",
   "execution_count": 15,
   "metadata": {},
   "outputs": [],
   "source": [
    "dummy_stseca = pd.get_dummies(df['Status_of_existing_checking_account'], prefix='status_exs_accnt')\n",
    "dummy_ch = pd.get_dummies(df['Credit_history'], prefix='cred_hist')\n",
    "dummy_purpose = pd.get_dummies(df['Purpose'], prefix='purpose')\n",
    "dummy_savacc = pd.get_dummies(df['Savings_account'], prefix='sav_acc')\n",
    "dummy_presc = pd.get_dummies(df['Present_employment_since'], prefix='pre_emp_snc')\n",
    "dummy_perssx = pd.get_dummies(df['Personal_status_and_sex'], prefix='per_stat_sx')\n",
    "dummy_othdts = pd.get_dummies(df['Other_debtors'], prefix='oth_debtors')\n",
    "dummy_property = pd.get_dummies(df['Property'], prefix='property')\n",
    "dummy_othinstpln = pd.get_dummies(df['Other_installment_plans'], prefix='oth_inst_plan')\n",
    "dummy_housing = pd.get_dummies(df['Housing'], prefix='housing')\n",
    "dummy_job = pd.get_dummies(df['Job'], prefix='job')\n",
    "dummy_telephn = pd.get_dummies(df['Telephone'], prefix='telephn')\n",
    "dummy_forgnwrkr = pd.get_dummies(df['Foreign worker'], prefix='forgn_wrkr')"
   ]
  },
  {
   "cell_type": "code",
   "execution_count": 16,
   "metadata": {},
   "outputs": [],
   "source": [
    "credit_continuous = df[continuous_columns]"
   ]
  },
  {
   "cell_type": "code",
   "execution_count": 18,
   "metadata": {},
   "outputs": [],
   "source": [
    "df_new = pd.concat([dummy_stseca, dummy_ch, dummy_purpose, dummy_savacc, dummy_presc,\n",
    "                   dummy_perssx, dummy_othdts, dummy_property, dummy_othdts, dummy_property,\n",
    "                   dummy_othinstpln, dummy_housing, dummy_job, dummy_telephn, dummy_forgnwrkr, credit_continuous,\n",
    "                   df['class']], axis=1)"
   ]
  },
  {
   "cell_type": "code",
   "execution_count": 20,
   "metadata": {},
   "outputs": [
    {
     "data": {
      "text/plain": [
       "Index(['status_exs_accnt_A11', 'status_exs_accnt_A12', 'status_exs_accnt_A13',\n",
       "       'status_exs_accnt_A14', 'cred_hist_A30', 'cred_hist_A31',\n",
       "       'cred_hist_A32', 'cred_hist_A33', 'cred_hist_A34', 'purpose_A40',\n",
       "       'purpose_A41', 'purpose_A410', 'purpose_A42', 'purpose_A43',\n",
       "       'purpose_A44', 'purpose_A45', 'purpose_A46', 'purpose_A48',\n",
       "       'purpose_A49', 'sav_acc_A61', 'sav_acc_A62', 'sav_acc_A63',\n",
       "       'sav_acc_A64', 'sav_acc_A65', 'pre_emp_snc_A71', 'pre_emp_snc_A72',\n",
       "       'pre_emp_snc_A73', 'pre_emp_snc_A74', 'pre_emp_snc_A75',\n",
       "       'per_stat_sx_A91', 'per_stat_sx_A92', 'per_stat_sx_A93',\n",
       "       'per_stat_sx_A94', 'oth_debtors_A101', 'oth_debtors_A102',\n",
       "       'oth_debtors_A103', 'property_A121', 'property_A122', 'property_A123',\n",
       "       'property_A124', 'oth_debtors_A101', 'oth_debtors_A102',\n",
       "       'oth_debtors_A103', 'property_A121', 'property_A122', 'property_A123',\n",
       "       'property_A124', 'oth_inst_plan_A141', 'oth_inst_plan_A142',\n",
       "       'oth_inst_plan_A143', 'housing_A151', 'housing_A152', 'housing_A153',\n",
       "       'job_A171', 'job_A172', 'job_A173', 'job_A174', 'telephn_A191',\n",
       "       'telephn_A192', 'forgn_wrkr_A201', 'forgn_wrkr_A202',\n",
       "       'Duration_in_month', 'Credit_amount',\n",
       "       'Installment_rate_in_percentage_of_disposable_income',\n",
       "       'Present_residence_since', 'Age_in_years',\n",
       "       'Number_of_existing_credits_at_this_bank',\n",
       "       'Number_of_people_being_liable_to_provide_maintenance_for', 'class'],\n",
       "      dtype='object')"
      ]
     },
     "execution_count": 20,
     "metadata": {},
     "output_type": "execute_result"
    }
   ],
   "source": [
    "df_new.columns"
   ]
  },
  {
   "cell_type": "code",
   "execution_count": 28,
   "metadata": {},
   "outputs": [],
   "source": [
    "X = df_new.iloc[:, :-1]\n",
    "y = df_new['class']"
   ]
  },
  {
   "cell_type": "code",
   "execution_count": 31,
   "metadata": {},
   "outputs": [],
   "source": [
    "X_train, X_test, y_train, y_test = train_test_split(X, y, test_size=0.3, random_state=42)"
   ]
  },
  {
   "cell_type": "markdown",
   "metadata": {},
   "source": [
    "The random forest ML model is applied with assumed hyperparameter values, as follows:\n",
    "-  Number of trees is 1000\n",
    "-  Criterion of slitting is gini\n",
    "-  Maximum depth each decision tree can grow is 100\n",
    "-  Minimum observations required at each not to be eligible for splitting is 3\n",
    "-  Minimum number of observations in tree node should be 2"
   ]
  },
  {
   "cell_type": "code",
   "execution_count": 42,
   "metadata": {},
   "outputs": [
    {
     "name": "stdout",
     "output_type": "stream",
     "text": [
      "Random Forest - Train Confusion Matrix\n",
      "\n",
      "Predicted    0    1\n",
      "Actuall            \n",
      "0          491    0\n",
      "1           30  179\n",
      "\n",
      "Random Forest - Train accuracy 0.957\n",
      "\n",
      "Random Forest - Test Confusion Matrix\n",
      "\n",
      "Predicted    0   1\n",
      "Actual            \n",
      "0          198  11\n",
      "1           63  28\n",
      "\n",
      "Random Forest - Test accuracy 0.753\n"
     ]
    }
   ],
   "source": [
    "rf_fit = RandomForestClassifier(n_estimators=1000, criterion='gini', max_depth=100, min_samples_split=3, min_samples_leaf=2)\n",
    "rf_fit.fit(X_train, y_train)\n",
    "print('Random Forest - Train Confusion Matrix\\n\\n', pd.crosstab(y_train, rf_fit.predict(X_train),\n",
    "                                                             rownames=['Actuall'], colnames=['Predicted']), sep=\"\")\n",
    "print('\\nRandom Forest - Train accuracy', round(accuracy_score(y_train, rf_fit.predict(X_train)), 3))\n",
    "\n",
    "print('\\nRandom Forest - Test Confusion Matrix\\n\\n', pd.crosstab(y_test, rf_fit.predict(X_test),\n",
    "                                                                rownames=['Actual'], colnames=['Predicted']), sep=\"\")\n",
    "print('\\nRandom Forest - Test accuracy', round(accuracy_score(y_test, rf_fit.predict(X_test)), 3))"
   ]
  },
  {
   "cell_type": "markdown",
   "metadata": {},
   "source": [
    "Tuning and optimizing hyperparameters with grid search\n",
    "\n",
    "-  Number of tree is (1000, 2000, 3000)\n",
    "-  Maximum depth is (100, 200, 300)\n",
    "-  Minimum samples per split are (2, 3)\n",
    "-  Minimum samples in leaf node are (1,2)"
   ]
  },
  {
   "cell_type": "code",
   "execution_count": 43,
   "metadata": {},
   "outputs": [],
   "source": [
    "from sklearn.pipeline import Pipeline #\n",
    "from sklearn.model_selection import train_test_split, GridSearchCV"
   ]
  },
  {
   "cell_type": "code",
   "execution_count": 46,
   "metadata": {},
   "outputs": [],
   "source": [
    "# The Pipeline function creates the combinations which will be applied one by one \n",
    "# sequentially to determine the best possible combination:\n",
    "pipeline = Pipeline([('clf', RandomForestClassifier(criterion='gini'))])\n",
    "parameters = {\n",
    "    'clf__n_estimators': (1000, 2000, 3000),\n",
    "    'clf__max_depth': (100, 200, 300),\n",
    "    'clf__min_samples_split': (2, 3),\n",
    "    'clf__min_samples_leaf': (1, 2)\n",
    "}"
   ]
  },
  {
   "cell_type": "markdown",
   "metadata": {},
   "source": [
    "In the following, grid search utilizes cross-validation of five to ensure robustness in the\n",
    "model, which is the ML way of creating two-point validation of the model:"
   ]
  },
  {
   "cell_type": "code",
   "execution_count": 48,
   "metadata": {},
   "outputs": [
    {
     "name": "stdout",
     "output_type": "stream",
     "text": [
      "Fitting 5 folds for each of 36 candidates, totalling 180 fits\n"
     ]
    },
    {
     "name": "stderr",
     "output_type": "stream",
     "text": [
      "[Parallel(n_jobs=-1)]: Done  34 tasks      | elapsed:   23.4s\n",
      "[Parallel(n_jobs=-1)]: Done 180 out of 180 | elapsed:  1.9min finished\n"
     ]
    },
    {
     "name": "stdout",
     "output_type": "stream",
     "text": [
      "Best Training score: 0.773\n",
      "Best parameters set:\n",
      "\tclf__max_depth: 200\n",
      "\tclf__min_samples_leaf: 2\n",
      "\tclf__min_samples_split: 3\n",
      "\tclf__n_estimators: 1000\n",
      "Testing accuracy: 0.7467\n",
      "\n",
      "Complete report of Testing data\n",
      "              precision    recall  f1-score   support\n",
      "\n",
      "          0       0.76      0.94      0.84       209\n",
      "          1       0.68      0.31      0.42        91\n",
      "\n",
      "avg / total       0.73      0.75      0.71       300\n",
      "\n",
      "\n",
      "\n",
      "Random Forest Grid Search - Test Confusion Matrix\n",
      "\n",
      "Predicted    0   1\n",
      "Actuall           \n",
      "0          196  13\n",
      "1           63  28\n"
     ]
    }
   ],
   "source": [
    "grid_search = GridSearchCV(pipeline, parameters, n_jobs=-1, cv=5, verbose=1, scoring='accuracy')\n",
    "grid_search.fit(X_train, y_train)\n",
    "\n",
    "print('Best Training score: %0.3f' % grid_search.best_score_)\n",
    "print('Best parameters set:')\n",
    "best_parameters = grid_search.best_estimator_.get_params()\n",
    "for param_name in sorted(parameters.keys()):\n",
    "    print('\\t%s: %r' % (param_name, best_parameters[param_name]))\n",
    "\n",
    "predictions = grid_search.predict(X_test)\n",
    "print(\"Testing accuracy:\", round(accuracy_score(y_test, predictions), 4))\n",
    "print(\"\\nComplete report of Testing data\\n\", classification_report(y_test, predictions))\n",
    "\n",
    "print(\"\\n\\nRandom Forest Grid Search - Test Confusion Matrix\\n\\n\",\n",
    "     pd.crosstab(y_test, predictions, rownames=['Actuall'], colnames=['Predicted']), sep=\"\")"
   ]
  },
  {
   "cell_type": "code",
   "execution_count": null,
   "metadata": {},
   "outputs": [],
   "source": [
    "# References and credits to\n",
    "# Statistics for Machine Learning"
   ]
  }
 ],
 "metadata": {
  "kernelspec": {
   "display_name": "Python 3",
   "language": "python",
   "name": "python3"
  },
  "language_info": {
   "codemirror_mode": {
    "name": "ipython",
    "version": 3
   },
   "file_extension": ".py",
   "mimetype": "text/x-python",
   "name": "python",
   "nbconvert_exporter": "python",
   "pygments_lexer": "ipython3",
   "version": "3.6.4"
  }
 },
 "nbformat": 4,
 "nbformat_minor": 2
}
