{
 "cells": [
  {
   "cell_type": "markdown",
   "metadata": {},
   "source": [
    "### Logistic regression using German credit data"
   ]
  },
  {
   "cell_type": "code",
   "execution_count": 225,
   "metadata": {},
   "outputs": [],
   "source": [
    "import numpy as np\n",
    "import pandas as pd\n",
    "from sklearn.model_selection import train_test_split\n",
    "from sklearn.metrics import accuracy_score, classification_report"
   ]
  },
  {
   "cell_type": "code",
   "execution_count": 226,
   "metadata": {},
   "outputs": [],
   "source": [
    "df = pd.read_csv('../dataset/Statlog (German Credit Data) Data Set/german.data', sep=' ', header=None)\n",
    "df.columns = ['Status_of_existing_checking_account', 'Duration_in_month', 'Credit_history',\n",
    "             'Purpose', 'Credit_amount', 'Savings_account', 'Present_employment_since',\n",
    "             'Installment_rate_in_percentage_of_disposable_income', 'Personal_status_and_sex',\n",
    "             'Other_debtors', 'Present_residence_since', 'Property', 'Age_in_years',\n",
    "             'Other_installment_plans', 'Housing', 'Number_of_existing_credits_at_this_bank',\n",
    "             'Job', 'Number_of_people_being_liable_to_provide_maintenance_for', 'Telephone', 'Foreign worker', 'class']"
   ]
  },
  {
   "cell_type": "code",
   "execution_count": 227,
   "metadata": {},
   "outputs": [
    {
     "data": {
      "text/html": [
       "<div>\n",
       "<style scoped>\n",
       "    .dataframe tbody tr th:only-of-type {\n",
       "        vertical-align: middle;\n",
       "    }\n",
       "\n",
       "    .dataframe tbody tr th {\n",
       "        vertical-align: top;\n",
       "    }\n",
       "\n",
       "    .dataframe thead th {\n",
       "        text-align: right;\n",
       "    }\n",
       "</style>\n",
       "<table border=\"1\" class=\"dataframe\">\n",
       "  <thead>\n",
       "    <tr style=\"text-align: right;\">\n",
       "      <th></th>\n",
       "      <th>Status_of_existing_checking_account</th>\n",
       "      <th>Duration_in_month</th>\n",
       "      <th>Credit_history</th>\n",
       "      <th>Purpose</th>\n",
       "      <th>Credit_amount</th>\n",
       "      <th>Savings_account</th>\n",
       "      <th>Present_employment_since</th>\n",
       "      <th>Installment_rate_in_percentage_of_disposable_income</th>\n",
       "      <th>Personal_status_and_sex</th>\n",
       "      <th>Other_debtors</th>\n",
       "      <th>...</th>\n",
       "      <th>Property</th>\n",
       "      <th>Age_in_years</th>\n",
       "      <th>Other_installment_plans</th>\n",
       "      <th>Housing</th>\n",
       "      <th>Number_of_existing_credits_at_this_bank</th>\n",
       "      <th>Job</th>\n",
       "      <th>Number_of_people_being_liable_to_provide_maintenance_for</th>\n",
       "      <th>Telephone</th>\n",
       "      <th>Foreign worker</th>\n",
       "      <th>class</th>\n",
       "    </tr>\n",
       "  </thead>\n",
       "  <tbody>\n",
       "    <tr>\n",
       "      <th>0</th>\n",
       "      <td>A11</td>\n",
       "      <td>6</td>\n",
       "      <td>A34</td>\n",
       "      <td>A43</td>\n",
       "      <td>1169</td>\n",
       "      <td>A65</td>\n",
       "      <td>A75</td>\n",
       "      <td>4</td>\n",
       "      <td>A93</td>\n",
       "      <td>A101</td>\n",
       "      <td>...</td>\n",
       "      <td>A121</td>\n",
       "      <td>67</td>\n",
       "      <td>A143</td>\n",
       "      <td>A152</td>\n",
       "      <td>2</td>\n",
       "      <td>A173</td>\n",
       "      <td>1</td>\n",
       "      <td>A192</td>\n",
       "      <td>A201</td>\n",
       "      <td>1</td>\n",
       "    </tr>\n",
       "    <tr>\n",
       "      <th>1</th>\n",
       "      <td>A12</td>\n",
       "      <td>48</td>\n",
       "      <td>A32</td>\n",
       "      <td>A43</td>\n",
       "      <td>5951</td>\n",
       "      <td>A61</td>\n",
       "      <td>A73</td>\n",
       "      <td>2</td>\n",
       "      <td>A92</td>\n",
       "      <td>A101</td>\n",
       "      <td>...</td>\n",
       "      <td>A121</td>\n",
       "      <td>22</td>\n",
       "      <td>A143</td>\n",
       "      <td>A152</td>\n",
       "      <td>1</td>\n",
       "      <td>A173</td>\n",
       "      <td>1</td>\n",
       "      <td>A191</td>\n",
       "      <td>A201</td>\n",
       "      <td>2</td>\n",
       "    </tr>\n",
       "    <tr>\n",
       "      <th>2</th>\n",
       "      <td>A14</td>\n",
       "      <td>12</td>\n",
       "      <td>A34</td>\n",
       "      <td>A46</td>\n",
       "      <td>2096</td>\n",
       "      <td>A61</td>\n",
       "      <td>A74</td>\n",
       "      <td>2</td>\n",
       "      <td>A93</td>\n",
       "      <td>A101</td>\n",
       "      <td>...</td>\n",
       "      <td>A121</td>\n",
       "      <td>49</td>\n",
       "      <td>A143</td>\n",
       "      <td>A152</td>\n",
       "      <td>1</td>\n",
       "      <td>A172</td>\n",
       "      <td>2</td>\n",
       "      <td>A191</td>\n",
       "      <td>A201</td>\n",
       "      <td>1</td>\n",
       "    </tr>\n",
       "    <tr>\n",
       "      <th>3</th>\n",
       "      <td>A11</td>\n",
       "      <td>42</td>\n",
       "      <td>A32</td>\n",
       "      <td>A42</td>\n",
       "      <td>7882</td>\n",
       "      <td>A61</td>\n",
       "      <td>A74</td>\n",
       "      <td>2</td>\n",
       "      <td>A93</td>\n",
       "      <td>A103</td>\n",
       "      <td>...</td>\n",
       "      <td>A122</td>\n",
       "      <td>45</td>\n",
       "      <td>A143</td>\n",
       "      <td>A153</td>\n",
       "      <td>1</td>\n",
       "      <td>A173</td>\n",
       "      <td>2</td>\n",
       "      <td>A191</td>\n",
       "      <td>A201</td>\n",
       "      <td>1</td>\n",
       "    </tr>\n",
       "    <tr>\n",
       "      <th>4</th>\n",
       "      <td>A11</td>\n",
       "      <td>24</td>\n",
       "      <td>A33</td>\n",
       "      <td>A40</td>\n",
       "      <td>4870</td>\n",
       "      <td>A61</td>\n",
       "      <td>A73</td>\n",
       "      <td>3</td>\n",
       "      <td>A93</td>\n",
       "      <td>A101</td>\n",
       "      <td>...</td>\n",
       "      <td>A124</td>\n",
       "      <td>53</td>\n",
       "      <td>A143</td>\n",
       "      <td>A153</td>\n",
       "      <td>2</td>\n",
       "      <td>A173</td>\n",
       "      <td>2</td>\n",
       "      <td>A191</td>\n",
       "      <td>A201</td>\n",
       "      <td>2</td>\n",
       "    </tr>\n",
       "  </tbody>\n",
       "</table>\n",
       "<p>5 rows × 21 columns</p>\n",
       "</div>"
      ],
      "text/plain": [
       "  Status_of_existing_checking_account  Duration_in_month Credit_history  \\\n",
       "0                                 A11                  6            A34   \n",
       "1                                 A12                 48            A32   \n",
       "2                                 A14                 12            A34   \n",
       "3                                 A11                 42            A32   \n",
       "4                                 A11                 24            A33   \n",
       "\n",
       "  Purpose  Credit_amount Savings_account Present_employment_since  \\\n",
       "0     A43           1169             A65                      A75   \n",
       "1     A43           5951             A61                      A73   \n",
       "2     A46           2096             A61                      A74   \n",
       "3     A42           7882             A61                      A74   \n",
       "4     A40           4870             A61                      A73   \n",
       "\n",
       "   Installment_rate_in_percentage_of_disposable_income  \\\n",
       "0                                                  4     \n",
       "1                                                  2     \n",
       "2                                                  2     \n",
       "3                                                  2     \n",
       "4                                                  3     \n",
       "\n",
       "  Personal_status_and_sex Other_debtors  ...   Property Age_in_years  \\\n",
       "0                     A93          A101  ...       A121           67   \n",
       "1                     A92          A101  ...       A121           22   \n",
       "2                     A93          A101  ...       A121           49   \n",
       "3                     A93          A103  ...       A122           45   \n",
       "4                     A93          A101  ...       A124           53   \n",
       "\n",
       "   Other_installment_plans Housing Number_of_existing_credits_at_this_bank  \\\n",
       "0                     A143    A152                                       2   \n",
       "1                     A143    A152                                       1   \n",
       "2                     A143    A152                                       1   \n",
       "3                     A143    A153                                       1   \n",
       "4                     A143    A153                                       2   \n",
       "\n",
       "    Job Number_of_people_being_liable_to_provide_maintenance_for  Telephone  \\\n",
       "0  A173                                                  1             A192   \n",
       "1  A173                                                  1             A191   \n",
       "2  A172                                                  2             A191   \n",
       "3  A173                                                  2             A191   \n",
       "4  A173                                                  2             A191   \n",
       "\n",
       "  Foreign worker class  \n",
       "0           A201     1  \n",
       "1           A201     2  \n",
       "2           A201     1  \n",
       "3           A201     1  \n",
       "4           A201     2  \n",
       "\n",
       "[5 rows x 21 columns]"
      ]
     },
     "execution_count": 227,
     "metadata": {},
     "output_type": "execute_result"
    }
   ],
   "source": [
    "df.head()"
   ]
  },
  {
   "cell_type": "code",
   "execution_count": 228,
   "metadata": {},
   "outputs": [
    {
     "data": {
      "text/plain": [
       "array([1, 2], dtype=int64)"
      ]
     },
     "execution_count": 228,
     "metadata": {},
     "output_type": "execute_result"
    }
   ],
   "source": [
    "df['class'].unique()"
   ]
  },
  {
   "cell_type": "code",
   "execution_count": 229,
   "metadata": {},
   "outputs": [],
   "source": [
    "# We need to model our target variable as 0-1 problem, thus\n",
    "df['class'] = df['class'] - 1"
   ]
  },
  {
   "cell_type": "code",
   "execution_count": 230,
   "metadata": {},
   "outputs": [
    {
     "name": "stdout",
     "output_type": "stream",
     "text": [
      "<class 'pandas.core.frame.DataFrame'>\n",
      "RangeIndex: 1000 entries, 0 to 999\n",
      "Data columns (total 21 columns):\n",
      "Status_of_existing_checking_account                         1000 non-null object\n",
      "Duration_in_month                                           1000 non-null int64\n",
      "Credit_history                                              1000 non-null object\n",
      "Purpose                                                     1000 non-null object\n",
      "Credit_amount                                               1000 non-null int64\n",
      "Savings_account                                             1000 non-null object\n",
      "Present_employment_since                                    1000 non-null object\n",
      "Installment_rate_in_percentage_of_disposable_income         1000 non-null int64\n",
      "Personal_status_and_sex                                     1000 non-null object\n",
      "Other_debtors                                               1000 non-null object\n",
      "Present_residence_since                                     1000 non-null int64\n",
      "Property                                                    1000 non-null object\n",
      "Age_in_years                                                1000 non-null int64\n",
      "Other_installment_plans                                     1000 non-null object\n",
      "Housing                                                     1000 non-null object\n",
      "Number_of_existing_credits_at_this_bank                     1000 non-null int64\n",
      "Job                                                         1000 non-null object\n",
      "Number_of_people_being_liable_to_provide_maintenance_for    1000 non-null int64\n",
      "Telephone                                                   1000 non-null object\n",
      "Foreign worker                                              1000 non-null object\n",
      "class                                                       1000 non-null int64\n",
      "dtypes: int64(8), object(13)\n",
      "memory usage: 164.1+ KB\n"
     ]
    }
   ],
   "source": [
    "df.info()"
   ]
  },
  {
   "cell_type": "code",
   "execution_count": 231,
   "metadata": {},
   "outputs": [],
   "source": [
    "def IV_calc(data, var):\n",
    "    if data[var].dtypes == 'object':\n",
    "        dataf = data.groupby([var])['class'].agg(['count', 'sum'])\n",
    "        dataf.columns = ['Total', 'bad']\n",
    "        dataf['good'] = dataf['Total' ] - dataf['bad']\n",
    "        dataf['bad_per'] = dataf['bad'] / dataf['bad'].sum()\n",
    "        dataf['good_per'] = dataf['good'] / dataf['good'].sum()\n",
    "        dataf[\"I_V\"] = (dataf['good_per'] - dataf['bad_per']) * np.log(dataf['good_per'] / dataf['bad_per'])\n",
    "        # print(\"Total_IV: \", round(dataf[\"I_V\"].sum(), 5))\n",
    "        return dataf\n",
    "    else:\n",
    "        data['bin_var'] = pd.qcut(data[var].rank(method='first'),10)\n",
    "        dataf = data.groupby(['bin_var'])['class'].agg(['count','sum'])\n",
    "        dataf.columns = [\"Total\",\"bad\"]    \n",
    "        dataf[\"good\"] = dataf[\"Total\"] - dataf[\"bad\"]\n",
    "        dataf[\"bad_per\"] = dataf[\"bad\"]/dataf[\"bad\"].sum()\n",
    "        dataf[\"good_per\"] = dataf[\"good\"]/dataf[\"good\"].sum()\n",
    "        dataf[\"I_V\"] = (dataf[\"good_per\"] - dataf[\"bad_per\"]) * np.log(dataf[\"good_per\"]/dataf[\"bad_per\"])\n",
    "        # print(\"Total_IV: \", round(dataf[\"I_V\"].sum(), 5))\n",
    "        return dataf"
   ]
  },
  {
   "cell_type": "code",
   "execution_count": 232,
   "metadata": {},
   "outputs": [
    {
     "name": "stdout",
     "output_type": "stream",
     "text": [
      "Credit History - Information Value\n",
      "                Total  bad  good   bad_per  good_per       I_V\n",
      "Credit_history                                                \n",
      "A30                40   25    15  0.083333  0.021429  0.084074\n",
      "A31                49   28    21  0.093333  0.030000  0.071882\n",
      "A32               530  169   361  0.563333  0.515714  0.004206\n",
      "A33                88   28    60  0.093333  0.085714  0.000649\n",
      "A34               293   50   243  0.166667  0.347143  0.132423\n",
      "\n",
      "Total IV: 0.29323\n"
     ]
    }
   ],
   "source": [
    "IV_table = IV_calc(df, 'Credit_history')\n",
    "print(\"Credit History - Information Value\")\n",
    "print(IV_table)\n",
    "print(\"\\nTotal IV:\", round(IV_table['I_V'].sum(), 5))"
   ]
  },
  {
   "cell_type": "code",
   "execution_count": 233,
   "metadata": {},
   "outputs": [
    {
     "name": "stdout",
     "output_type": "stream",
     "text": [
      "Credit History - Information Value\n",
      "                 Total  bad  good   bad_per  good_per       I_V\n",
      "bin_var                                                        \n",
      "(0.999, 100.9]     100   11    89  0.036667  0.127143  0.112502\n",
      "(100.9, 200.8]     100   20    80  0.066667  0.114286  0.025667\n",
      "(200.8, 300.7]     100   27    73  0.090000  0.104286  0.002105\n",
      "(300.7, 400.6]     100   25    75  0.083333  0.107143  0.005984\n",
      "(400.6, 500.5]     100   26    74  0.086667  0.105714  0.003784\n",
      "(500.5, 600.4]     100   38    62  0.126667  0.088571  0.013629\n",
      "(600.4, 700.3]     100   32    68  0.106667  0.097143  0.000891\n",
      "(700.3, 800.2]     100   31    69  0.103333  0.098571  0.000225\n",
      "(800.2, 900.1]     100   42    58  0.140000  0.082857  0.029973\n",
      "(900.1, 1000.0]    100   48    52  0.160000  0.074286  0.065765\n",
      "\n",
      "Total IV: 0.26052\n"
     ]
    }
   ],
   "source": [
    "IV_table = IV_calc(df, 'Duration_in_month')\n",
    "print(\"Credit History - Information Value\")\n",
    "print(IV_table)\n",
    "print(\"\\nTotal IV:\", round(IV_table['I_V'].sum(), 5))"
   ]
  },
  {
   "cell_type": "markdown",
   "metadata": {},
   "source": [
    "Code to calculate the IV for discrete and continuous variables in one go"
   ]
  },
  {
   "cell_type": "code",
   "execution_count": 234,
   "metadata": {},
   "outputs": [
    {
     "name": "stdout",
     "output_type": "stream",
     "text": [
      "<class 'pandas.core.frame.DataFrame'>\n",
      "RangeIndex: 1000 entries, 0 to 999\n",
      "Data columns (total 22 columns):\n",
      "Status_of_existing_checking_account                         1000 non-null object\n",
      "Duration_in_month                                           1000 non-null int64\n",
      "Credit_history                                              1000 non-null object\n",
      "Purpose                                                     1000 non-null object\n",
      "Credit_amount                                               1000 non-null int64\n",
      "Savings_account                                             1000 non-null object\n",
      "Present_employment_since                                    1000 non-null object\n",
      "Installment_rate_in_percentage_of_disposable_income         1000 non-null int64\n",
      "Personal_status_and_sex                                     1000 non-null object\n",
      "Other_debtors                                               1000 non-null object\n",
      "Present_residence_since                                     1000 non-null int64\n",
      "Property                                                    1000 non-null object\n",
      "Age_in_years                                                1000 non-null int64\n",
      "Other_installment_plans                                     1000 non-null object\n",
      "Housing                                                     1000 non-null object\n",
      "Number_of_existing_credits_at_this_bank                     1000 non-null int64\n",
      "Job                                                         1000 non-null object\n",
      "Number_of_people_being_liable_to_provide_maintenance_for    1000 non-null int64\n",
      "Telephone                                                   1000 non-null object\n",
      "Foreign worker                                              1000 non-null object\n",
      "class                                                       1000 non-null int64\n",
      "bin_var                                                     1000 non-null category\n",
      "dtypes: category(1), int64(8), object(13)\n",
      "memory usage: 165.3+ KB\n"
     ]
    }
   ],
   "source": [
    "df.info()"
   ]
  },
  {
   "cell_type": "code",
   "execution_count": 235,
   "metadata": {},
   "outputs": [
    {
     "data": {
      "text/html": [
       "<div>\n",
       "<style scoped>\n",
       "    .dataframe tbody tr th:only-of-type {\n",
       "        vertical-align: middle;\n",
       "    }\n",
       "\n",
       "    .dataframe tbody tr th {\n",
       "        vertical-align: top;\n",
       "    }\n",
       "\n",
       "    .dataframe thead th {\n",
       "        text-align: right;\n",
       "    }\n",
       "</style>\n",
       "<table border=\"1\" class=\"dataframe\">\n",
       "  <thead>\n",
       "    <tr style=\"text-align: right;\">\n",
       "      <th></th>\n",
       "      <th>Status_of_existing_checking_account</th>\n",
       "      <th>Duration_in_month</th>\n",
       "      <th>Credit_history</th>\n",
       "      <th>Purpose</th>\n",
       "      <th>Credit_amount</th>\n",
       "      <th>Savings_account</th>\n",
       "      <th>Present_employment_since</th>\n",
       "      <th>Installment_rate_in_percentage_of_disposable_income</th>\n",
       "      <th>Personal_status_and_sex</th>\n",
       "      <th>Other_debtors</th>\n",
       "      <th>...</th>\n",
       "      <th>Age_in_years</th>\n",
       "      <th>Other_installment_plans</th>\n",
       "      <th>Housing</th>\n",
       "      <th>Number_of_existing_credits_at_this_bank</th>\n",
       "      <th>Job</th>\n",
       "      <th>Number_of_people_being_liable_to_provide_maintenance_for</th>\n",
       "      <th>Telephone</th>\n",
       "      <th>Foreign worker</th>\n",
       "      <th>class</th>\n",
       "      <th>bin_var</th>\n",
       "    </tr>\n",
       "  </thead>\n",
       "  <tbody>\n",
       "    <tr>\n",
       "      <th>0</th>\n",
       "      <td>A11</td>\n",
       "      <td>6</td>\n",
       "      <td>A34</td>\n",
       "      <td>A43</td>\n",
       "      <td>1169</td>\n",
       "      <td>A65</td>\n",
       "      <td>A75</td>\n",
       "      <td>4</td>\n",
       "      <td>A93</td>\n",
       "      <td>A101</td>\n",
       "      <td>...</td>\n",
       "      <td>67</td>\n",
       "      <td>A143</td>\n",
       "      <td>A152</td>\n",
       "      <td>2</td>\n",
       "      <td>A173</td>\n",
       "      <td>1</td>\n",
       "      <td>A192</td>\n",
       "      <td>A201</td>\n",
       "      <td>0</td>\n",
       "      <td>(0.999, 100.9]</td>\n",
       "    </tr>\n",
       "    <tr>\n",
       "      <th>1</th>\n",
       "      <td>A12</td>\n",
       "      <td>48</td>\n",
       "      <td>A32</td>\n",
       "      <td>A43</td>\n",
       "      <td>5951</td>\n",
       "      <td>A61</td>\n",
       "      <td>A73</td>\n",
       "      <td>2</td>\n",
       "      <td>A92</td>\n",
       "      <td>A101</td>\n",
       "      <td>...</td>\n",
       "      <td>22</td>\n",
       "      <td>A143</td>\n",
       "      <td>A152</td>\n",
       "      <td>1</td>\n",
       "      <td>A173</td>\n",
       "      <td>1</td>\n",
       "      <td>A191</td>\n",
       "      <td>A201</td>\n",
       "      <td>1</td>\n",
       "      <td>(900.1, 1000.0]</td>\n",
       "    </tr>\n",
       "    <tr>\n",
       "      <th>2</th>\n",
       "      <td>A14</td>\n",
       "      <td>12</td>\n",
       "      <td>A34</td>\n",
       "      <td>A46</td>\n",
       "      <td>2096</td>\n",
       "      <td>A61</td>\n",
       "      <td>A74</td>\n",
       "      <td>2</td>\n",
       "      <td>A93</td>\n",
       "      <td>A101</td>\n",
       "      <td>...</td>\n",
       "      <td>49</td>\n",
       "      <td>A143</td>\n",
       "      <td>A152</td>\n",
       "      <td>1</td>\n",
       "      <td>A172</td>\n",
       "      <td>2</td>\n",
       "      <td>A191</td>\n",
       "      <td>A201</td>\n",
       "      <td>0</td>\n",
       "      <td>(100.9, 200.8]</td>\n",
       "    </tr>\n",
       "    <tr>\n",
       "      <th>3</th>\n",
       "      <td>A11</td>\n",
       "      <td>42</td>\n",
       "      <td>A32</td>\n",
       "      <td>A42</td>\n",
       "      <td>7882</td>\n",
       "      <td>A61</td>\n",
       "      <td>A74</td>\n",
       "      <td>2</td>\n",
       "      <td>A93</td>\n",
       "      <td>A103</td>\n",
       "      <td>...</td>\n",
       "      <td>45</td>\n",
       "      <td>A143</td>\n",
       "      <td>A153</td>\n",
       "      <td>1</td>\n",
       "      <td>A173</td>\n",
       "      <td>2</td>\n",
       "      <td>A191</td>\n",
       "      <td>A201</td>\n",
       "      <td>0</td>\n",
       "      <td>(900.1, 1000.0]</td>\n",
       "    </tr>\n",
       "    <tr>\n",
       "      <th>4</th>\n",
       "      <td>A11</td>\n",
       "      <td>24</td>\n",
       "      <td>A33</td>\n",
       "      <td>A40</td>\n",
       "      <td>4870</td>\n",
       "      <td>A61</td>\n",
       "      <td>A73</td>\n",
       "      <td>3</td>\n",
       "      <td>A93</td>\n",
       "      <td>A101</td>\n",
       "      <td>...</td>\n",
       "      <td>53</td>\n",
       "      <td>A143</td>\n",
       "      <td>A153</td>\n",
       "      <td>2</td>\n",
       "      <td>A173</td>\n",
       "      <td>2</td>\n",
       "      <td>A191</td>\n",
       "      <td>A201</td>\n",
       "      <td>1</td>\n",
       "      <td>(500.5, 600.4]</td>\n",
       "    </tr>\n",
       "  </tbody>\n",
       "</table>\n",
       "<p>5 rows × 22 columns</p>\n",
       "</div>"
      ],
      "text/plain": [
       "  Status_of_existing_checking_account  Duration_in_month Credit_history  \\\n",
       "0                                 A11                  6            A34   \n",
       "1                                 A12                 48            A32   \n",
       "2                                 A14                 12            A34   \n",
       "3                                 A11                 42            A32   \n",
       "4                                 A11                 24            A33   \n",
       "\n",
       "  Purpose  Credit_amount Savings_account Present_employment_since  \\\n",
       "0     A43           1169             A65                      A75   \n",
       "1     A43           5951             A61                      A73   \n",
       "2     A46           2096             A61                      A74   \n",
       "3     A42           7882             A61                      A74   \n",
       "4     A40           4870             A61                      A73   \n",
       "\n",
       "   Installment_rate_in_percentage_of_disposable_income  \\\n",
       "0                                                  4     \n",
       "1                                                  2     \n",
       "2                                                  2     \n",
       "3                                                  2     \n",
       "4                                                  3     \n",
       "\n",
       "  Personal_status_and_sex Other_debtors       ...         Age_in_years  \\\n",
       "0                     A93          A101       ...                   67   \n",
       "1                     A92          A101       ...                   22   \n",
       "2                     A93          A101       ...                   49   \n",
       "3                     A93          A103       ...                   45   \n",
       "4                     A93          A101       ...                   53   \n",
       "\n",
       "  Other_installment_plans  Housing Number_of_existing_credits_at_this_bank  \\\n",
       "0                    A143     A152                                       2   \n",
       "1                    A143     A152                                       1   \n",
       "2                    A143     A152                                       1   \n",
       "3                    A143     A153                                       1   \n",
       "4                    A143     A153                                       2   \n",
       "\n",
       "    Job  Number_of_people_being_liable_to_provide_maintenance_for Telephone  \\\n",
       "0  A173                                                  1             A192   \n",
       "1  A173                                                  1             A191   \n",
       "2  A172                                                  2             A191   \n",
       "3  A173                                                  2             A191   \n",
       "4  A173                                                  2             A191   \n",
       "\n",
       "   Foreign worker class          bin_var  \n",
       "0            A201     0   (0.999, 100.9]  \n",
       "1            A201     1  (900.1, 1000.0]  \n",
       "2            A201     0   (100.9, 200.8]  \n",
       "3            A201     0  (900.1, 1000.0]  \n",
       "4            A201     1   (500.5, 600.4]  \n",
       "\n",
       "[5 rows x 22 columns]"
      ]
     },
     "execution_count": 235,
     "metadata": {},
     "output_type": "execute_result"
    }
   ],
   "source": [
    "df.head()"
   ]
  },
  {
   "cell_type": "code",
   "execution_count": 236,
   "metadata": {},
   "outputs": [
    {
     "data": {
      "text/plain": [
       "Status_of_existing_checking_account                         object\n",
       "Duration_in_month                                            int64\n",
       "Credit_history                                              object\n",
       "Purpose                                                     object\n",
       "Credit_amount                                                int64\n",
       "Savings_account                                             object\n",
       "Present_employment_since                                    object\n",
       "Installment_rate_in_percentage_of_disposable_income          int64\n",
       "Personal_status_and_sex                                     object\n",
       "Other_debtors                                               object\n",
       "Present_residence_since                                      int64\n",
       "Property                                                    object\n",
       "Age_in_years                                                 int64\n",
       "Other_installment_plans                                     object\n",
       "Housing                                                     object\n",
       "Number_of_existing_credits_at_this_bank                      int64\n",
       "Job                                                         object\n",
       "Number_of_people_being_liable_to_provide_maintenance_for     int64\n",
       "Telephone                                                   object\n",
       "Foreign worker                                              object\n",
       "dtype: object"
      ]
     },
     "execution_count": 236,
     "metadata": {},
     "output_type": "execute_result"
    }
   ],
   "source": [
    "df.dtypes[:-2]"
   ]
  },
  {
   "cell_type": "code",
   "execution_count": 237,
   "metadata": {},
   "outputs": [],
   "source": [
    "# \n",
    "discrete_columns, continuous_columns = [], []\n",
    "for i, j in enumerate(df.dtypes[:-2]): ## select columns up till class and bin_var\n",
    "    if j == object:\n",
    "        discrete_columns.append(df.columns[i])\n",
    "    else:\n",
    "        continuous_columns.append(df.columns[i])"
   ]
  },
  {
   "cell_type": "code",
   "execution_count": 238,
   "metadata": {},
   "outputs": [
    {
     "data": {
      "text/plain": [
       "['Status_of_existing_checking_account',\n",
       " 'Credit_history',\n",
       " 'Purpose',\n",
       " 'Savings_account',\n",
       " 'Present_employment_since',\n",
       " 'Personal_status_and_sex',\n",
       " 'Other_debtors',\n",
       " 'Property',\n",
       " 'Other_installment_plans',\n",
       " 'Housing',\n",
       " 'Job',\n",
       " 'Telephone',\n",
       " 'Foreign worker']"
      ]
     },
     "execution_count": 238,
     "metadata": {},
     "output_type": "execute_result"
    }
   ],
   "source": [
    "discrete_columns"
   ]
  },
  {
   "cell_type": "code",
   "execution_count": 239,
   "metadata": {},
   "outputs": [
    {
     "data": {
      "text/plain": [
       "['Duration_in_month',\n",
       " 'Credit_amount',\n",
       " 'Installment_rate_in_percentage_of_disposable_income',\n",
       " 'Present_residence_since',\n",
       " 'Age_in_years',\n",
       " 'Number_of_existing_credits_at_this_bank',\n",
       " 'Number_of_people_being_liable_to_provide_maintenance_for']"
      ]
     },
     "execution_count": 239,
     "metadata": {},
     "output_type": "execute_result"
    }
   ],
   "source": [
    "continuous_columns"
   ]
  },
  {
   "cell_type": "code",
   "execution_count": 240,
   "metadata": {},
   "outputs": [],
   "source": [
    "total_columns = discrete_columns + continuous_columns"
   ]
  },
  {
   "cell_type": "code",
   "execution_count": 241,
   "metadata": {},
   "outputs": [
    {
     "name": "stdout",
     "output_type": "stream",
     "text": [
      "Information Value by descending order\n",
      "\n",
      "0.666 , Status_of_existing_checking_account ,type= object\n",
      "0.293 , Credit_history ,type= object\n",
      "0.261 , Duration_in_month ,type= int64\n",
      "0.196 , Savings_account ,type= object\n",
      "0.169 , Purpose ,type= object\n",
      "0.113 , Property ,type= object\n",
      "0.113 , Credit_amount ,type= int64\n",
      "0.103 , Age_in_years ,type= int64\n",
      "0.098 , Number_of_existing_credits_at_this_bank ,type= int64\n",
      "0.086 , Present_employment_since ,type= object\n",
      "0.083 , Housing ,type= object\n",
      "0.062 , Installment_rate_in_percentage_of_disposable_income ,type= int64\n",
      "0.058 , Other_installment_plans ,type= object\n",
      "0.049 , Present_residence_since ,type= int64\n",
      "0.045 , Personal_status_and_sex ,type= object\n",
      "0.044 , Foreign worker ,type= object\n",
      "0.034 , Number_of_people_being_liable_to_provide_maintenance_for ,type= int64\n",
      "0.032 , Other_debtors ,type= object\n",
      "0.009 , Job ,type= object\n",
      "0.006 , Telephone ,type= object\n"
     ]
    }
   ],
   "source": [
    "# List of IV values\n",
    "IV_list = []\n",
    "for col in total_columns:\n",
    "    assigned_data = IV_calc(data=df, var=col)\n",
    "    iv_val = round(assigned_data['I_V'].sum(), 3)\n",
    "    dt_type = df[col].dtypes\n",
    "    IV_list.append((iv_val, col, dt_type))\n",
    "\n",
    "IV_list = sorted(IV_list, reverse=True) # Sort by descending order\n",
    "\n",
    "print (\"Information Value by descending order\\n\")\n",
    "for i in range(len(IV_list)):\n",
    "    print(IV_list[i][0], \",\", IV_list[i][1], \",type=\", IV_list[i][2])"
   ]
  },
  {
   "cell_type": "markdown",
   "metadata": {},
   "source": [
    "After retaining the top 15 variables, we have the following variables in the discrete and\n",
    "continuous categories. Subsequently, we will do dummy variable coding for the discrete\n",
    "variables and use continuous as it is."
   ]
  },
  {
   "cell_type": "code",
   "execution_count": 242,
   "metadata": {},
   "outputs": [],
   "source": [
    "dummy_stseca = pd.get_dummies(df['Status_of_existing_checking_account'], prefix='status_exs_accnt')\n",
    "dummy_ch = pd.get_dummies(df['Credit_history'], prefix='cred_hist')\n",
    "dummy_savacc = pd.get_dummies(df['Savings_account'], prefix='sav_acc')\n",
    "dummy_purpose = pd.get_dummies(df['Purpose'], prefix='purpose')\n",
    "dummy_property = pd.get_dummies(df['Property'], prefix='property')\n",
    "dummy_presc = pd.get_dummies(df['Present_employment_since'], prefix='pre_emp_snc')\n",
    "dummy_housing = pd.get_dummies(df['Housing'], prefix='housing')\n",
    "dummy_othinstpln = pd.get_dummies(df['Other_installment_plans'], prefix='oth_inst_plan')\n",
    "dummy_perssx = pd.get_dummies(df['Personal_status_and_sex'], prefix='per_stat_sx')\n"
   ]
  },
  {
   "cell_type": "code",
   "execution_count": 243,
   "metadata": {},
   "outputs": [],
   "source": [
    "continuous_columns = ['Duration_in_month', 'Credit_amount', 'Age_in_years', 'Number_of_existing_credits_at_this_bank',\n",
    "                     'Installment_rate_in_percentage_of_disposable_income', 'Present_residence_since']\n",
    "credit_continuous = df[continuous_columns]\n",
    "df_new = pd.concat([dummy_stseca, dummy_ch, dummy_savacc, dummy_purpose, dummy_property, dummy_presc,\n",
    "                   dummy_housing, dummy_othinstpln, dummy_perssx, credit_continuous, df['class']], axis=1)"
   ]
  },
  {
   "cell_type": "code",
   "execution_count": 244,
   "metadata": {},
   "outputs": [
    {
     "data": {
      "text/html": [
       "<div>\n",
       "<style scoped>\n",
       "    .dataframe tbody tr th:only-of-type {\n",
       "        vertical-align: middle;\n",
       "    }\n",
       "\n",
       "    .dataframe tbody tr th {\n",
       "        vertical-align: top;\n",
       "    }\n",
       "\n",
       "    .dataframe thead th {\n",
       "        text-align: right;\n",
       "    }\n",
       "</style>\n",
       "<table border=\"1\" class=\"dataframe\">\n",
       "  <thead>\n",
       "    <tr style=\"text-align: right;\">\n",
       "      <th></th>\n",
       "      <th>status_exs_accnt_A11</th>\n",
       "      <th>status_exs_accnt_A12</th>\n",
       "      <th>status_exs_accnt_A13</th>\n",
       "      <th>status_exs_accnt_A14</th>\n",
       "      <th>cred_hist_A30</th>\n",
       "      <th>cred_hist_A31</th>\n",
       "      <th>cred_hist_A32</th>\n",
       "      <th>cred_hist_A33</th>\n",
       "      <th>cred_hist_A34</th>\n",
       "      <th>sav_acc_A61</th>\n",
       "      <th>...</th>\n",
       "      <th>per_stat_sx_A92</th>\n",
       "      <th>per_stat_sx_A93</th>\n",
       "      <th>per_stat_sx_A94</th>\n",
       "      <th>Duration_in_month</th>\n",
       "      <th>Credit_amount</th>\n",
       "      <th>Age_in_years</th>\n",
       "      <th>Number_of_existing_credits_at_this_bank</th>\n",
       "      <th>Installment_rate_in_percentage_of_disposable_income</th>\n",
       "      <th>Present_residence_since</th>\n",
       "      <th>class</th>\n",
       "    </tr>\n",
       "  </thead>\n",
       "  <tbody>\n",
       "    <tr>\n",
       "      <th>0</th>\n",
       "      <td>1</td>\n",
       "      <td>0</td>\n",
       "      <td>0</td>\n",
       "      <td>0</td>\n",
       "      <td>0</td>\n",
       "      <td>0</td>\n",
       "      <td>0</td>\n",
       "      <td>0</td>\n",
       "      <td>1</td>\n",
       "      <td>0</td>\n",
       "      <td>...</td>\n",
       "      <td>0</td>\n",
       "      <td>1</td>\n",
       "      <td>0</td>\n",
       "      <td>6</td>\n",
       "      <td>1169</td>\n",
       "      <td>67</td>\n",
       "      <td>2</td>\n",
       "      <td>4</td>\n",
       "      <td>4</td>\n",
       "      <td>0</td>\n",
       "    </tr>\n",
       "    <tr>\n",
       "      <th>1</th>\n",
       "      <td>0</td>\n",
       "      <td>1</td>\n",
       "      <td>0</td>\n",
       "      <td>0</td>\n",
       "      <td>0</td>\n",
       "      <td>0</td>\n",
       "      <td>1</td>\n",
       "      <td>0</td>\n",
       "      <td>0</td>\n",
       "      <td>1</td>\n",
       "      <td>...</td>\n",
       "      <td>1</td>\n",
       "      <td>0</td>\n",
       "      <td>0</td>\n",
       "      <td>48</td>\n",
       "      <td>5951</td>\n",
       "      <td>22</td>\n",
       "      <td>1</td>\n",
       "      <td>2</td>\n",
       "      <td>2</td>\n",
       "      <td>1</td>\n",
       "    </tr>\n",
       "    <tr>\n",
       "      <th>2</th>\n",
       "      <td>0</td>\n",
       "      <td>0</td>\n",
       "      <td>0</td>\n",
       "      <td>1</td>\n",
       "      <td>0</td>\n",
       "      <td>0</td>\n",
       "      <td>0</td>\n",
       "      <td>0</td>\n",
       "      <td>1</td>\n",
       "      <td>1</td>\n",
       "      <td>...</td>\n",
       "      <td>0</td>\n",
       "      <td>1</td>\n",
       "      <td>0</td>\n",
       "      <td>12</td>\n",
       "      <td>2096</td>\n",
       "      <td>49</td>\n",
       "      <td>1</td>\n",
       "      <td>2</td>\n",
       "      <td>3</td>\n",
       "      <td>0</td>\n",
       "    </tr>\n",
       "    <tr>\n",
       "      <th>3</th>\n",
       "      <td>1</td>\n",
       "      <td>0</td>\n",
       "      <td>0</td>\n",
       "      <td>0</td>\n",
       "      <td>0</td>\n",
       "      <td>0</td>\n",
       "      <td>1</td>\n",
       "      <td>0</td>\n",
       "      <td>0</td>\n",
       "      <td>1</td>\n",
       "      <td>...</td>\n",
       "      <td>0</td>\n",
       "      <td>1</td>\n",
       "      <td>0</td>\n",
       "      <td>42</td>\n",
       "      <td>7882</td>\n",
       "      <td>45</td>\n",
       "      <td>1</td>\n",
       "      <td>2</td>\n",
       "      <td>4</td>\n",
       "      <td>0</td>\n",
       "    </tr>\n",
       "    <tr>\n",
       "      <th>4</th>\n",
       "      <td>1</td>\n",
       "      <td>0</td>\n",
       "      <td>0</td>\n",
       "      <td>0</td>\n",
       "      <td>0</td>\n",
       "      <td>0</td>\n",
       "      <td>0</td>\n",
       "      <td>1</td>\n",
       "      <td>0</td>\n",
       "      <td>1</td>\n",
       "      <td>...</td>\n",
       "      <td>0</td>\n",
       "      <td>1</td>\n",
       "      <td>0</td>\n",
       "      <td>24</td>\n",
       "      <td>4870</td>\n",
       "      <td>53</td>\n",
       "      <td>2</td>\n",
       "      <td>3</td>\n",
       "      <td>4</td>\n",
       "      <td>1</td>\n",
       "    </tr>\n",
       "  </tbody>\n",
       "</table>\n",
       "<p>5 rows × 50 columns</p>\n",
       "</div>"
      ],
      "text/plain": [
       "   status_exs_accnt_A11  status_exs_accnt_A12  status_exs_accnt_A13  \\\n",
       "0                     1                     0                     0   \n",
       "1                     0                     1                     0   \n",
       "2                     0                     0                     0   \n",
       "3                     1                     0                     0   \n",
       "4                     1                     0                     0   \n",
       "\n",
       "   status_exs_accnt_A14  cred_hist_A30  cred_hist_A31  cred_hist_A32  \\\n",
       "0                     0              0              0              0   \n",
       "1                     0              0              0              1   \n",
       "2                     1              0              0              0   \n",
       "3                     0              0              0              1   \n",
       "4                     0              0              0              0   \n",
       "\n",
       "   cred_hist_A33  cred_hist_A34  sav_acc_A61  ...    per_stat_sx_A92  \\\n",
       "0              0              1            0  ...                  0   \n",
       "1              0              0            1  ...                  1   \n",
       "2              0              1            1  ...                  0   \n",
       "3              0              0            1  ...                  0   \n",
       "4              1              0            1  ...                  0   \n",
       "\n",
       "   per_stat_sx_A93  per_stat_sx_A94  Duration_in_month  Credit_amount  \\\n",
       "0                1                0                  6           1169   \n",
       "1                0                0                 48           5951   \n",
       "2                1                0                 12           2096   \n",
       "3                1                0                 42           7882   \n",
       "4                1                0                 24           4870   \n",
       "\n",
       "   Age_in_years  Number_of_existing_credits_at_this_bank  \\\n",
       "0            67                                        2   \n",
       "1            22                                        1   \n",
       "2            49                                        1   \n",
       "3            45                                        1   \n",
       "4            53                                        2   \n",
       "\n",
       "   Installment_rate_in_percentage_of_disposable_income  \\\n",
       "0                                                  4     \n",
       "1                                                  2     \n",
       "2                                                  2     \n",
       "3                                                  2     \n",
       "4                                                  3     \n",
       "\n",
       "   Present_residence_since  class  \n",
       "0                        4      0  \n",
       "1                        2      1  \n",
       "2                        3      0  \n",
       "3                        4      0  \n",
       "4                        4      1  \n",
       "\n",
       "[5 rows x 50 columns]"
      ]
     },
     "execution_count": 244,
     "metadata": {},
     "output_type": "execute_result"
    }
   ],
   "source": [
    "df_new.head()"
   ]
  },
  {
   "cell_type": "code",
   "execution_count": 245,
   "metadata": {},
   "outputs": [
    {
     "data": {
      "text/plain": [
       "array(['A11', 'A12', 'A14', 'A13'], dtype=object)"
      ]
     },
     "execution_count": 245,
     "metadata": {},
     "output_type": "execute_result"
    }
   ],
   "source": [
    "df.iloc[:,0].unique()"
   ]
  },
  {
   "cell_type": "code",
   "execution_count": 246,
   "metadata": {},
   "outputs": [
    {
     "data": {
      "text/plain": [
       "Index(['status_exs_accnt_A11', 'status_exs_accnt_A12', 'status_exs_accnt_A13',\n",
       "       'status_exs_accnt_A14', 'cred_hist_A30', 'cred_hist_A31',\n",
       "       'cred_hist_A32', 'cred_hist_A33', 'cred_hist_A34', 'sav_acc_A61',\n",
       "       'sav_acc_A62', 'sav_acc_A63', 'sav_acc_A64', 'sav_acc_A65',\n",
       "       'purpose_A40', 'purpose_A41', 'purpose_A410', 'purpose_A42',\n",
       "       'purpose_A43', 'purpose_A44', 'purpose_A45', 'purpose_A46',\n",
       "       'purpose_A48', 'purpose_A49', 'property_A121', 'property_A122',\n",
       "       'property_A123', 'property_A124', 'pre_emp_snc_A71', 'pre_emp_snc_A72',\n",
       "       'pre_emp_snc_A73', 'pre_emp_snc_A74', 'pre_emp_snc_A75', 'housing_A151',\n",
       "       'housing_A152', 'housing_A153', 'oth_inst_plan_A141',\n",
       "       'oth_inst_plan_A142', 'oth_inst_plan_A143', 'per_stat_sx_A91',\n",
       "       'per_stat_sx_A92', 'per_stat_sx_A93', 'per_stat_sx_A94',\n",
       "       'Duration_in_month', 'Credit_amount', 'Age_in_years',\n",
       "       'Number_of_existing_credits_at_this_bank',\n",
       "       'Installment_rate_in_percentage_of_disposable_income',\n",
       "       'Present_residence_since', 'class'],\n",
       "      dtype='object')"
      ]
     },
     "execution_count": 246,
     "metadata": {},
     "output_type": "execute_result"
    }
   ],
   "source": [
    "df_new.columns"
   ]
  },
  {
   "cell_type": "code",
   "execution_count": 247,
   "metadata": {},
   "outputs": [],
   "source": [
    "X = df_new.drop(['class'], axis=1)\n",
    "y = df_new['class']"
   ]
  },
  {
   "cell_type": "code",
   "execution_count": 248,
   "metadata": {},
   "outputs": [],
   "source": [
    "X_train, X_test, y_train, y_test = train_test_split(X, y, test_size=0.3, random_state=42)"
   ]
  },
  {
   "cell_type": "code",
   "execution_count": 372,
   "metadata": {},
   "outputs": [],
   "source": [
    "remove_cols_extra_dummy = ['status_exs_accnt_A11', 'cred_hist_A30', 'sav_acc_A61', 'purpose_A40',\n",
    "                          'property_A121', 'pre_emp_snc_A71', 'housing_A151', 'oth_inst_plan_A141',\n",
    "                          'per_stat_sx_A91']"
   ]
  },
  {
   "cell_type": "code",
   "execution_count": 572,
   "metadata": {},
   "outputs": [],
   "source": [
    "remove_cols_insig = []\n",
    "# remove_cols_insig for removing insignificant variables\n",
    "remove_cols_insig = ['oth_inst_plan_A142', 'pre_emp_snc_A72', 'cred_hist_A31', 'Present_residence_since',\n",
    "                    'housing_A153', 'pre_emp_snc_A73', 'purpose_A46', 'per_stat_sx_A92',\n",
    "                    'per_stat_sx_A94', 'purpose_A44', 'pre_emp_snc_A75', 'purpose_A45',\n",
    "                    'sav_acc_A62', 'sav_acc_A63', 'purpose_A49', 'cred_hist_A32',\n",
    "                    'purpose_A410', 'pre_emp_snc_A74', 'property_A123', 'property_A122', 'purpose_A48',\n",
    "                    'housing_A152', 'sav_acc_A64', 'cred_hist_A33', 'Number_of_existing_credits_at_this_bank',\n",
    "                    'Duration_in_month']\n",
    "remove_cols = list(set(remove_cols_extra_dummy + remove_cols_insig))\n",
    "\n"
   ]
  },
  {
   "cell_type": "code",
   "execution_count": 573,
   "metadata": {},
   "outputs": [
    {
     "data": {
      "text/plain": [
       "26"
      ]
     },
     "execution_count": 573,
     "metadata": {},
     "output_type": "execute_result"
    }
   ],
   "source": [
    "len(remove_cols_insig)"
   ]
  },
  {
   "cell_type": "code",
   "execution_count": 574,
   "metadata": {},
   "outputs": [],
   "source": [
    "y_train = pd.DataFrame(y_train)\n",
    "y_test = pd.DataFrame(y_test)"
   ]
  },
  {
   "cell_type": "code",
   "execution_count": 575,
   "metadata": {},
   "outputs": [
    {
     "data": {
      "text/plain": [
       "Index(['status_exs_accnt_A12', 'status_exs_accnt_A13', 'status_exs_accnt_A14',\n",
       "       'cred_hist_A34', 'sav_acc_A65', 'purpose_A41', 'purpose_A42',\n",
       "       'purpose_A43', 'property_A124', 'oth_inst_plan_A143', 'per_stat_sx_A93',\n",
       "       'Credit_amount', 'Age_in_years',\n",
       "       'Installment_rate_in_percentage_of_disposable_income'],\n",
       "      dtype='object')"
      ]
     },
     "execution_count": 575,
     "metadata": {},
     "output_type": "execute_result"
    }
   ],
   "source": [
    "X_train.drop(remove_cols, axis=1).columns"
   ]
  },
  {
   "cell_type": "code",
   "execution_count": 577,
   "metadata": {},
   "outputs": [
    {
     "name": "stdout",
     "output_type": "stream",
     "text": [
      "Optimization terminated successfully.\n",
      "         Current function value: 0.480279\n",
      "         Iterations 6\n",
      "                                          Results: Logit\n",
      "===================================================================================================\n",
      "Model:                          Logit                        No. Iterations:               6.0000  \n",
      "Dependent Variable:             class                        Pseudo R-squared:             0.212   \n",
      "Date:                           2018-08-06 15:07             AIC:                          702.3907\n",
      "No. Observations:               700                          BIC:                          770.6569\n",
      "Df Model:                       14                           Log-Likelihood:               -336.20 \n",
      "Df Residuals:                   685                          LL-Null:                      -426.75 \n",
      "Converged:                      1.0000                       Scale:                        1.0000  \n",
      "---------------------------------------------------------------------------------------------------\n",
      "                                                     Coef.  Std.Err.    z    P>|z|   [0.025  0.975]\n",
      "---------------------------------------------------------------------------------------------------\n",
      "const                                                0.6844   0.5469  1.2514 0.2108 -0.3875  1.7562\n",
      "status_exs_accnt_A12                                -0.4941   0.2339 -2.1122 0.0347 -0.9525 -0.0356\n",
      "status_exs_accnt_A13                                -1.0094   0.4345 -2.3234 0.0202 -1.8610 -0.1579\n",
      "status_exs_accnt_A14                                -1.7010   0.2543 -6.6889 0.0000 -2.1995 -1.2026\n",
      "cred_hist_A34                                       -0.8743   0.2404 -3.6361 0.0003 -1.3455 -0.4030\n",
      "sav_acc_A65                                         -0.5471   0.2745 -1.9928 0.0463 -1.0852 -0.0090\n",
      "purpose_A41                                         -1.3514   0.3865 -3.4966 0.0005 -2.1090 -0.5939\n",
      "purpose_A42                                         -0.7201   0.2688 -2.6788 0.0074 -1.2469 -0.1932\n",
      "purpose_A43                                         -0.8797   0.2423 -3.6304 0.0003 -1.3547 -0.4048\n",
      "property_A124                                        0.8414   0.2750  3.0594 0.0022  0.3024  1.3804\n",
      "oth_inst_plan_A143                                  -0.5006   0.2398 -2.0876 0.0368 -0.9706 -0.0306\n",
      "per_stat_sx_A93                                     -0.5158   0.2042 -2.5253 0.0116 -0.9161 -0.1155\n",
      "Credit_amount                                        0.0002   0.0000  4.5020 0.0000  0.0001  0.0002\n",
      "Age_in_years                                        -0.0320   0.0099 -3.2204 0.0013 -0.0514 -0.0125\n",
      "Installment_rate_in_percentage_of_disposable_income  0.3448   0.0955  3.6096 0.0003  0.1576  0.5320\n",
      "===================================================================================================\n",
      "\n"
     ]
    }
   ],
   "source": [
    "import statsmodels.api as sm\n",
    "logistic_model = sm.Logit(y_train, sm.add_constant(X_train.drop(remove_cols, axis=1))).fit()\n",
    "#print(logistic_model.summary())\n",
    "print(logistic_model.summary2())"
   ]
  },
  {
   "cell_type": "markdown",
   "metadata": {},
   "source": [
    "Most insignificant variable is oth_inst_plan_A142, with a a p-value of 0.9096"
   ]
  },
  {
   "cell_type": "code",
   "execution_count": 578,
   "metadata": {},
   "outputs": [
    {
     "name": "stdout",
     "output_type": "stream",
     "text": [
      "Variance Inflation Factor\n",
      "\n",
      "status_exs_accnt_A12 1.557\n",
      "status_exs_accnt_A13 1.207\n",
      "status_exs_accnt_A14 1.621\n",
      "cred_hist_A34 1.094\n",
      "sav_acc_A65 1.046\n",
      "purpose_A41 1.176\n",
      "purpose_A42 1.189\n",
      "purpose_A43 1.253\n",
      "property_A124 1.158\n",
      "oth_inst_plan_A143 1.031\n",
      "per_stat_sx_A93 1.139\n",
      "Credit_amount 1.322\n",
      "Age_in_years 1.154\n",
      "Installment_rate_in_percentage_of_disposable_income 1.172\n"
     ]
    }
   ],
   "source": [
    "print(\"Variance Inflation Factor\\n\")\n",
    "cnames = X_train.drop(remove_cols, axis=1).columns\n",
    "for i in np.arange(0, len(cnames)):\n",
    "    xvars = list(cnames)\n",
    "    yvar = xvars.pop(i)\n",
    "    mod = sm.OLS(X_train.drop(remove_cols, axis=1)[yvar], sm.add_constant(X_train.drop(remove_cols, axis=1)[xvars]))\n",
    "    res = mod.fit()\n",
    "    vif = 1 / (1 - res.rsquared)\n",
    "    print(yvar, round(vif, 3))"
   ]
  },
  {
   "cell_type": "code",
   "execution_count": 579,
   "metadata": {},
   "outputs": [],
   "source": [
    "y_pred = pd.DataFrame(logistic_model.predict(sm.add_constant(X_train.drop(remove_cols, axis=1))))\n",
    "y_pred.columns = ['probs']\n",
    "both = pd.concat([y_train, y_pred], axis=1)"
   ]
  },
  {
   "cell_type": "code",
   "execution_count": 580,
   "metadata": {},
   "outputs": [
    {
     "data": {
      "text/html": [
       "<div>\n",
       "<style scoped>\n",
       "    .dataframe tbody tr th:only-of-type {\n",
       "        vertical-align: middle;\n",
       "    }\n",
       "\n",
       "    .dataframe tbody tr th {\n",
       "        vertical-align: top;\n",
       "    }\n",
       "\n",
       "    .dataframe thead th {\n",
       "        text-align: right;\n",
       "    }\n",
       "</style>\n",
       "<table border=\"1\" class=\"dataframe\">\n",
       "  <thead>\n",
       "    <tr style=\"text-align: right;\">\n",
       "      <th></th>\n",
       "      <th>class</th>\n",
       "      <th>probs</th>\n",
       "    </tr>\n",
       "  </thead>\n",
       "  <tbody>\n",
       "    <tr>\n",
       "      <th>541</th>\n",
       "      <td>0</td>\n",
       "      <td>0.198203</td>\n",
       "    </tr>\n",
       "    <tr>\n",
       "      <th>440</th>\n",
       "      <td>0</td>\n",
       "      <td>0.169091</td>\n",
       "    </tr>\n",
       "  </tbody>\n",
       "</table>\n",
       "</div>"
      ],
      "text/plain": [
       "     class     probs\n",
       "541      0  0.198203\n",
       "440      0  0.169091"
      ]
     },
     "execution_count": 580,
     "metadata": {},
     "output_type": "execute_result"
    }
   ],
   "source": [
    "both[:2]"
   ]
  },
  {
   "cell_type": "code",
   "execution_count": 581,
   "metadata": {},
   "outputs": [
    {
     "data": {
      "text/html": [
       "<div>\n",
       "<style scoped>\n",
       "    .dataframe tbody tr th:only-of-type {\n",
       "        vertical-align: middle;\n",
       "    }\n",
       "\n",
       "    .dataframe tbody tr th {\n",
       "        vertical-align: top;\n",
       "    }\n",
       "\n",
       "    .dataframe thead th {\n",
       "        text-align: right;\n",
       "    }\n",
       "</style>\n",
       "<table border=\"1\" class=\"dataframe\">\n",
       "  <thead>\n",
       "    <tr style=\"text-align: right;\">\n",
       "      <th></th>\n",
       "      <th>class</th>\n",
       "      <th>probs</th>\n",
       "    </tr>\n",
       "  </thead>\n",
       "  <tbody>\n",
       "    <tr>\n",
       "      <th>541</th>\n",
       "      <td>0</td>\n",
       "      <td>0.198203</td>\n",
       "    </tr>\n",
       "    <tr>\n",
       "      <th>440</th>\n",
       "      <td>0</td>\n",
       "      <td>0.169091</td>\n",
       "    </tr>\n",
       "  </tbody>\n",
       "</table>\n",
       "</div>"
      ],
      "text/plain": [
       "     class     probs\n",
       "541      0  0.198203\n",
       "440      0  0.169091"
      ]
     },
     "execution_count": 581,
     "metadata": {},
     "output_type": "execute_result"
    }
   ],
   "source": [
    "zeros[:2]"
   ]
  },
  {
   "cell_type": "code",
   "execution_count": 582,
   "metadata": {},
   "outputs": [],
   "source": [
    "zeros = both[['class', 'probs']][both['class']==0]\n",
    "ones = both[['class', 'probs']][both['class']==1]\n",
    "\n",
    "def df_crossjoin(df1, df2, **kwargs):\n",
    "    df1['_tmpkey'] = 1\n",
    "    df2['_tmpkey'] = 1\n",
    "    res = pd.merge(df1, df2, on='_tmpkey', **kwargs).drop('_tmpkey', axis=1)\n",
    "    res.index = pd.MultiIndex.from_product((df1.index, df2.index))\n",
    "    df1.drop('_tmpkey', axis=1, inplace=True)\n",
    "    df2.drop('_tmpkey', axis=1, inplace=True)\n",
    "    return res"
   ]
  },
  {
   "cell_type": "markdown",
   "metadata": {},
   "source": [
    "In the following step, we are producing Cartesian products for both one and zero data to\n",
    "calculate concordant and discordant pairs:"
   ]
  },
  {
   "cell_type": "code",
   "execution_count": 583,
   "metadata": {},
   "outputs": [],
   "source": [
    "joined_data = df_crossjoin(ones, zeros)"
   ]
  },
  {
   "cell_type": "code",
   "execution_count": 584,
   "metadata": {},
   "outputs": [
    {
     "data": {
      "text/html": [
       "<div>\n",
       "<style scoped>\n",
       "    .dataframe tbody tr th:only-of-type {\n",
       "        vertical-align: middle;\n",
       "    }\n",
       "\n",
       "    .dataframe tbody tr th {\n",
       "        vertical-align: top;\n",
       "    }\n",
       "\n",
       "    .dataframe thead th {\n",
       "        text-align: right;\n",
       "    }\n",
       "</style>\n",
       "<table border=\"1\" class=\"dataframe\">\n",
       "  <thead>\n",
       "    <tr style=\"text-align: right;\">\n",
       "      <th></th>\n",
       "      <th></th>\n",
       "      <th>class_x</th>\n",
       "      <th>probs_x</th>\n",
       "      <th>class_y</th>\n",
       "      <th>probs_y</th>\n",
       "    </tr>\n",
       "  </thead>\n",
       "  <tbody>\n",
       "    <tr>\n",
       "      <th rowspan=\"5\" valign=\"top\">949</th>\n",
       "      <th>541</th>\n",
       "      <td>1</td>\n",
       "      <td>0.067752</td>\n",
       "      <td>0</td>\n",
       "      <td>0.198203</td>\n",
       "    </tr>\n",
       "    <tr>\n",
       "      <th>440</th>\n",
       "      <td>1</td>\n",
       "      <td>0.067752</td>\n",
       "      <td>0</td>\n",
       "      <td>0.169091</td>\n",
       "    </tr>\n",
       "    <tr>\n",
       "      <th>482</th>\n",
       "      <td>1</td>\n",
       "      <td>0.067752</td>\n",
       "      <td>0</td>\n",
       "      <td>0.404604</td>\n",
       "    </tr>\n",
       "    <tr>\n",
       "      <th>422</th>\n",
       "      <td>1</td>\n",
       "      <td>0.067752</td>\n",
       "      <td>0</td>\n",
       "      <td>0.086586</td>\n",
       "    </tr>\n",
       "    <tr>\n",
       "      <th>778</th>\n",
       "      <td>1</td>\n",
       "      <td>0.067752</td>\n",
       "      <td>0</td>\n",
       "      <td>0.040698</td>\n",
       "    </tr>\n",
       "  </tbody>\n",
       "</table>\n",
       "</div>"
      ],
      "text/plain": [
       "         class_x   probs_x  class_y   probs_y\n",
       "949 541        1  0.067752        0  0.198203\n",
       "    440        1  0.067752        0  0.169091\n",
       "    482        1  0.067752        0  0.404604\n",
       "    422        1  0.067752        0  0.086586\n",
       "    778        1  0.067752        0  0.040698"
      ]
     },
     "execution_count": 584,
     "metadata": {},
     "output_type": "execute_result"
    }
   ],
   "source": [
    "joined_data.head()"
   ]
  },
  {
   "cell_type": "markdown",
   "metadata": {},
   "source": [
    "A pair is concordant if the probability against the 1 class is higher than the 0 class and\n",
    "discordant if the probability against the 1 class is less than the 0 class. If both probabilities\n",
    "are same, we put them in the tied pair category. The higher the number of concordant pairs\n",
    "is, the better the model is!"
   ]
  },
  {
   "cell_type": "code",
   "execution_count": 585,
   "metadata": {},
   "outputs": [
    {
     "name": "stdout",
     "output_type": "stream",
     "text": [
      "C-statistic: 0.8025\n"
     ]
    }
   ],
   "source": [
    "joined_data['concordant_pair'] = 0\n",
    "joined_data.loc[joined_data['probs_x'] > joined_data['probs_y'], 'concordant_pair'] = 1\n",
    "joined_data['discordant_pair'] = 0\n",
    "joined_data.loc[joined_data['probs_x'] < joined_data['probs_y'], 'discordant_pair'] = 1\n",
    "joined_data['tied_pair'] = 0\n",
    "joined_data.loc[joined_data['probs_x'] == joined_data['probs_y'], 'tied_pair'] = 1\n",
    "p_conc = (sum(joined_data['concordant_pair'])*1.0) / (joined_data.shape[0])\n",
    "p_disc = (sum(joined_data['discordant_pair'])*1.0) / (joined_data.shape[0])\n",
    "\n",
    "c_statistic = 0.5 + (p_conc - p_disc) / 2.0\n",
    "print(\"C-statistic:\", round(c_statistic, 4))"
   ]
  },
  {
   "cell_type": "markdown",
   "metadata": {},
   "source": [
    "The c-statistic obtained is 0.8388, which is greater than the 0.7 needed to be\n",
    "considered as a good model."
   ]
  },
  {
   "cell_type": "markdown",
   "metadata": {},
   "source": [
    "ROC Curve"
   ]
  },
  {
   "cell_type": "code",
   "execution_count": 588,
   "metadata": {},
   "outputs": [
    {
     "data": {
      "image/png": "[encoded data removed]",
      "text/plain": [
       "<matplotlib.figure.Figure at 0x2e079f9def0>"
      ]
     },
     "metadata": {},
     "output_type": "display_data"
    }
   ],
   "source": [
    "import matplotlib.pyplot as plt\n",
    "from sklearn import metrics\n",
    "from sklearn.metrics import auc\n",
    "fpr, tpr, thresholds = metrics.roc_curve(both['class'], both['probs'], pos_label=1)\n",
    "\n",
    "roc_auc = auc(fpr, tpr)\n",
    "plt.figure()\n",
    "lw = 2\n",
    "plt.plot(fpr, tpr, color='darkorange', lw=lw, label='ROC curve (area = %0.2f)' % roc_auc)\n",
    "plt.plot([0, 1], [0, 1], color='navy', lw=lw, linestyle='--')\n",
    "plt.xlim([0.0, 1.0])\n",
    "plt.ylim([0.0, 1.05])\n",
    "plt.xlabel('False Positive Rate (1-Specificity)')\n",
    "plt.ylabel('True Positive Rate')\n",
    "plt.title('ROC Curve - German Credit Data')\n",
    "plt.legend(loc='lower right')\n",
    "plt.show()"
   ]
  },
  {
   "cell_type": "code",
   "execution_count": 590,
   "metadata": {},
   "outputs": [
    {
     "name": "stdout",
     "output_type": "stream",
     "text": [
      "Threshold 0.0 Train Accuracy: 0.2986\n",
      "Threshold 0.1 Train Accuracy: 0.5086\n",
      "Threshold 0.2 Train Accuracy: 0.6486\n",
      "Threshold 0.30000000000000004 Train Accuracy: 0.7286\n",
      "Threshold 0.4 Train Accuracy: 0.7586\n",
      "Threshold 0.5 Train Accuracy: 0.7629\n",
      "Threshold 0.6000000000000001 Train Accuracy: 0.7486\n",
      "Threshold 0.7000000000000001 Train Accuracy: 0.7429\n",
      "Threshold 0.8 Train Accuracy: 0.7143\n",
      "Threshold 0.9 Train Accuracy: 0.7071\n"
     ]
    }
   ],
   "source": [
    "for i in list(np.arange(0, 1, 0.1)):\n",
    "    both['y_pred'] = 0\n",
    "    both.loc[both['probs'] > i, 'y_pred'] = 1\n",
    "    print('Threshold', i, 'Train Accuracy:', round(accuracy_score(both['class'], both['y_pred']), 4))"
   ]
  },
  {
   "cell_type": "markdown",
   "metadata": {},
   "source": [
    "From the preceding results, we find that, at threshold 0.5 value we can see the maximum\n",
    "accuracy of 0.7713. Hence, we set the threshold at 0.5 for classifying test data as well:"
   ]
  },
  {
   "cell_type": "code",
   "execution_count": 599,
   "metadata": {},
   "outputs": [
    {
     "name": "stdout",
     "output_type": "stream",
     "text": [
      "\n",
      "Train Confusion Matrix\n",
      "\n",
      " Predicted    0   1\n",
      "Actuall           \n",
      "0          443  48\n",
      "1          118  91\n",
      "\n",
      "Train Accuracy: 0.7629\n"
     ]
    }
   ],
   "source": [
    "both['y_pred'] = 0\n",
    "both.loc[both['probs'] > 0.5, 'y_pred'] = 1\n",
    "print(\"\\nTrain Confusion Matrix\\n\\n\", pd.crosstab(both['class'], both['y_pred'], rownames=['Actuall'],\n",
    "                                           colnames=['Predicted']))\n",
    "print(\"\\nTrain Accuracy:\", round(accuracy_score(both['class'], both['y_pred']), 4))"
   ]
  },
  {
   "cell_type": "markdown",
   "metadata": {},
   "source": [
    "Now, a threshold of 0.5 will be applied on test data to verify whether the model is\n",
    "consistent across various data sets with the following code:"
   ]
  },
  {
   "cell_type": "code",
   "execution_count": 602,
   "metadata": {},
   "outputs": [
    {
     "name": "stdout",
     "output_type": "stream",
     "text": [
      "\n",
      "Test Confusion Matrix\n",
      "\n",
      " Predicted    0   1\n",
      "Actuall           \n",
      "0          190  19\n",
      "1           55  36\n",
      "\n",
      "Test Accuracy: 0.7533\n"
     ]
    }
   ],
   "source": [
    "y_pred_test = pd.DataFrame(logistic_model.predict(sm.add_constant(X_test.drop(remove_cols, axis=1))))\n",
    "y_pred_test.columns = ['probs']\n",
    "both_test = pd.concat([y_test, y_pred_test], axis=1)\n",
    "both_test['y_pred'] = 0\n",
    "both_test.loc[both_test['probs'] > 0.5, 'y_pred'] = 1\n",
    "print(\"\\nTest Confusion Matrix\\n\\n\", pd.crosstab(both_test['class'], both_test['y_pred'], rownames=['Actuall'],\n",
    "                                                colnames=['Predicted']))\n",
    "print(\"\\nTest Accuracy:\", round(accuracy_score(both_test['class'], both_test['y_pred']), 4))"
   ]
  },
  {
   "cell_type": "code",
   "execution_count": null,
   "metadata": {},
   "outputs": [],
   "source": [
    "# References and credits to\n",
    "# Statistics for Machine Learning"
   ]
  }
 ],
 "metadata": {
  "kernelspec": {
   "display_name": "Python 3",
   "language": "python",
   "name": "python3"
  },
  "language_info": {
   "codemirror_mode": {
    "name": "ipython",
    "version": 3
   },
   "file_extension": ".py",
   "mimetype": "text/x-python",
   "name": "python",
   "nbconvert_exporter": "python",
   "pygments_lexer": "ipython3",
   "version": "3.6.4"
  }
 },
 "nbformat": 4,
 "nbformat_minor": 2
}
