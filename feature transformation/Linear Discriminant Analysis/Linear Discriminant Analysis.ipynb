{
 "cells": [
  {
   "cell_type": "markdown",
   "metadata": {},
   "source": [
    "## Linear Discriminant Analysis\n",
    "\n",
    "Linear Discriminant Analysis (LDA) is a feature transformation technique as well as a supervised classifier. It is commonly used as a preprocessing step for classification pipelines. The goal of LDA, like PCA, is to extract a new coordinate system and project datasets onto a lower-dimensional space. The main difference between LDA and PCA is that instead of focusing on the variance of the data as a whole like PCA, LDA optimizes the lower-dimensional space for the best class separability. This means that the new coordinate system is more useful in finding decision boundaries for classification models, which is perfect for us when building classification pipelines."
   ]
  },
  {
   "cell_type": "markdown",
   "metadata": {},
   "source": [
    "The reason that LDA is extremely useful is that separating based on class separability helps us avoid overfitting in our machine learning pipelines. This is also known as preventing the curse of dimensionality. LDA also reduces computational costs."
   ]
  },
  {
   "cell_type": "markdown",
   "metadata": {},
   "source": [
    "## How LDA works\n",
    "\n",
    "LDA works as a dimensionality reduction tool, just like PCA, however instead of calculating the eigenvalues of the covariance matrix of the data as a whole, LDA calculates eigenvalues and eigenvectors of within-class and between-class scatter matrices. Performing LDA can be broken down into five steps:\n",
    "\n",
    "1. Calculate mean vectors of each class\n",
    "\n",
    "2. Calculate within-class and between-class scatter matrices\n",
    "\n",
    "3. Calculate eigenvalues and eigenvectors for  $S^{-1}_WS_B$\n",
    "\n",
    "4. Keep the top k eigenvectors by ordering them by descending eigenvalues\n",
    "\n",
    "5. Use the top eigenvectors to project onto the new space"
   ]
  },
  {
   "cell_type": "markdown",
   "metadata": {},
   "source": [
    "## Calculating the mean vectors of each class\n",
    "\n",
    "First, we need to calculate a column-wise mean vector for each of our classes. One for setosa, one for versicolor, and another for virginica:"
   ]
  },
  {
   "cell_type": "code",
   "execution_count": 1,
   "metadata": {},
   "outputs": [],
   "source": [
    "from sklearn.datasets import load_iris\n",
    "import numpy as np\n",
    "import matplotlib.pyplot as plt\n",
    "%matplotlib inline\n",
    "\n",
    "iris = load_iris()\n",
    "X = iris.data\n",
    "y = iris.target"
   ]
  },
  {
   "cell_type": "code",
   "execution_count": 2,
   "metadata": {},
   "outputs": [],
   "source": [
    "label_dict = {i: k for i, k in enumerate(iris.target_names)}\n",
    "# {0: 'setosasa', 1: 'versicolor', 2: 'virginica'}\n",
    "\n",
    "def plot(X, y, title, x_label, y_label):\n",
    "    ax = plt.subplot(111)\n",
    "    for label, marker, color in zip(range(3), ('^', 's', 'o'), ('blue', 'red', 'green')):\n",
    "        plt.scatter(x=X[:, 0].real[y == label],\n",
    "                   y=X[:, 1].real[y == label],\n",
    "                   color=color, alpha=0.5,\n",
    "                   label=label_dict[label])\n",
    "    plt.xlabel(x_label)\n",
    "    plt.ylabel(y_label)\n",
    "    \n",
    "    leg = plt.legend(loc='upper right', fancybox=True)\n",
    "    leg.get_frame().set_alpha(0.5)\n",
    "    plt.title(title)"
   ]
  },
  {
   "cell_type": "code",
   "execution_count": 3,
   "metadata": {},
   "outputs": [
    {
     "name": "stdout",
     "output_type": "stream",
     "text": [
      "setosa [5.006 3.418 1.464 0.244]\n",
      "versicolor [5.936 2.77  4.26  1.326]\n",
      "virginica [6.588 2.974 5.552 2.026]\n"
     ]
    }
   ],
   "source": [
    "# calculate the mean for each class\n",
    "# to do this we will separate the iris dataset into three dataframes\n",
    "# one for each flower, then we will take one's mean columnwise\n",
    "\n",
    "mean_vectors = []\n",
    "for cl in [0, 1, 2]:\n",
    "    class_mean_vector = np.mean(X[y == cl], axis=0)\n",
    "    mean_vectors.append(class_mean_vector)\n",
    "    print(label_dict[cl], class_mean_vector)"
   ]
  },
  {
   "cell_type": "markdown",
   "metadata": {},
   "source": [
    "## Calculating within-class and between-class scatter matrices\n",
    "\n",
    "We will now calculate a within-class scatter matrix, defined by the following: $$S_W = \\sum_{i=1}^cS_i$$\n",
    "\n",
    "Where we define $S_i$ as: $$S_i = \\sum_{x \\in D_i}^n(x - m_i)(X - m_i)^T$$\n",
    "\n",
    "Here, $m_i$ represents the mean vector for the i class, and a between-class scatter matrix defined by the following:\n",
    "$$S_B = \\sum_{i=1}^cN_i(m_i - m)(m_i - m)^T$$\n",
    "\n",
    "$m$ is the overall mean of the dataset, $m_i$ is the sample mean for each class, and $N_i$ is the sample size for each class (number of observations per class):"
   ]
  },
  {
   "cell_type": "code",
   "execution_count": 7,
   "metadata": {},
   "outputs": [
    {
     "data": {
      "text/plain": [
       "array([[38.9562, 13.683 , 24.614 ,  5.6556],\n",
       "       [13.683 , 17.035 ,  8.12  ,  4.9132],\n",
       "       [24.614 ,  8.12  , 27.22  ,  6.2536],\n",
       "       [ 5.6556,  4.9132,  6.2536,  6.1756]])"
      ]
     },
     "execution_count": 7,
     "metadata": {},
     "output_type": "execute_result"
    }
   ],
   "source": [
    "# Calculate within-class scatter matrix\n",
    "S_W = np.zeros((4, 4))\n",
    "# for each flower\n",
    "for cl, mv in zip([0, 1, 2], mean_vectors):\n",
    "    # scatter matrix for every class, starts with all 0\n",
    "    class_sc_mat = np.zeros((4, 4))\n",
    "    # for each row that describes the specific flower\n",
    "    for row in X[y == cl]:\n",
    "        # make column vectors\n",
    "        row, mv = row.reshape(4,1), mv.reshape(4, 1)\n",
    "        # this ia a 4x4 matrix\n",
    "        class_sc_mat += (row-mv).dot((row-mv).T)\n",
    "    # sum class scatter matrices\n",
    "    S_W += class_sc_mat\n",
    "\n",
    "S_W"
   ]
  },
  {
   "cell_type": "code",
   "execution_count": 9,
   "metadata": {},
   "outputs": [
    {
     "data": {
      "text/plain": [
       "array([[ 63.21213333, -19.534     , 165.16466667,  71.36306667],\n",
       "       [-19.534     ,  10.9776    , -56.0552    , -22.4924    ],\n",
       "       [165.16466667, -56.0552    , 436.64373333, 186.90813333],\n",
       "       [ 71.36306667, -22.4924    , 186.90813333,  80.60413333]])"
      ]
     },
     "execution_count": 9,
     "metadata": {},
     "output_type": "execute_result"
    }
   ],
   "source": [
    "# Calculate the between class scatter matrix\n",
    "\n",
    "# mean of entire dataset\n",
    "overall_mean = np.mean(X, axis=0).reshape(4, 1)\n",
    "\n",
    "# will eventually become between class scatter matrix\n",
    "S_B = np.zeros((4,4))\n",
    "for i, mean_vec in enumerate(mean_vectors):\n",
    "    # number of flowers in each species\n",
    "    n = X[y==i, :].shape[0]\n",
    "    # make column vector for each species\n",
    "    mean_vec = mean_vec.reshape(4, 1)\n",
    "    S_B += n * (mean_vec - overall_mean).dot((mean_vec - overall_mean).T)\n",
    "    \n",
    "S_B"
   ]
  },
  {
   "cell_type": "markdown",
   "metadata": {},
   "source": [
    "Within-class and between-class scatter matrices are generalizations of a step in the ANOVA test (mentioned in the previous chapter). The idea here is to decompose our iris dataset into two distinct parts.\n",
    "\n",
    "Once we have calculated these matrices, we can move onto the next step, which uses matrix algebra to extract linear discriminants."
   ]
  },
  {
   "cell_type": "markdown",
   "metadata": {},
   "source": [
    "## Calculating eigenvalues and eigenvectors for $S^{-1}_WS_B$ \n",
    "Just as we did in PCA, we rely on eigenvalue decompositions of a specific matrix. In the case of LDA, we will be decomposing the matrix $S^{-1}_WS_B$ :"
   ]
  },
  {
   "cell_type": "code",
   "execution_count": 10,
   "metadata": {},
   "outputs": [
    {
     "name": "stdout",
     "output_type": "stream",
     "text": [
      "Eigenvector 1: [ 0.20490976  0.38714331 -0.54648218 -0.71378517]\n",
      "Eigenvalue 1 : 32.27195779972981\n",
      "Eigenvector 2: [-0.00898234 -0.58899857  0.25428655 -0.76703217]\n",
      "Eigenvalue 2 : 0.27756686384004514\n",
      "Eigenvector 3: [ 0.26284129 -0.36351406 -0.41271318  0.62287111]\n",
      "Eigenvalue 3 : -2.170668690724263e-15\n",
      "Eigenvector 4: [ 0.26284129 -0.36351406 -0.41271318  0.62287111]\n",
      "Eigenvalue 4 : -2.170668690724263e-15\n"
     ]
    }
   ],
   "source": [
    "# calculate eigenvalues and eigenvectors of S-1W X SB\n",
    "eig_vals, eig_vecs = np.linalg.eig(np.dot(np.linalg.inv(S_W), S_B))\n",
    "eig_vecs = eig_vecs.real\n",
    "eig_vals = eig_vals.real\n",
    "\n",
    "for i in range(len(eig_vals)):\n",
    "    eigvec_sc = eig_vecs[:,i]\n",
    "    print('Eigenvector {}: {}'.format(i + 1, eigvec_sc))\n",
    "    print('Eigenvalue {} : {}'. format(i+1, eig_vals[i]))"
   ]
  },
  {
   "cell_type": "markdown",
   "metadata": {},
   "source": [
    "Note that the third and fourth eigenvalues are basically zero. This is because the way LDA is trying to work is by drawing decision boundaries between our classes. Because we only have three classes in the iris, we may only draw up to two decision boundaries. In general, fitting LDA to a dataset with n classes will only produce up to n-1 components."
   ]
  },
  {
   "cell_type": "markdown",
   "metadata": {},
   "source": [
    "## Keeping the top k eigenvectors by ordering them by descending eigenvalues\n",
    "\n",
    "As in PCA, we only wish to keep the eigenvectors that are doing most of the work:"
   ]
  },
  {
   "cell_type": "code",
   "execution_count": 11,
   "metadata": {},
   "outputs": [
    {
     "data": {
      "text/plain": [
       "array([[ 0.20490976,  0.38714331, -0.54648218, -0.71378517],\n",
       "       [-0.00898234, -0.58899857,  0.25428655, -0.76703217]])"
      ]
     },
     "execution_count": 11,
     "metadata": {},
     "output_type": "execute_result"
    }
   ],
   "source": [
    "# keep the top two linear discriminants\n",
    "linear_discriminants = eig_vecs.T[:2] \n",
    "linear_discriminants"
   ]
  },
  {
   "cell_type": "markdown",
   "metadata": {},
   "source": [
    "We can look at the ratio of explained variance in each component/linear discriminant by dividing each eigenvalue by the sum total of all eigenvalues:"
   ]
  },
  {
   "cell_type": "code",
   "execution_count": 12,
   "metadata": {},
   "outputs": [
    {
     "data": {
      "text/plain": [
       "array([ 9.91472476e-01,  8.52752434e-03, -6.66881840e-17, -6.66881840e-17])"
      ]
     },
     "execution_count": 12,
     "metadata": {},
     "output_type": "execute_result"
    }
   ],
   "source": [
    "#explained variance ratios\n",
    "eig_vals / eig_vals.sum()"
   ]
  },
  {
   "cell_type": "markdown",
   "metadata": {},
   "source": [
    "It appears that the first component is doing a vast majority of the work and holding over 99% of the information on its own. "
   ]
  },
  {
   "cell_type": "markdown",
   "metadata": {},
   "source": [
    "## Using the top eigenvectors to project onto the new space\n",
    "Now that we have our components, let's plot the projected iris data by first using the eigenvectors to project the original data onto the new space and then calling our plot function:"
   ]
  },
  {
   "cell_type": "code",
   "execution_count": 13,
   "metadata": {},
   "outputs": [
    {
     "data": {
      "image/png": "[encoded data removed]",
      "text/plain": [
       "<Figure size 432x288 with 1 Axes>"
      ]
     },
     "metadata": {},
     "output_type": "display_data"
    }
   ],
   "source": [
    "# LDA projected data\n",
    "lda_iris_projection = np.dot(X, linear_discriminants.T)\n",
    "lda_iris_projection[:5,]\n",
    "\n",
    "plot(lda_iris_projection, y, \"LDA Projection\", \"LDA1\", \"LDA2\")"
   ]
  },
  {
   "cell_type": "markdown",
   "metadata": {},
   "source": [
    "Notice that in this graph, the data is standing almost fully upright (even more than PCA projected data), as if the LDA components are trying to help machine learning models separate the flowers as much as possible by drawing these decision boundaries and providing eigenvectors/linear discriminants. This helps us project data into a space that separates classes as much as possible."
   ]
  },
  {
   "cell_type": "markdown",
   "metadata": {},
   "source": [
    "## How to use LDA in scikit-learn\n",
    "LDA has an implementation in scikit-learn to avoid this very laborious process. It is easily imported:"
   ]
  },
  {
   "cell_type": "code",
   "execution_count": 14,
   "metadata": {},
   "outputs": [],
   "source": [
    "from sklearn.discriminant_analysis import LinearDiscriminantAnalysis"
   ]
  },
  {
   "cell_type": "markdown",
   "metadata": {},
   "source": [
    "From there, let's use it to fit and transform our original iris data and plot the resulting projected dataset so that we may compare it to the projection using PCA. The biggest thing to notice in the following code block is that the fit function requires two inputs."
   ]
  },
  {
   "cell_type": "markdown",
   "metadata": {},
   "source": [
    "Recall how we mentioned that LDA is actually a classifier disguised as a feature transformation algorithm. Unlike PCA, which finds components in an unsupervised manner (without a response variable), LDA will attempt to find the best coordinate system with respect to a response variable that optimizes for class separability. This implies that LDA only works if we have a response variable. If we do, we input the response as a second input to our fit method and let LDA do its thing:"
   ]
  },
  {
   "cell_type": "code",
   "execution_count": 17,
   "metadata": {},
   "outputs": [
    {
     "data": {
      "image/png": "[encoded data removed]",
      "text/plain": [
       "<Figure size 432x288 with 1 Axes>"
      ]
     },
     "metadata": {},
     "output_type": "display_data"
    }
   ],
   "source": [
    "# instantiate the LDA module\n",
    "lda = LinearDiscriminantAnalysis(n_components=2)\n",
    " \n",
    "# fit and transform our original iris data\n",
    "X_lda_iris = lda.fit_transform(X, y)\n",
    " \n",
    "# plot the projected data\n",
    "plot(X_lda_iris, y, \"LDA Projection\", \"LDA1\", \"LDA2\")"
   ]
  },
  {
   "cell_type": "markdown",
   "metadata": {},
   "source": [
    "This graph is a mirror image of the manual LDA that we performed. This is OK. Recall in PCA that the manual version we had contained eigenvectors that had opposite signs (positive versus negative). This does not affect our machine learning pipelines. Within the LDA module, we have some differences to keep note of. Instead of a .components_ attribute, we have a .scalings_ attribute, which acts almost the same:"
   ]
  },
  {
   "cell_type": "code",
   "execution_count": 21,
   "metadata": {},
   "outputs": [
    {
     "data": {
      "text/plain": [
       "array([[-0.81926852,  0.03285975],\n",
       "       [-1.5478732 ,  2.15471106],\n",
       "       [ 2.18494056, -0.93024679],\n",
       "       [ 2.85385002,  2.8060046 ]])"
      ]
     },
     "execution_count": 21,
     "metadata": {},
     "output_type": "execute_result"
    }
   ],
   "source": [
    "# essentially the same as pca.components_, but transposed (4x2 instead of 2x4)\n",
    "lda.scalings_ \n",
    "#  array([[ 0.81926852, 0.03285975], [ 1.5478732 , 2.15471106], [-2.18494056, -0.93024679], [-2.85385002, 2.8060046 ]])"
   ]
  },
  {
   "cell_type": "code",
   "execution_count": 20,
   "metadata": {},
   "outputs": [
    {
     "data": {
      "text/plain": [
       "array([0.99147248, 0.00852752])"
      ]
     },
     "execution_count": 20,
     "metadata": {},
     "output_type": "execute_result"
    }
   ],
   "source": [
    "# same as manual calculations\n",
    "lda.explained_variance_ratio_\n",
    "# array([ 0.9915, 0.0085])"
   ]
  },
  {
   "cell_type": "markdown",
   "metadata": {},
   "source": [
    "The explained variance ratios for the two linear discriminants are exactly the same as the ones we calculated before and notice that they omit the third and fourth eigenvalues because they are virtually zero."
   ]
  },
  {
   "cell_type": "markdown",
   "metadata": {},
   "source": [
    "These components, however, at first glance, look nothing like the manual eigenvectors that we achieved before. The reason for this is that the way that scikit-learn calculates the eigenvectors produces the same eigenvectors, but scaled by a scalar, as follows:"
   ]
  },
  {
   "cell_type": "code",
   "execution_count": 24,
   "metadata": {},
   "outputs": [
    {
     "name": "stdout",
     "output_type": "stream",
     "text": [
      "[-3.99819178 -3.99819178 -3.99819178 -3.99819178]\n",
      "[-3.65826194 -3.65826194 -3.65826194 -3.65826194]\n"
     ]
    }
   ],
   "source": [
    "# show that the sklearn components are just a scalar multiplication from the manual components we calculateda\n",
    "for manual_component, sklearn_component in zip(eig_vecs.T[:2], lda.scalings_.T):\n",
    "    print(sklearn_component / manual_component)"
   ]
  },
  {
   "cell_type": "markdown",
   "metadata": {},
   "source": [
    "The scikit-learn linear discriminants are a scalar multiplication of the manual eigenvectors, which means that they are both valid eigenvectors. The only difference is in the scaling of the projected data."
   ]
  },
  {
   "cell_type": "markdown",
   "metadata": {},
   "source": [
    "These components are organized as a 4 x 2 matrix, instead of the PCA components, which was given to us as a 2 x 4 matrix. This was a choice when developing the module and doesn't affect the math at all for us. LDA, like PCA, scales invariant, so scaling the data matters."
   ]
  },
  {
   "cell_type": "markdown",
   "metadata": {},
   "source": [
    "Let's fit the LDA module to scaled iris data and look at the components to see the difference:"
   ]
  },
  {
   "cell_type": "code",
   "execution_count": 29,
   "metadata": {},
   "outputs": [
    {
     "data": {
      "text/plain": [
       "array([[-0.67614337,  0.0271192 ],\n",
       "       [-0.66890811,  0.93115101],\n",
       "       [ 3.84228173, -1.63586613],\n",
       "       [ 2.17067434,  2.13428251]])"
      ]
     },
     "execution_count": 29,
     "metadata": {},
     "output_type": "execute_result"
    }
   ],
   "source": [
    "from sklearn.preprocessing import StandardScaler\n",
    "\n",
    "# doing a normal z score scaling\n",
    "X_scaled = StandardScaler().fit_transform(X)\n",
    "# fit our LDA to scaled data\n",
    "X_lda_iris = lda.fit_transform(X_scaled, y)\n",
    "\n",
    "lda.scalings_ # different scalings when data are scaled\n",
    " "
   ]
  },
  {
   "cell_type": "markdown",
   "metadata": {},
   "source": [
    "The scalings_ attribute (akin to PCA's components_ attribute) is showing us different arrays, which means that the projection will also be different. To finish our (briefer) description of LDA, let's apply the same code block that we did with PCA and interpret the scalings_ arrays as we did with the components_ attribute of PCA."
   ]
  },
  {
   "cell_type": "markdown",
   "metadata": {},
   "source": [
    "Let's first fit and transform LDA on our truncated iris dataset, where we have only kept the first two features:"
   ]
  },
  {
   "cell_type": "code",
   "execution_count": 31,
   "metadata": {},
   "outputs": [],
   "source": [
    "# cut our last two columns of the original iris dataset \n",
    "iris_2_dim = X[:, 2:4]\n",
    "\n",
    "# center the data\n",
    "iris_2_dim = iris_2_dim - iris_2_dim.mean(axis=0)"
   ]
  },
  {
   "cell_type": "code",
   "execution_count": 32,
   "metadata": {},
   "outputs": [],
   "source": [
    "# fit our LDA to our truncated iris dataset\n",
    "iris_2_dim_transformed_lda = lda.fit_transform(iris_2_dim, y)"
   ]
  },
  {
   "cell_type": "markdown",
   "metadata": {},
   "source": [
    "Let's take a look at the first five rows of our projected dataset:"
   ]
  },
  {
   "cell_type": "code",
   "execution_count": 33,
   "metadata": {},
   "outputs": [
    {
     "data": {
      "text/plain": [
       "array([[-6.04248571,  0.07027756],\n",
       "       [-6.04248571,  0.07027756],\n",
       "       [-6.19690803,  0.28598813],\n",
       "       [-5.88806338, -0.14543302],\n",
       "       [-6.04248571,  0.07027756]])"
      ]
     },
     "execution_count": 33,
     "metadata": {},
     "output_type": "execute_result"
    }
   ],
   "source": [
    "# project data\n",
    "iris_2_dim_transformed_lda[:5,]"
   ]
  },
  {
   "cell_type": "markdown",
   "metadata": {},
   "source": [
    "Our scalings_ matrix is now a 2 x 2 matrix (2 rows and 2 columns) where the columns are the components (instead of the rows being components in PCA). To adjust for this, let's make a new variable called components that holds the transposed version of the scalings_ attribute:"
   ]
  },
  {
   "cell_type": "code",
   "execution_count": 34,
   "metadata": {},
   "outputs": [
    {
     "name": "stdout",
     "output_type": "stream",
     "text": [
      "[[ 1.54422328  2.40338224]\n",
      " [-2.15710573  5.02431491]]\n"
     ]
    }
   ],
   "source": [
    "# different notation\n",
    "components = lda.scalings_.T # transposing gives same style as PCA. We want rows to be components\n",
    "print(components)"
   ]
  },
  {
   "cell_type": "code",
   "execution_count": 35,
   "metadata": {},
   "outputs": [
    {
     "data": {
      "text/plain": [
       "array([[-6.04248571,  0.07027756],\n",
       "       [-6.04248571,  0.07027756],\n",
       "       [-6.19690803,  0.28598813],\n",
       "       [-5.88806338, -0.14543302],\n",
       "       [-6.04248571,  0.07027756]])"
      ]
     },
     "execution_count": 35,
     "metadata": {},
     "output_type": "execute_result"
    }
   ],
   "source": [
    " np.dot(iris_2_dim, components.T)[:5,] # same as transform method"
   ]
  },
  {
   "cell_type": "markdown",
   "metadata": {},
   "source": [
    "We can see that se uses the components variable in the same way that we did the PCA components_ attribute. This implies that the projection is another linear combination of original columns, just as they were in PCA. It is also worth noting that LDA still de-correlates features, just as PCA did. To show this, let us calculate the correlation coefficient matrix of both the original truncated iris data and the correlation matrix of the projected data:"
   ]
  },
  {
   "cell_type": "code",
   "execution_count": 36,
   "metadata": {},
   "outputs": [
    {
     "data": {
      "text/plain": [
       "array([[1.       , 0.9627571],\n",
       "       [0.9627571, 1.       ]])"
      ]
     },
     "execution_count": 36,
     "metadata": {},
     "output_type": "execute_result"
    }
   ],
   "source": [
    "# original features are highly correlated\n",
    "np.corrcoef(iris_2_dim.T)"
   ]
  },
  {
   "cell_type": "code",
   "execution_count": 38,
   "metadata": {},
   "outputs": [
    {
     "data": {
      "text/plain": [
       "array([[1.00000000e+00, 1.48769096e-15],\n",
       "       [1.48769096e-15, 1.00000000e+00]])"
      ]
     },
     "execution_count": 38,
     "metadata": {},
     "output_type": "execute_result"
    }
   ],
   "source": [
    "# new LDA features are highly uncorrelated, like in PCA\n",
    "np.corrcoef(iris_2_dim_transformed_lda.T)"
   ]
  },
  {
   "cell_type": "markdown",
   "metadata": {},
   "source": [
    "Note that in the top right value in each matrix, the original matrix is showing highly correlated features, while the projected data using LDA has highly independent features (given the close to zero correlation coefficient). To wrap up our interpretation of LDA before we move onto the real fun (using both PCA and LDA for machine learning), let's take a look at a visualization of the scalings_ attribute of LDA, just as we did for PCA:"
   ]
  },
  {
   "cell_type": "code",
   "execution_count": 39,
   "metadata": {},
   "outputs": [
    {
     "data": {
      "text/plain": [
       "[(-3, 3),\n",
       " Text(0,0.5,'lda component 2'),\n",
       " (-10, 10),\n",
       " Text(0.5,0,'lda component 1'),\n",
       " Text(0.5,1,'Linear Discriminant Analysis Projected Data')]"
      ]
     },
     "execution_count": 39,
     "metadata": {},
     "output_type": "execute_result"
    },
    {
     "data": {
      "image/png": "[encoded data removed]",
      "text/plain": [
       "<Figure size 720x720 with 2 Axes>"
      ]
     },
     "metadata": {},
     "output_type": "display_data"
    }
   ],
   "source": [
    "# This code is graphing both the original iris data and the projected version of it using LDA.\n",
    "# Moreover, on each graph, the scalings of the LDA are graphed as vectors on the data themselves\n",
    "# The longer of the arrows is meant to describe the first scaling vector and\n",
    "# the shorter of the arrows describes the second scaling vector\n",
    "def draw_vector(v0, v1, ax):\n",
    "    arrowprops=dict(arrowstyle='->',\n",
    "                    linewidth=2,\n",
    "                    shrinkA=0, shrinkB=0)\n",
    "    ax.annotate('', v1, v0, arrowprops=arrowprops)\n",
    "    \n",
    "fig, ax = plt.subplots(2, 1, figsize=(10, 10))\n",
    "fig.subplots_adjust(left=0.0625, right=0.95, wspace=0.1)\n",
    "\n",
    "# plot data\n",
    "ax[0].scatter(iris_2_dim[:, 0], iris_2_dim[:, 1], alpha=0.2)\n",
    "for length, vector in zip(lda.explained_variance_ratio_, components):\n",
    "    v = vector * .5\n",
    "    draw_vector(lda.xbar_, lda.xbar_ + v, ax=ax[0])  # lda.xbar_ is equivalent to pca.mean_\n",
    "ax[0].axis('equal')\n",
    "ax[0].set(xlabel='x', ylabel='y', title='Original Iris Dataset',\n",
    "         xlim=(-3, 3), ylim=(-3, 3))\n",
    "\n",
    "ax[1].scatter(iris_2_dim_transformed_lda[:, 0], iris_2_dim_transformed_lda[:, 1], alpha=0.2)\n",
    "for length, vector in zip(lda.explained_variance_ratio_, components):\n",
    "    transformed_component = lda.transform([vector])[0]\n",
    "    v = transformed_component * .1\n",
    "    draw_vector(iris_2_dim_transformed_lda.mean(axis=0), iris_2_dim_transformed_lda.mean(axis=0) + v, ax=ax[1])\n",
    "ax[1].axis('equal')\n",
    "ax[1].set(xlabel='lda component 1', ylabel='lda component 2',\n",
    "          title='Linear Discriminant Analysis Projected Data',\n",
    "          xlim=(-10, 10), ylim=(-3, 3))"
   ]
  },
  {
   "cell_type": "markdown",
   "metadata": {},
   "source": [
    "Notice how the component, instead of going with the variance of the data, goes almost perpendicular to it; it's following the separation of the classes instead. Also, note how it's almost parallel with the gap between the flowers on the left and right side. LDA is trying to capture the separation between classes"
   ]
  },
  {
   "cell_type": "markdown",
   "metadata": {},
   "source": [
    "In the top graph, we can see the original iris dataset with the scalings_ vectors overlaid on top of the data-points. The longer vector is pointing almost parallel to the large gap between the setosas on the bottom left and the rest of the flowers on the top right. This is indicative that the LDA is trying to point out the best directions to look in to separate the classes of flowers in the original coordinate system."
   ]
  },
  {
   "cell_type": "markdown",
   "metadata": {},
   "source": [
    "It is important to note here that the scalings_ attribute of LDA does not correlate 1:1 to the new coordinate system as it did in PCA. This is because the goal of scalings_ is not to create a new coordinate system, but just to point in the direction of boundaries in the data that optimizes for class separability. We will not go into detail about the calculation of these new coordinate systems as we did with PCA. It is sufficient to understand that the main difference between PCA and LDA is that PCA is an unsupervised method that captures the variance of the data as a whole whereas LDA, a supervised method, uses the response variable to capture class separability."
   ]
  },
  {
   "cell_type": "markdown",
   "metadata": {},
   "source": [
    "Limitations of supervised feature transformations like LDA mean that they cannot help with tasks such as clustering, whereas PCA can help. This is because clustering is an unsupervised task and does not have a response variable for LDA to use."
   ]
  },
  {
   "cell_type": "code",
   "execution_count": null,
   "metadata": {},
   "outputs": [],
   "source": []
  }
 ],
 "metadata": {
  "kernelspec": {
   "display_name": "Python 3",
   "language": "python",
   "name": "python3"
  },
  "language_info": {
   "codemirror_mode": {
    "name": "ipython",
    "version": 3
   },
   "file_extension": ".py",
   "mimetype": "text/x-python",
   "name": "python",
   "nbconvert_exporter": "python",
   "pygments_lexer": "ipython3",
   "version": "3.6.4"
  }
 },
 "nbformat": 4,
 "nbformat_minor": 2
}
