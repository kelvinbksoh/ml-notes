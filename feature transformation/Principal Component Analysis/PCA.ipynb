{
 "cells": [
  {
   "cell_type": "markdown",
   "metadata": {},
   "source": [
    "## PCA with the Iris dataset"
   ]
  },
  {
   "cell_type": "code",
   "execution_count": 1,
   "metadata": {},
   "outputs": [],
   "source": [
    "from sklearn.datasets import load_iris\n",
    "import matplotlib.pyplot as plt\n",
    "%matplotlib inline"
   ]
  },
  {
   "cell_type": "code",
   "execution_count": 2,
   "metadata": {},
   "outputs": [],
   "source": [
    "iris = load_iris()"
   ]
  },
  {
   "cell_type": "code",
   "execution_count": 3,
   "metadata": {},
   "outputs": [],
   "source": [
    "X = iris.data\n",
    "y = iris.target"
   ]
  },
  {
   "cell_type": "code",
   "execution_count": 4,
   "metadata": {},
   "outputs": [
    {
     "data": {
      "text/plain": [
       "array(['setosa', 'versicolor', 'virginica'], dtype='<U10')"
      ]
     },
     "execution_count": 4,
     "metadata": {},
     "output_type": "execute_result"
    }
   ],
   "source": [
    "# Name of the target variable\n",
    "iris.target_names"
   ]
  },
  {
   "cell_type": "code",
   "execution_count": 5,
   "metadata": {},
   "outputs": [
    {
     "data": {
      "text/plain": [
       "['sepal length (cm)',\n",
       " 'sepal width (cm)',\n",
       " 'petal length (cm)',\n",
       " 'petal width (cm)']"
      ]
     },
     "execution_count": 5,
     "metadata": {},
     "output_type": "execute_result"
    }
   ],
   "source": [
    "# Name of the features\n",
    "iris.feature_names"
   ]
  },
  {
   "cell_type": "code",
   "execution_count": 6,
   "metadata": {},
   "outputs": [],
   "source": [
    "label_dict = {i: k for i, k in enumerate(iris.target_names)}\n",
    "# {0: 'setosasa', 1: 'versicolor', 2: 'virginica'}\n",
    "\n",
    "def plot(X, y, title, x_label, y_label):\n",
    "    ax = plt.subplot(111)\n",
    "    for label, marker, color in zip(range(3), ('^', 's', 'o'), ('blue', 'red', 'green')):\n",
    "        plt.scatter(x=X[:, 0].real[y == label],\n",
    "                   y=X[:, 1].real[y == label],\n",
    "                   color=color, alpha=0.5,\n",
    "                   label=label_dict[label])\n",
    "    plt.xlabel(x_label)\n",
    "    plt.ylabel(y_label)\n",
    "    \n",
    "    leg = plt.legend(loc='upper right', fancybox=True)\n",
    "    leg.get_frame().set_alpha(0.5)\n",
    "    plt.title(title)"
   ]
  },
  {
   "cell_type": "code",
   "execution_count": 7,
   "metadata": {},
   "outputs": [
    {
     "data": {
      "image/png": "[encoded data removed]",
      "text/plain": [
       "<Figure size 432x288 with 1 Axes>"
      ]
     },
     "metadata": {},
     "output_type": "display_data"
    }
   ],
   "source": [
    "plot(X, y, \"Original Iris Data\", \"sepal length (cm)\", \"sepal width (cm)\")"
   ]
  },
  {
   "cell_type": "markdown",
   "metadata": {},
   "source": [
    "Let us now perform a PCA of the iris dataset in order to obtain our principal components. Recall that this happens in four steps.\n",
    "\n",
    "Creating the covariance matrix of the dataset\n",
    "\n",
    "To calculate the covariance matrix of iris, we will first calculate the feature-wise mean vector (for use in the future) and then calculate our covariance matrix using NumPy.\n",
    "\n",
    "The covariance matrix is a d x d matrix (square matrix with the same number of features as the number of rows and columns) that represents feature interactions between each feature. It is quite similar to a correlation matrix:"
   ]
  },
  {
   "cell_type": "code",
   "execution_count": 8,
   "metadata": {},
   "outputs": [
    {
     "name": "stdout",
     "output_type": "stream",
     "text": [
      "[5.84333333 3.054      3.75866667 1.19866667]\n"
     ]
    }
   ],
   "source": [
    "# Calculate a PCA manually\n",
    "import numpy as np\n",
    "\n",
    "# calculate the mean vector\n",
    "mean_vector = X.mean(axis=0)\n",
    "print(mean_vector)"
   ]
  },
  {
   "cell_type": "code",
   "execution_count": 9,
   "metadata": {},
   "outputs": [
    {
     "name": "stdout",
     "output_type": "stream",
     "text": [
      "(4, 4)\n"
     ]
    }
   ],
   "source": [
    "# calculate the covariance matrix\n",
    "cov_mat = np.cov((X - mean_vector).T)\n",
    "print(cov_mat.shape)"
   ]
  },
  {
   "cell_type": "code",
   "execution_count": 10,
   "metadata": {},
   "outputs": [
    {
     "data": {
      "text/plain": [
       "array([[ 0.68569351, -0.03926846,  1.27368233,  0.5169038 ],\n",
       "       [-0.03926846,  0.18800403, -0.32171275, -0.11798121],\n",
       "       [ 1.27368233, -0.32171275,  3.11317942,  1.29638747],\n",
       "       [ 0.5169038 , -0.11798121,  1.29638747,  0.58241432]])"
      ]
     },
     "execution_count": 10,
     "metadata": {},
     "output_type": "execute_result"
    }
   ],
   "source": [
    "cov_mat"
   ]
  },
  {
   "cell_type": "markdown",
   "metadata": {},
   "source": [
    "Calculating the eigenvalues of the covariance matrix"
   ]
  },
  {
   "cell_type": "code",
   "execution_count": 11,
   "metadata": {},
   "outputs": [
    {
     "name": "stdout",
     "output_type": "stream",
     "text": [
      "Eigenvector 1: \n",
      "[ 0.36158968 -0.08226889  0.85657211  0.35884393]\n",
      "Eigenvalue 1 from covariance matrix: 4.224840768320114\n",
      "------------------------------\n",
      "Eigenvector 2: \n",
      "[-0.65653988 -0.72971237  0.1757674   0.07470647]\n",
      "Eigenvalue 2 from covariance matrix: 0.24224357162751575\n",
      "------------------------------\n",
      "Eigenvector 3: \n",
      "[-0.58099728  0.59641809  0.07252408  0.54906091]\n",
      "Eigenvalue 3 from covariance matrix: 0.0785239080941545\n",
      "------------------------------\n",
      "Eigenvector 4: \n",
      "[ 0.31725455 -0.32409435 -0.47971899  0.75112056]\n",
      "Eigenvalue 4 from covariance matrix: 0.02368302712600224\n",
      "------------------------------\n"
     ]
    }
   ],
   "source": [
    "# calculate the eigenvectors and eigenvalues of our covariance matrix of the iris dataset\n",
    "eig_val_cov, eig_vec_cov = np.linalg.eig(cov_mat)\n",
    "\n",
    "# Print the eigen vectors and corresponding eigenvalues\n",
    "# in order of descending eigenvalues\n",
    "for i in range(len(eig_val_cov)):\n",
    " eigvec_cov = eig_vec_cov[:,i]\n",
    " print('Eigenvector {}: \\n{}'.format(i+1, eigvec_cov))\n",
    " print('Eigenvalue {} from covariance matrix: {}'.format(i+1, eig_val_cov[i]))\n",
    " print(30 * '-')\n"
   ]
  },
  {
   "cell_type": "code",
   "execution_count": 12,
   "metadata": {},
   "outputs": [
    {
     "name": "stdout",
     "output_type": "stream",
     "text": [
      "Eigenvector 1: \n",
      "[ 0.36158968 -0.08226889  0.85657211  0.35884393]\n",
      "Eigenvalue 1 from covariance matrix: 4.224840768320114\n",
      "------------------------------\n",
      "Eigenvector 2: \n",
      "[-0.65653988 -0.72971237  0.1757674   0.07470647]\n",
      "Eigenvalue 2 from covariance matrix: 0.24224357162751575\n",
      "------------------------------\n",
      "Eigenvector 3: \n",
      "[-0.58099728  0.59641809  0.07252408  0.54906091]\n",
      "Eigenvalue 3 from covariance matrix: 0.0785239080941545\n",
      "------------------------------\n",
      "Eigenvector 4: \n",
      "[ 0.31725455 -0.32409435 -0.47971899  0.75112056]\n",
      "Eigenvalue 4 from covariance matrix: 0.02368302712600224\n",
      "------------------------------\n"
     ]
    }
   ],
   "source": [
    "# calculate the eigenvectors and eigvenvalues of our covariance matrix of the iris dataset\n",
    "eig_val_cov, eig_vec_cov = np.linalg.eig(cov_mat)\n",
    "\n",
    "# Print the eigen vectors and corresponding eigenvalues\n",
    "# in order of descending eigenvalues\n",
    "for i in range(len(eig_val_cov)):\n",
    "    eigvec_cov = eig_vec_cov[:, i]\n",
    "    print('Eigenvector {}: \\n{}'.format(i+1, eigvec_cov))\n",
    "    print('Eigenvalue {} from covariance matrix: {}'.format(i+1, eig_val_cov[i]))\n",
    "    print(30 * '-')"
   ]
  },
  {
   "cell_type": "code",
   "execution_count": 13,
   "metadata": {},
   "outputs": [
    {
     "data": {
      "text/plain": [
       "array([4.22484077, 0.24224357, 0.07852391, 0.02368303])"
      ]
     },
     "execution_count": 13,
     "metadata": {},
     "output_type": "execute_result"
    }
   ],
   "source": [
    "# Keeping the top k eigenvalues (sorted by the descending eigenvalues)\n",
    "eig_val_cov"
   ]
  },
  {
   "cell_type": "markdown",
   "metadata": {},
   "source": [
    "A scree plot is a simple line graph that shows the percentage of total variance explained in the data by each principal component. \n",
    "\n",
    "To build this plot, we will sort the eigenvalues in order of descending value and plot the cumulative variance explained by each component and all components prior. \n",
    "\n",
    "In the case of iris, we will have four points on our scree plot, one for each principal component. Each component on its own explains a percentage of the total variance captured, and all components, when the percentages are added up, should account for 100% of the total variance in the dataset."
   ]
  },
  {
   "cell_type": "markdown",
   "metadata": {},
   "source": [
    "Let's calculate the percentage of variance explained by each eigenvector (principal component) by taking the eigenvalue associated with that eigenvector and dividing it by the sum of all eigenvalues:"
   ]
  },
  {
   "cell_type": "code",
   "execution_count": 15,
   "metadata": {},
   "outputs": [
    {
     "data": {
      "text/plain": [
       "array([0.92461621, 0.05301557, 0.01718514, 0.00518309])"
      ]
     },
     "execution_count": 15,
     "metadata": {},
     "output_type": "execute_result"
    }
   ],
   "source": [
    "# the percentages of the variance captured by each eigenvalue\n",
    "# is equal to the eigenvalue of that components divided by\n",
    "# the sum of all eigen values\n",
    "\n",
    "explained_variance_ratio = eig_val_cov/eig_val_cov.sum()\n",
    "explained_variance_ratio\n",
    "\n",
    "#array([ 0.92461621,  0.05301557,  0.01718514,  0.00518309])"
   ]
  },
  {
   "cell_type": "code",
   "execution_count": 16,
   "metadata": {},
   "outputs": [
    {
     "data": {
      "text/plain": [
       "array([0.92461621, 0.05301557, 0.01718514, 0.00518309])"
      ]
     },
     "execution_count": 16,
     "metadata": {},
     "output_type": "execute_result"
    }
   ],
   "source": [
    "# the percentage of the variance captured by each eigenvalue\n",
    "# is equal to the eigenvalue of that components divided by\n",
    "# the sum of all eigen values\n",
    "\n",
    "explained_variance_ratio = eig_val_cov / eig_val_cov.sum()\n",
    "explained_variance_ratio"
   ]
  },
  {
   "cell_type": "markdown",
   "metadata": {},
   "source": [
    "What this is telling us is that our four principal components differ vastly in the amount of variance that they account for. The first principal component, as a single feature/column, is able to account for over 92% of the variance in the data. That is astonishing! This means that this single super-column theoretically can do nearly all of the work of the four original columns."
   ]
  },
  {
   "cell_type": "markdown",
   "metadata": {},
   "source": [
    "To visualize our scree plot, let's create a plot with the four principal components on the x axis and the cumulative variance explained on the y axis. For every data-point, the y position will represent the total percentage of variance explained using all principal components up until that one:"
   ]
  },
  {
   "cell_type": "code",
   "execution_count": 17,
   "metadata": {},
   "outputs": [
    {
     "data": {
      "text/plain": [
       "Text(0,0.5,'% of Variance Explained <= k')"
      ]
     },
     "execution_count": 17,
     "metadata": {},
     "output_type": "execute_result"
    },
    {
     "data": {
      "image/png": "[encoded data removed]",
      "text/plain": [
       "<Figure size 432x288 with 1 Axes>"
      ]
     },
     "metadata": {},
     "output_type": "display_data"
    }
   ],
   "source": [
    "# Scree Plot\n",
    "\n",
    "plt.plot(np.cumsum(explained_variance_ratio))\n",
    "plt.title('Scree Plot')\n",
    "plt.xlabel('Principal Component (k)')\n",
    "plt.ylabel('% of Variance Explained <= k')"
   ]
  },
  {
   "cell_type": "markdown",
   "metadata": {},
   "source": [
    "This is telling us that the first two components, by themselves, account for nearly 98% of the total variance of the original dataset, meaning that if we only used the first two eigenvectors and used them as our new principal components, then we would be in good shape. \n",
    "\n",
    "We would be able to shrink the size of our dataset by half (from four to two columns) while maintaining integrity in performance and speeding up performance.\n",
    "\n",
    "*An eigenvalue decomposition will always result in as many eigenvectors as we have features. It is up to us to choose how many principal components we wish to use once they are all calculated. This highlights the fact that PCA, like most other algorithms in this text, is semi-supervised and require some human input."
   ]
  },
  {
   "cell_type": "markdown",
   "metadata": {},
   "source": [
    "### Using the kept eigenvectors to transform new data-points \n",
    "\n",
    "Once we decide to keep two principal components (whether we use a grid search module or the analysis of a scree plot to find the optimal number doesn't matter), we have to be able to use these components to transform incoming, out of sample data-points. To do this, let's first isolate the top two eigenvectors and store them in a new variable called top_2_eigenvectors:"
   ]
  },
  {
   "cell_type": "code",
   "execution_count": 18,
   "metadata": {},
   "outputs": [
    {
     "data": {
      "text/plain": [
       "array([[ 0.36158968, -0.65653988, -0.58099728,  0.31725455],\n",
       "       [-0.08226889, -0.72971237,  0.59641809, -0.32409435],\n",
       "       [ 0.85657211,  0.1757674 ,  0.07252408, -0.47971899],\n",
       "       [ 0.35884393,  0.07470647,  0.54906091,  0.75112056]])"
      ]
     },
     "execution_count": 18,
     "metadata": {},
     "output_type": "execute_result"
    }
   ],
   "source": [
    "eig_vec_cov"
   ]
  },
  {
   "cell_type": "code",
   "execution_count": 19,
   "metadata": {},
   "outputs": [
    {
     "data": {
      "text/plain": [
       "array([[ 0.36158968, -0.08226889,  0.85657211,  0.35884393],\n",
       "       [-0.65653988, -0.72971237,  0.1757674 ,  0.07470647]])"
      ]
     },
     "execution_count": 19,
     "metadata": {},
     "output_type": "execute_result"
    }
   ],
   "source": [
    "eig_vec_cov[:, :2].T"
   ]
  },
  {
   "cell_type": "code",
   "execution_count": 20,
   "metadata": {},
   "outputs": [
    {
     "data": {
      "text/plain": [
       "array([[ 0.36158968, -0.08226889,  0.85657211,  0.35884393],\n",
       "       [-0.65653988, -0.72971237,  0.1757674 ,  0.07470647]])"
      ]
     },
     "execution_count": 20,
     "metadata": {},
     "output_type": "execute_result"
    }
   ],
   "source": [
    "# store the top two eigenvectors in a variable\n",
    "top_2_eigenvectors = eig_vec_cov[:, :2].T\n",
    "\n",
    "# show the transpose so that each row is a principal component, we have two rows == two components\n",
    "top_2_eigenvectors"
   ]
  },
  {
   "cell_type": "code",
   "execution_count": 21,
   "metadata": {},
   "outputs": [
    {
     "data": {
      "text/plain": [
       "(2, 4)"
      ]
     },
     "execution_count": 21,
     "metadata": {},
     "output_type": "execute_result"
    }
   ],
   "source": [
    "top_2_eigenvectors.shape"
   ]
  },
  {
   "cell_type": "markdown",
   "metadata": {},
   "source": [
    "With these vectors in place, we can use them to project our data into the new and improved super-dataset by multiplying the two matrices together: iris_X and top_2_eigenvectors. The following image shows us how we are going to make sure that the numbers work out:\n",
    "\n",
    "<img src=\"pca_transformed_data.png\" alt=\"Drawing\" width=\"500px\" height=\"500px\"/>"
   ]
  },
  {
   "cell_type": "markdown",
   "metadata": {},
   "source": [
    "The preceding figure shows how to utilize principal components to transform datasets from their original feature spaces to the new coordinate systems. In the case of iris, we take our original 150 x 4 dataset and multiply it by the transpose of the top two eigenvectors. We utilize the transpose to ensure that the matrix sizes match up. The result is a matrix with the same number of rows but a reduced number of columns. Each row is multiplied by the two principal components.\n",
    "\n",
    "\n",
    "By multiplying these matrices together, we are projecting our original dataset onto this new space of two dimensions:"
   ]
  },
  {
   "cell_type": "code",
   "execution_count": 22,
   "metadata": {},
   "outputs": [
    {
     "data": {
      "text/plain": [
       "array([[ 2.82713597, -5.64133105],\n",
       "       [ 2.79595248, -5.14516688],\n",
       "       [ 2.62152356, -5.17737812],\n",
       "       [ 2.7649059 , -5.00359942],\n",
       "       [ 2.78275012, -5.64864829]])"
      ]
     },
     "execution_count": 22,
     "metadata": {},
     "output_type": "execute_result"
    }
   ],
   "source": [
    "# to transform our data from having shape (150, 4) to  (150, 2)\n",
    "# we will multiply the matrices of our data and our eigen vectors together\n",
    "\n",
    "np.dot(X, top_2_eigenvectors.T)[:5, ]"
   ]
  },
  {
   "cell_type": "code",
   "execution_count": 25,
   "metadata": {},
   "outputs": [
    {
     "data": {
      "text/plain": [
       "array([[-2.68420713, -0.32660731],\n",
       "       [-2.71539062,  0.16955685],\n",
       "       [-2.88981954,  0.13734561],\n",
       "       [-2.7464372 ,  0.31112432],\n",
       "       [-2.72859298, -0.33392456]])"
      ]
     },
     "execution_count": 25,
     "metadata": {},
     "output_type": "execute_result"
    }
   ],
   "source": [
    "# # manually centering our data to match scikit-learn's implementation of PCA\n",
    "# np.dot(X - mean_vector, top_2_eigenvectors.T)[:5, ] # scikit-learn PCA"
   ]
  },
  {
   "cell_type": "markdown",
   "metadata": {},
   "source": [
    "And that's it. We have transformed our four-dimensional iris data into a new matrix with only two columns. This new matrix may serve in place of the original dataset in our machine learning pipeline."
   ]
  },
  {
   "cell_type": "code",
   "execution_count": 23,
   "metadata": {},
   "outputs": [],
   "source": [
    "X_pca = np.dot(X, top_2_eigenvectors.T)[:, ]"
   ]
  },
  {
   "cell_type": "code",
   "execution_count": 24,
   "metadata": {},
   "outputs": [
    {
     "data": {
      "text/plain": [
       "array([[ 2.82713597, -5.64133105],\n",
       "       [ 2.79595248, -5.14516688],\n",
       "       [ 2.62152356, -5.17737812],\n",
       "       [ 2.7649059 , -5.00359942],\n",
       "       [ 2.78275012, -5.64864829]])"
      ]
     },
     "execution_count": 24,
     "metadata": {},
     "output_type": "execute_result"
    }
   ],
   "source": [
    "X_pca[:5]"
   ]
  },
  {
   "cell_type": "markdown",
   "metadata": {},
   "source": [
    "And that's it. We have transformed our four-dimensional iris data into a new matrix with only two columns. This new matrix may serve in place of the original dataset in our machine learning pipeline."
   ]
  },
  {
   "cell_type": "code",
   "execution_count": null,
   "metadata": {},
   "outputs": [],
   "source": [
    "import matplotlib.pyplot as plt\n",
    "%matplotlib inline\n",
    "import seaborn as sns\n",
    "plt.style.use('seaborn')\n",
    "plot(X_pca, y, \"Iris: Data projected onto first two PCA components\", \"PCA1\", \"PCA2\")"
   ]
  },
  {
   "cell_type": "code",
   "execution_count": null,
   "metadata": {},
   "outputs": [],
   "source": [
    "# References and credits to\n",
    "# Feature Engineering Made Easy"
   ]
  }
 ],
 "metadata": {
  "kernelspec": {
   "display_name": "Python 3",
   "language": "python",
   "name": "python3"
  },
  "language_info": {
   "codemirror_mode": {
    "name": "ipython",
    "version": 3
   },
   "file_extension": ".py",
   "mimetype": "text/x-python",
   "name": "python",
   "nbconvert_exporter": "python",
   "pygments_lexer": "ipython3",
   "version": "3.6.4"
  }
 },
 "nbformat": 4,
 "nbformat_minor": 2
}
