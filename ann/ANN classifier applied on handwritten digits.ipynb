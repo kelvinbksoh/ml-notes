{
 "cells": [
  {
   "cell_type": "markdown",
   "metadata": {},
   "source": [
    "## ANN classifier applied on handwritten digits"
   ]
  },
  {
   "cell_type": "code",
   "execution_count": 1,
   "metadata": {},
   "outputs": [],
   "source": [
    "import pandas as pd\n",
    "from sklearn.datasets import load_digits\n",
    "from sklearn.cross_validation import train_test_split\n",
    "from sklearn.pipeline import Pipeline\n",
    "from sklearn.preprocessing import StandardScaler"
   ]
  },
  {
   "cell_type": "code",
   "execution_count": 2,
   "metadata": {},
   "outputs": [],
   "source": [
    "from sklearn.neural_network import MLPClassifier\n",
    "digits = load_digits()\n",
    "X = digits.data\n",
    "y = digits.target\n"
   ]
  },
  {
   "cell_type": "code",
   "execution_count": 3,
   "metadata": {},
   "outputs": [
    {
     "data": {
      "text/plain": [
       "((1797, 64), (1797,))"
      ]
     },
     "execution_count": 3,
     "metadata": {},
     "output_type": "execute_result"
    }
   ],
   "source": [
    "X.shape, y.shape"
   ]
  },
  {
   "cell_type": "code",
   "execution_count": 5,
   "metadata": {},
   "outputs": [
    {
     "data": {
      "text/plain": [
       "array([ 0.,  0.,  5., 13.,  9.,  1.,  0.,  0.,  0.,  0., 13., 15., 10.,\n",
       "       15.,  5.,  0.,  0.,  3., 15.,  2.,  0., 11.,  8.,  0.,  0.,  4.,\n",
       "       12.,  0.,  0.,  8.,  8.,  0.,  0.,  5.,  8.,  0.,  0.,  9.,  8.,\n",
       "        0.,  0.,  4., 11.,  0.,  1., 12.,  7.,  0.,  0.,  2., 14.,  5.,\n",
       "       10., 12.,  0.,  0.,  0.,  0.,  6., 13., 10.,  0.,  0.,  0.])"
      ]
     },
     "execution_count": 5,
     "metadata": {},
     "output_type": "execute_result"
    }
   ],
   "source": [
    "X[0]"
   ]
  },
  {
   "cell_type": "code",
   "execution_count": 10,
   "metadata": {},
   "outputs": [
    {
     "data": {
      "text/plain": [
       "<matplotlib.image.AxesImage at 0x165664ce9b0>"
      ]
     },
     "execution_count": 10,
     "metadata": {},
     "output_type": "execute_result"
    },
    {
     "data": {
      "image/png": "[encoded data removed]",
      "text/plain": [
       "<matplotlib.figure.Figure at 0x165664970b8>"
      ]
     },
     "metadata": {},
     "output_type": "display_data"
    }
   ],
   "source": [
    "# Plotting first digit\n",
    "import matplotlib.pyplot as plt\n",
    "#plt.matshow(digits.images[0])\n",
    "plt.imshow(X[0].reshape(8, 8))\n",
    "# Printing first digit '0' in matrix form"
   ]
  },
  {
   "cell_type": "code",
   "execution_count": 19,
   "metadata": {},
   "outputs": [],
   "source": [
    "from sklearn.model_selection import train_test_split\n",
    "X_std = StandardScaler()\n",
    "X_std.fit_transform(X)\n",
    "X_train, X_test, y_train, y_test = train_test_split(X, y, test_size=0.3, random_state=42)"
   ]
  },
  {
   "cell_type": "code",
   "execution_count": 20,
   "metadata": {},
   "outputs": [],
   "source": [
    "# Grid Search - Neural Network\n",
    "from sklearn.pipeline import Pipeline\n",
    "from sklearn.model_selection import train_test_split, GridSearchCV\n",
    "from sklearn.metrics import accuracy_score, classification_report\n"
   ]
  },
  {
   "cell_type": "markdown",
   "metadata": {},
   "source": [
    "An MLP classifier has been used with hidden layers of 100 and 50 in the first and second\n",
    "hidden layers consecutively. An Adam optimizer has been used for reduction of errors. A\n",
    "Relu activation function has been used for all the neurons with learning rate as 0.0001.\n",
    "Finally, the total number of iterations as 300 at initiation:"
   ]
  },
  {
   "cell_type": "code",
   "execution_count": 21,
   "metadata": {},
   "outputs": [],
   "source": [
    "pipeline = Pipeline([('mlp', MLPClassifier(hidden_layer_sizes=(100, 50, ),\n",
    "                                          activation='relu', solver='adam', alpha=0.0001, max_iter=300))])"
   ]
  },
  {
   "cell_type": "markdown",
   "metadata": {},
   "source": [
    "The above parameters are used only for the initiation of the classifier, whereas the following\n",
    "code describes grid search using the pipeline function. The learning rate and maximum\n",
    "number of iterations are used to find the best combinations. However, readers are\n",
    "encouraged to add other features and test where even better results can be obtained:"
   ]
  },
  {
   "cell_type": "code",
   "execution_count": 22,
   "metadata": {},
   "outputs": [],
   "source": [
    "parameters = {'mlp__alpha': (0.001, 0.01, 0.1, 0.3, 0.5, 1.0),\n",
    "             'mlp__max_iter': (100, 200, 300)}"
   ]
  },
  {
   "cell_type": "markdown",
   "metadata": {},
   "source": [
    "Grid search with five-fold cross-validation has been used with default number of cores with\n",
    "scoring as accuracy used. Nonetheless, you can change it to 10-fold cross-validation and so\n",
    "on, to see how accuracy changes with a change in the cross-validation metrics:"
   ]
  },
  {
   "cell_type": "code",
   "execution_count": 25,
   "metadata": {},
   "outputs": [
    {
     "name": "stdout",
     "output_type": "stream",
     "text": [
      "Fitting 5 folds for each of 18 candidates, totalling 90 fits\n"
     ]
    },
    {
     "name": "stderr",
     "output_type": "stream",
     "text": [
      "[Parallel(n_jobs=-1)]: Done  34 tasks      | elapsed:    7.4s\n",
      "[Parallel(n_jobs=-1)]: Done  90 out of  90 | elapsed:   17.5s finished\n"
     ]
    },
    {
     "name": "stdout",
     "output_type": "stream",
     "text": [
      "\n",
      "\n",
      "Neural Network Best Training score: 0.955\n",
      "\n",
      "Neural Network Best parameters set:\n",
      "\tmlp__alpha: 0.1\n",
      "\tmlp__max_iter: 300\n",
      "\n",
      "Neural Network Training accuracy: 1.0\n",
      "\n",
      "Neural Network Complete report of Training data\n",
      "              precision    recall  f1-score   support\n",
      "\n",
      "          0       1.00      1.00      1.00       125\n",
      "          1       1.00      1.00      1.00       132\n",
      "          2       1.00      1.00      1.00       130\n",
      "          3       1.00      1.00      1.00       129\n",
      "          4       1.00      1.00      1.00       121\n",
      "          5       1.00      1.00      1.00       116\n",
      "          6       1.00      1.00      1.00       128\n",
      "          7       1.00      1.00      1.00       124\n",
      "          8       1.00      1.00      1.00       131\n",
      "          9       1.00      1.00      1.00       121\n",
      "\n",
      "avg / total       1.00      1.00      1.00      1257\n",
      "\n",
      "\n",
      "\n",
      "Neural Network Grid Search - Train Confusion Matrix\n",
      "\n",
      "Predicted    0    1    2    3    4    5    6    7    8    9\n",
      "actuall                                                    \n",
      "0          125    0    0    0    0    0    0    0    0    0\n",
      "1            0  132    0    0    0    0    0    0    0    0\n",
      "2            0    0  130    0    0    0    0    0    0    0\n",
      "3            0    0    0  129    0    0    0    0    0    0\n",
      "4            0    0    0    0  121    0    0    0    0    0\n",
      "5            0    0    0    0    0  116    0    0    0    0\n",
      "6            0    0    0    0    0    0  128    0    0    0\n",
      "7            0    0    0    0    0    0    0  124    0    0\n",
      "8            0    0    0    0    0    0    0    0  131    0\n",
      "9            0    0    0    0    0    0    0    0    0  121\n",
      "\n",
      "\n",
      "Neural Network Testing accuracy: 0.9815\n",
      "\n",
      "Neural Network Complete report of Testing data\n",
      "              precision    recall  f1-score   support\n",
      "\n",
      "          0       1.00      1.00      1.00        53\n",
      "          1       0.98      0.98      0.98        50\n",
      "          2       1.00      0.98      0.99        47\n",
      "          3       1.00      0.98      0.99        54\n",
      "          4       0.98      1.00      0.99        60\n",
      "          5       0.98      0.98      0.98        66\n",
      "          6       0.98      0.98      0.98        53\n",
      "          7       0.96      0.98      0.97        55\n",
      "          8       0.95      0.95      0.95        43\n",
      "          9       0.97      0.97      0.97        59\n",
      "\n",
      "avg / total       0.98      0.98      0.98       540\n",
      "\n",
      "\n",
      "\n",
      "Neural Network Grid Search - Testing Confusion Matrix\n",
      "\n",
      "Predicted   0   1   2   3   4   5   6   7   8   9\n",
      "actuall                                          \n",
      "0          53   0   0   0   0   0   0   0   0   0\n",
      "1           0  49   0   0   0   0   0   0   1   0\n",
      "2           0   0  46   0   0   0   0   1   0   0\n",
      "3           0   0   0  53   0   1   0   0   0   0\n",
      "4           0   0   0   0  60   0   0   0   0   0\n",
      "5           0   0   0   0   0  65   1   0   0   0\n",
      "6           0   0   0   0   1   0  52   0   0   0\n",
      "7           0   0   0   0   0   0   0  54   0   1\n",
      "8           0   1   0   0   0   0   0   0  41   1\n",
      "9           0   0   0   0   0   0   0   1   1  57\n"
     ]
    }
   ],
   "source": [
    "grid_search_nn = GridSearchCV(pipeline, parameters, n_jobs=-1, cv=5, verbose=1, scoring='accuracy')\n",
    "grid_search_nn.fit(X_train, y_train)\n",
    "\n",
    "print('\\n\\nNeural Network Best Training score: %0.3f' % grid_search_nn.best_score_)\n",
    "print('\\nNeural Network Best parameters set:')\n",
    "best_parameters = grid_search_nn.best_estimator_.get_params()\n",
    "for param_name in sorted(parameters.keys()):\n",
    "    print('\\t%s: %r' % (param_name, best_parameters[param_name]))\n",
    "    \n",
    "pred_train = grid_search_nn.predict(X_train)\n",
    "pred_test = grid_search_nn.predict(X_test)\n",
    "print('\\nNeural Network Training accuracy:', round(accuracy_score(y_train, pred_train), 4))\n",
    "print('\\nNeural Network Complete report of Training data\\n', classification_report(y_train, pred_train))\n",
    "print('\\n\\nNeural Network Grid Search - Train Confusion Matrix\\n\\n', pd.crosstab(y_train, pred_train,\n",
    "                                                                                rownames=['actuall'], colnames=['Predicted']), sep='')\n",
    "print('\\n\\nNeural Network Testing accuracy:', round(accuracy_score(y_test, pred_test), 4))\n",
    "print('\\nNeural Network Complete report of Testing data\\n', classification_report(y_test, pred_test))\n",
    "print('\\n\\nNeural Network Grid Search - Testing Confusion Matrix\\n\\n', pd.crosstab(y_test, pred_test,\n",
    "                                                                                rownames=['actuall'], colnames=['Predicted']), sep='')"
   ]
  },
  {
   "cell_type": "markdown",
   "metadata": {},
   "source": [
    "The previous figure illustrates that the best test accuracy obtained is 98.15 percentage,\n",
    "which is predicting digits with exceptionally good accuracy."
   ]
  },
  {
   "cell_type": "code",
   "execution_count": null,
   "metadata": {},
   "outputs": [],
   "source": [
    "# References and credits to\n",
    "# Statistics in Machine Learning"
   ]
  }
 ],
 "metadata": {
  "kernelspec": {
   "display_name": "Python 3",
   "language": "python",
   "name": "python3"
  },
  "language_info": {
   "codemirror_mode": {
    "name": "ipython",
    "version": 3
   },
   "file_extension": ".py",
   "mimetype": "text/x-python",
   "name": "python",
   "nbconvert_exporter": "python",
   "pygments_lexer": "ipython3",
   "version": "3.6.4"
  }
 },
 "nbformat": 4,
 "nbformat_minor": 2
}
