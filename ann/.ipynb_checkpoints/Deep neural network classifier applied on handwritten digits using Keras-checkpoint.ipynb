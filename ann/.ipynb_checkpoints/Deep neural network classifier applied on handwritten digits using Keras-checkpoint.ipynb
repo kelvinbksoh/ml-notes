{
 "cells": [
  {
   "cell_type": "markdown",
   "metadata": {},
   "source": [
    "## Deep neural network classifier applied on handwritten digits using Keras"
   ]
  },
  {
   "cell_type": "code",
   "execution_count": 2,
   "metadata": {},
   "outputs": [],
   "source": [
    "import numpy as np\n",
    "import pandas as pd\n",
    "import matplotlib.pyplot as plt\n",
    "from sklearn.datasets import load_digits\n",
    "from sklearn.model_selection import train_test_split\n",
    "from sklearn.preprocessing import StandardScaler\n",
    "from sklearn.metrics import accuracy_score, classification_report"
   ]
  },
  {
   "cell_type": "code",
   "execution_count": 3,
   "metadata": {},
   "outputs": [
    {
     "name": "stderr",
     "output_type": "stream",
     "text": [
      "C:\\Users\\O\\Anaconda3\\lib\\site-packages\\h5py\\__init__.py:36: FutureWarning: Conversion of the second argument of issubdtype from `float` to `np.floating` is deprecated. In future, it will be treated as `np.float64 == np.dtype(float).type`.\n",
      "  from ._conv import register_converters as _register_converters\n",
      "Using TensorFlow backend.\n"
     ]
    }
   ],
   "source": [
    "from keras.models import Sequential\n",
    "from keras.layers.core import Dense, Dropout, Activation\n",
    "from keras.optimizers import Adadelta, Adam, RMSprop\n",
    "from keras.utils import np_utils"
   ]
  },
  {
   "cell_type": "code",
   "execution_count": 4,
   "metadata": {},
   "outputs": [],
   "source": [
    "# from keras import backend as K\n",
    "# K.tensorflow_backend._get_available_gpus()"
   ]
  },
  {
   "cell_type": "code",
   "execution_count": 5,
   "metadata": {},
   "outputs": [],
   "source": [
    "# from tensorflow.python.client import device_lib\n",
    "#  print(device_lib.list_local_devices())"
   ]
  },
  {
   "cell_type": "code",
   "execution_count": 39,
   "metadata": {},
   "outputs": [
    {
     "name": "stdout",
     "output_type": "stream",
     "text": [
      "(1797, 64)\n",
      "(1797,)\n",
      "\n",
      "Printing first digit\n"
     ]
    },
    {
     "data": {
      "image/png": "[encoded data removed]",
      "text/plain": [
       "<matplotlib.figure.Figure at 0x26c9f2b6e10>"
      ]
     },
     "metadata": {},
     "output_type": "display_data"
    }
   ],
   "source": [
    "digits = load_digits()\n",
    "X = digits.data\n",
    "y = digits.target\n",
    "print(X.shape)\n",
    "print(y.shape)\n",
    "print('\\nPrinting first digit')\n",
    "plt.matshow(digits.images[0])\n",
    "plt.show()"
   ]
  },
  {
   "cell_type": "markdown",
   "metadata": {},
   "source": [
    "We are performing the standardizing of data with the following code to demean the series,\n",
    "followed by standard deviation to put all the 64 dimensions in a similar scale. Though, in\n",
    "this case, it is not very stringent, as all the values lie between 0 and 255, but by doing so we\n",
    "reduce the computational requirement a little bit:"
   ]
  },
  {
   "cell_type": "code",
   "execution_count": 40,
   "metadata": {},
   "outputs": [
    {
     "data": {
      "text/plain": [
       "array([[ 0.        , -0.33501649, -0.04308102, ..., -1.14664746,\n",
       "        -0.5056698 , -0.19600752],\n",
       "       [ 0.        , -0.33501649, -1.09493684, ...,  0.54856067,\n",
       "        -0.5056698 , -0.19600752],\n",
       "       [ 0.        , -0.33501649, -1.09493684, ...,  1.56568555,\n",
       "         1.6951369 , -0.19600752],\n",
       "       ...,\n",
       "       [ 0.        , -0.33501649, -0.88456568, ..., -0.12952258,\n",
       "        -0.5056698 , -0.19600752],\n",
       "       [ 0.        , -0.33501649, -0.67419451, ...,  0.8876023 ,\n",
       "        -0.5056698 , -0.19600752],\n",
       "       [ 0.        , -0.33501649,  1.00877481, ...,  0.8876023 ,\n",
       "        -0.26113572, -0.19600752]])"
      ]
     },
     "execution_count": 40,
     "metadata": {},
     "output_type": "execute_result"
    }
   ],
   "source": [
    "X_std = StandardScaler()\n",
    "X_std.fit_transform(X)"
   ]
  },
  {
   "cell_type": "code",
   "execution_count": 41,
   "metadata": {},
   "outputs": [],
   "source": [
    "X_train, X_test, y_train, y_test = train_test_split(X, y, test_size=0.3, random_state=42)"
   ]
  },
  {
   "cell_type": "markdown",
   "metadata": {},
   "source": [
    "Tuning the hyperparameters plays a crucial role in tuning a deep learning model (of course,\n",
    "this is applicable to any of the machine learning models too!). We have used nb_classes as\n",
    "10, due to the reason that the digits range from 0-9; batch_size as 128, which means for\n",
    "each batch, we utilize 128 observations to update the weights; and finally, we have used\n",
    "nb_epochs as 200, which means the number of epochs the model needs to be trained is 200\n",
    "(also, we can imagine that the model will be updated 200 times from start to end):"
   ]
  },
  {
   "cell_type": "code",
   "execution_count": 42,
   "metadata": {},
   "outputs": [],
   "source": [
    "# Defining hyper parameters\n",
    "np.random.seed(1337)\n",
    "nb_classes = 10\n",
    "batch_size = 128\n",
    "nb_epochs = 200"
   ]
  },
  {
   "cell_type": "markdown",
   "metadata": {},
   "source": [
    "The following code actually creates the n-dimensional vector for multiclass values based on\n",
    "the nb_classes value. Here, we will get the dimension as 10 for all train observations for\n",
    "training using the softmax classifier:"
   ]
  },
  {
   "cell_type": "code",
   "execution_count": 43,
   "metadata": {},
   "outputs": [],
   "source": [
    "Y_train = np_utils.to_categorical(y_train, nb_classes)"
   ]
  },
  {
   "cell_type": "code",
   "execution_count": 44,
   "metadata": {},
   "outputs": [
    {
     "data": {
      "text/plain": [
       "array([0., 0., 0., 0., 0., 0., 0., 0., 1., 0.], dtype=float32)"
      ]
     },
     "execution_count": 44,
     "metadata": {},
     "output_type": "execute_result"
    }
   ],
   "source": [
    "Y_train[0]"
   ]
  },
  {
   "cell_type": "markdown",
   "metadata": {},
   "source": [
    "The core model building code, which looks like Lego blocks, is shown as follows. Here we,\n",
    "initiate the model as sequential rather than parallel and so on:"
   ]
  },
  {
   "cell_type": "code",
   "execution_count": 45,
   "metadata": {},
   "outputs": [],
   "source": [
    "# Deep Layer Model building in Keras\n",
    "model = Sequential()"
   ]
  },
  {
   "cell_type": "markdown",
   "metadata": {},
   "source": [
    "In the first layer, we are using 100 neurons with input shape as 64 columns (as the number\n",
    "of columns in X is 64), followed by relu activation functions with dropout value as 0.5 (we\n",
    "have chosen dropout randomly; readers are encouraged to try different values and see how\n",
    "the results vary):"
   ]
  },
  {
   "cell_type": "code",
   "execution_count": 46,
   "metadata": {},
   "outputs": [],
   "source": [
    "model.add(Dense(100, input_shape=(64,)))\n",
    "model.add(Activation('relu'))\n",
    "model.add(Dropout(0.5))"
   ]
  },
  {
   "cell_type": "markdown",
   "metadata": {},
   "source": [
    "In the second layer, we are using 50 neurons (to compare the results obtained using the\n",
    "scikit-learn methodology, we have used a similar architecture):"
   ]
  },
  {
   "cell_type": "code",
   "execution_count": 47,
   "metadata": {},
   "outputs": [],
   "source": [
    "model.add(Dense(50))\n",
    "model.add(Activation('relu'))\n",
    "model.add(Dropout(0.5))"
   ]
  },
  {
   "cell_type": "markdown",
   "metadata": {},
   "source": [
    "In the output layer, the number of classes needs to be used with the softmax classifier:"
   ]
  },
  {
   "cell_type": "code",
   "execution_count": 48,
   "metadata": {},
   "outputs": [],
   "source": [
    "model.add(Dense(nb_classes))\n",
    "model.add(Activation('softmax'))"
   ]
  },
  {
   "cell_type": "markdown",
   "metadata": {},
   "source": [
    "Here, we are compiling with categorical_crossentropy, as the output is multiclass;\n",
    "whereas, if we want to use binary class, we need to use binary_crossentropy instead:"
   ]
  },
  {
   "cell_type": "code",
   "execution_count": 49,
   "metadata": {},
   "outputs": [],
   "source": [
    "model.compile(loss='categorical_crossentropy', optimizer='adam')"
   ]
  },
  {
   "cell_type": "markdown",
   "metadata": {},
   "source": [
    "The model is being trained in the following step with all the given batch sizes and number of epochs:"
   ]
  },
  {
   "cell_type": "code",
   "execution_count": 50,
   "metadata": {},
   "outputs": [
    {
     "name": "stdout",
     "output_type": "stream",
     "text": [
      "Epoch 1/200\n",
      "1257/1257 [==============================] - 0s 219us/step - loss: 10.7794\n",
      "Epoch 2/200\n",
      "1257/1257 [==============================] - 0s 17us/step - loss: 8.0955\n",
      "Epoch 3/200\n",
      "1257/1257 [==============================] - 0s 16us/step - loss: 5.4580\n",
      "Epoch 4/200\n",
      "1257/1257 [==============================] - 0s 16us/step - loss: 3.7149\n",
      "Epoch 5/200\n",
      "1257/1257 [==============================] - 0s 17us/step - loss: 2.8264\n",
      "Epoch 6/200\n",
      "1257/1257 [==============================] - 0s 17us/step - loss: 2.5026\n",
      "Epoch 7/200\n",
      "1257/1257 [==============================] - 0s 17us/step - loss: 2.3121\n",
      "Epoch 8/200\n",
      "1257/1257 [==============================] - 0s 17us/step - loss: 2.0623\n",
      "Epoch 9/200\n",
      "1257/1257 [==============================] - 0s 17us/step - loss: 1.9513\n",
      "Epoch 10/200\n",
      "1257/1257 [==============================] - 0s 17us/step - loss: 1.8400\n",
      "Epoch 11/200\n",
      "1257/1257 [==============================] - 0s 17us/step - loss: 1.7176\n",
      "Epoch 12/200\n",
      "1257/1257 [==============================] - 0s 17us/step - loss: 1.6723\n",
      "Epoch 13/200\n",
      "1257/1257 [==============================] - 0s 17us/step - loss: 1.6477\n",
      "Epoch 14/200\n",
      "1257/1257 [==============================] - 0s 17us/step - loss: 1.5616\n",
      "Epoch 15/200\n",
      "1257/1257 [==============================] - 0s 18us/step - loss: 1.4936\n",
      "Epoch 16/200\n",
      "1257/1257 [==============================] - 0s 17us/step - loss: 1.3860\n",
      "Epoch 17/200\n",
      "1257/1257 [==============================] - 0s 16us/step - loss: 1.3853\n",
      "Epoch 18/200\n",
      "1257/1257 [==============================] - 0s 17us/step - loss: 1.3396\n",
      "Epoch 19/200\n",
      "1257/1257 [==============================] - 0s 17us/step - loss: 1.2638\n",
      "Epoch 20/200\n",
      "1257/1257 [==============================] - 0s 17us/step - loss: 1.2099\n",
      "Epoch 21/200\n",
      "1257/1257 [==============================] - 0s 17us/step - loss: 1.1863\n",
      "Epoch 22/200\n",
      "1257/1257 [==============================] - 0s 18us/step - loss: 1.1298\n",
      "Epoch 23/200\n",
      "1257/1257 [==============================] - 0s 17us/step - loss: 1.0644\n",
      "Epoch 24/200\n",
      "1257/1257 [==============================] - 0s 17us/step - loss: 1.0886\n",
      "Epoch 25/200\n",
      "1257/1257 [==============================] - 0s 18us/step - loss: 1.0090\n",
      "Epoch 26/200\n",
      "1257/1257 [==============================] - 0s 18us/step - loss: 0.9871\n",
      "Epoch 27/200\n",
      "1257/1257 [==============================] - 0s 17us/step - loss: 0.9158\n",
      "Epoch 28/200\n",
      "1257/1257 [==============================] - 0s 17us/step - loss: 0.9429\n",
      "Epoch 29/200\n",
      "1257/1257 [==============================] - 0s 17us/step - loss: 0.9006\n",
      "Epoch 30/200\n",
      "1257/1257 [==============================] - 0s 17us/step - loss: 0.8812\n",
      "Epoch 31/200\n",
      "1257/1257 [==============================] - 0s 17us/step - loss: 0.7988\n",
      "Epoch 32/200\n",
      "1257/1257 [==============================] - 0s 19us/step - loss: 0.8047\n",
      "Epoch 33/200\n",
      "1257/1257 [==============================] - 0s 18us/step - loss: 0.7848\n",
      "Epoch 34/200\n",
      "1257/1257 [==============================] - 0s 18us/step - loss: 0.8011\n",
      "Epoch 35/200\n",
      "1257/1257 [==============================] - 0s 17us/step - loss: 0.7526\n",
      "Epoch 36/200\n",
      "1257/1257 [==============================] - 0s 19us/step - loss: 0.7288\n",
      "Epoch 37/200\n",
      "1257/1257 [==============================] - 0s 18us/step - loss: 0.7327\n",
      "Epoch 38/200\n",
      "1257/1257 [==============================] - 0s 18us/step - loss: 0.6502\n",
      "Epoch 39/200\n",
      "1257/1257 [==============================] - 0s 18us/step - loss: 0.6567\n",
      "Epoch 40/200\n",
      "1257/1257 [==============================] - 0s 16us/step - loss: 0.6200\n",
      "Epoch 41/200\n",
      "1257/1257 [==============================] - 0s 17us/step - loss: 0.6821\n",
      "Epoch 42/200\n",
      "1257/1257 [==============================] - 0s 17us/step - loss: 0.6017\n",
      "Epoch 43/200\n",
      "1257/1257 [==============================] - 0s 16us/step - loss: 0.6523\n",
      "Epoch 44/200\n",
      "1257/1257 [==============================] - 0s 17us/step - loss: 0.5902\n",
      "Epoch 45/200\n",
      "1257/1257 [==============================] - 0s 17us/step - loss: 0.5667\n",
      "Epoch 46/200\n",
      "1257/1257 [==============================] - 0s 17us/step - loss: 0.5422\n",
      "Epoch 47/200\n",
      "1257/1257 [==============================] - 0s 18us/step - loss: 0.5391\n",
      "Epoch 48/200\n",
      "1257/1257 [==============================] - 0s 17us/step - loss: 0.5385\n",
      "Epoch 49/200\n",
      "1257/1257 [==============================] - 0s 17us/step - loss: 0.5350\n",
      "Epoch 50/200\n",
      "1257/1257 [==============================] - 0s 17us/step - loss: 0.5358\n",
      "Epoch 51/200\n",
      "1257/1257 [==============================] - 0s 17us/step - loss: 0.5379\n",
      "Epoch 52/200\n",
      "1257/1257 [==============================] - 0s 17us/step - loss: 0.5207\n",
      "Epoch 53/200\n",
      "1257/1257 [==============================] - 0s 17us/step - loss: 0.4706\n",
      "Epoch 54/200\n",
      "1257/1257 [==============================] - 0s 17us/step - loss: 0.4755\n",
      "Epoch 55/200\n",
      "1257/1257 [==============================] - 0s 17us/step - loss: 0.5427\n",
      "Epoch 56/200\n",
      "1257/1257 [==============================] - 0s 17us/step - loss: 0.5224\n",
      "Epoch 57/200\n",
      "1257/1257 [==============================] - 0s 17us/step - loss: 0.4364\n",
      "Epoch 58/200\n",
      "1257/1257 [==============================] - 0s 16us/step - loss: 0.4377\n",
      "Epoch 59/200\n",
      "1257/1257 [==============================] - 0s 16us/step - loss: 0.4637\n",
      "Epoch 60/200\n",
      "1257/1257 [==============================] - 0s 17us/step - loss: 0.4117\n",
      "Epoch 61/200\n",
      "1257/1257 [==============================] - 0s 16us/step - loss: 0.4222\n",
      "Epoch 62/200\n",
      "1257/1257 [==============================] - 0s 17us/step - loss: 0.3893\n",
      "Epoch 63/200\n",
      "1257/1257 [==============================] - 0s 17us/step - loss: 0.4659\n",
      "Epoch 64/200\n",
      "1257/1257 [==============================] - 0s 17us/step - loss: 0.4725\n",
      "Epoch 65/200\n",
      "1257/1257 [==============================] - 0s 17us/step - loss: 0.4332\n",
      "Epoch 66/200\n",
      "1257/1257 [==============================] - 0s 17us/step - loss: 0.3989\n",
      "Epoch 67/200\n",
      "1257/1257 [==============================] - 0s 17us/step - loss: 0.3884\n",
      "Epoch 68/200\n",
      "1257/1257 [==============================] - 0s 17us/step - loss: 0.3984\n",
      "Epoch 69/200\n",
      "1257/1257 [==============================] - 0s 26us/step - loss: 0.4285\n",
      "Epoch 70/200\n",
      "1257/1257 [==============================] - 0s 17us/step - loss: 0.4074\n",
      "Epoch 71/200\n",
      "1257/1257 [==============================] - 0s 17us/step - loss: 0.3766\n",
      "Epoch 72/200\n",
      "1257/1257 [==============================] - 0s 16us/step - loss: 0.3430\n",
      "Epoch 73/200\n",
      "1257/1257 [==============================] - 0s 17us/step - loss: 0.3968\n",
      "Epoch 74/200\n",
      "1257/1257 [==============================] - 0s 17us/step - loss: 0.3614\n",
      "Epoch 75/200\n",
      "1257/1257 [==============================] - 0s 17us/step - loss: 0.3405\n",
      "Epoch 76/200\n",
      "1257/1257 [==============================] - 0s 16us/step - loss: 0.3504\n",
      "Epoch 77/200\n",
      "1257/1257 [==============================] - 0s 17us/step - loss: 0.3666\n",
      "Epoch 78/200\n",
      "1257/1257 [==============================] - 0s 16us/step - loss: 0.3473\n",
      "Epoch 79/200\n",
      "1257/1257 [==============================] - 0s 16us/step - loss: 0.3480\n",
      "Epoch 80/200\n",
      "1257/1257 [==============================] - 0s 16us/step - loss: 0.3068\n",
      "Epoch 81/200\n",
      "1257/1257 [==============================] - 0s 17us/step - loss: 0.3244\n",
      "Epoch 82/200\n",
      "1257/1257 [==============================] - 0s 17us/step - loss: 0.3342\n",
      "Epoch 83/200\n",
      "1257/1257 [==============================] - 0s 17us/step - loss: 0.3119\n",
      "Epoch 84/200\n",
      "1257/1257 [==============================] - 0s 17us/step - loss: 0.3194\n",
      "Epoch 85/200\n",
      "1257/1257 [==============================] - 0s 17us/step - loss: 0.3253\n",
      "Epoch 86/200\n",
      "1257/1257 [==============================] - 0s 17us/step - loss: 0.2947\n",
      "Epoch 87/200\n",
      "1257/1257 [==============================] - 0s 18us/step - loss: 0.2723\n",
      "Epoch 88/200\n",
      "1257/1257 [==============================] - 0s 16us/step - loss: 0.2889\n",
      "Epoch 89/200\n",
      "1257/1257 [==============================] - 0s 17us/step - loss: 0.2558\n",
      "Epoch 90/200\n",
      "1257/1257 [==============================] - 0s 17us/step - loss: 0.3006\n",
      "Epoch 91/200\n",
      "1257/1257 [==============================] - 0s 17us/step - loss: 0.2696\n",
      "Epoch 92/200\n",
      "1257/1257 [==============================] - 0s 17us/step - loss: 0.2692\n",
      "Epoch 93/200\n",
      "1257/1257 [==============================] - 0s 17us/step - loss: 0.2674\n",
      "Epoch 94/200\n",
      "1257/1257 [==============================] - 0s 17us/step - loss: 0.2730\n",
      "Epoch 95/200\n",
      "1257/1257 [==============================] - 0s 17us/step - loss: 0.2729\n",
      "Epoch 96/200\n"
     ]
    },
    {
     "name": "stdout",
     "output_type": "stream",
     "text": [
      "1257/1257 [==============================] - 0s 17us/step - loss: 0.2616\n",
      "Epoch 97/200\n",
      "1257/1257 [==============================] - 0s 17us/step - loss: 0.2609\n",
      "Epoch 98/200\n",
      "1257/1257 [==============================] - 0s 17us/step - loss: 0.2774\n",
      "Epoch 99/200\n",
      "1257/1257 [==============================] - 0s 17us/step - loss: 0.2573\n",
      "Epoch 100/200\n",
      "1257/1257 [==============================] - 0s 17us/step - loss: 0.2429\n",
      "Epoch 101/200\n",
      "1257/1257 [==============================] - 0s 17us/step - loss: 0.2419\n",
      "Epoch 102/200\n",
      "1257/1257 [==============================] - 0s 17us/step - loss: 0.2502\n",
      "Epoch 103/200\n",
      "1257/1257 [==============================] - 0s 17us/step - loss: 0.2338\n",
      "Epoch 104/200\n",
      "1257/1257 [==============================] - 0s 17us/step - loss: 0.2532\n",
      "Epoch 105/200\n",
      "1257/1257 [==============================] - 0s 17us/step - loss: 0.2524\n",
      "Epoch 106/200\n",
      "1257/1257 [==============================] - 0s 17us/step - loss: 0.2640\n",
      "Epoch 107/200\n",
      "1257/1257 [==============================] - 0s 16us/step - loss: 0.2502\n",
      "Epoch 108/200\n",
      "1257/1257 [==============================] - 0s 17us/step - loss: 0.2024\n",
      "Epoch 109/200\n",
      "1257/1257 [==============================] - 0s 17us/step - loss: 0.2334\n",
      "Epoch 110/200\n",
      "1257/1257 [==============================] - 0s 17us/step - loss: 0.2095\n",
      "Epoch 111/200\n",
      "1257/1257 [==============================] - 0s 16us/step - loss: 0.2195\n",
      "Epoch 112/200\n",
      "1257/1257 [==============================] - 0s 16us/step - loss: 0.2195\n",
      "Epoch 113/200\n",
      "1257/1257 [==============================] - 0s 16us/step - loss: 0.2094\n",
      "Epoch 114/200\n",
      "1257/1257 [==============================] - 0s 17us/step - loss: 0.2208\n",
      "Epoch 115/200\n",
      "1257/1257 [==============================] - 0s 17us/step - loss: 0.2089\n",
      "Epoch 116/200\n",
      "1257/1257 [==============================] - 0s 19us/step - loss: 0.2393\n",
      "Epoch 117/200\n",
      "1257/1257 [==============================] - 0s 19us/step - loss: 0.2178\n",
      "Epoch 118/200\n",
      "1257/1257 [==============================] - 0s 17us/step - loss: 0.1973\n",
      "Epoch 119/200\n",
      "1257/1257 [==============================] - 0s 17us/step - loss: 0.1973\n",
      "Epoch 120/200\n",
      "1257/1257 [==============================] - 0s 17us/step - loss: 0.2155\n",
      "Epoch 121/200\n",
      "1257/1257 [==============================] - 0s 18us/step - loss: 0.1768\n",
      "Epoch 122/200\n",
      "1257/1257 [==============================] - 0s 17us/step - loss: 0.2056\n",
      "Epoch 123/200\n",
      "1257/1257 [==============================] - 0s 17us/step - loss: 0.1870\n",
      "Epoch 124/200\n",
      "1257/1257 [==============================] - 0s 17us/step - loss: 0.2028\n",
      "Epoch 125/200\n",
      "1257/1257 [==============================] - 0s 17us/step - loss: 0.1931\n",
      "Epoch 126/200\n",
      "1257/1257 [==============================] - 0s 17us/step - loss: 0.1791\n",
      "Epoch 127/200\n",
      "1257/1257 [==============================] - 0s 15us/step - loss: 0.1979\n",
      "Epoch 128/200\n",
      "1257/1257 [==============================] - 0s 17us/step - loss: 0.1803\n",
      "Epoch 129/200\n",
      "1257/1257 [==============================] - 0s 17us/step - loss: 0.1933\n",
      "Epoch 130/200\n",
      "1257/1257 [==============================] - 0s 17us/step - loss: 0.1568\n",
      "Epoch 131/200\n",
      "1257/1257 [==============================] - 0s 17us/step - loss: 0.1751\n",
      "Epoch 132/200\n",
      "1257/1257 [==============================] - 0s 17us/step - loss: 0.1772\n",
      "Epoch 133/200\n",
      "1257/1257 [==============================] - 0s 17us/step - loss: 0.1749\n",
      "Epoch 134/200\n",
      "1257/1257 [==============================] - 0s 18us/step - loss: 0.1847\n",
      "Epoch 135/200\n",
      "1257/1257 [==============================] - 0s 17us/step - loss: 0.1898\n",
      "Epoch 136/200\n",
      "1257/1257 [==============================] - 0s 17us/step - loss: 0.1843\n",
      "Epoch 137/200\n",
      "1257/1257 [==============================] - 0s 17us/step - loss: 0.1801\n",
      "Epoch 138/200\n",
      "1257/1257 [==============================] - 0s 17us/step - loss: 0.1699\n",
      "Epoch 139/200\n",
      "1257/1257 [==============================] - 0s 17us/step - loss: 0.1919\n",
      "Epoch 140/200\n",
      "1257/1257 [==============================] - 0s 17us/step - loss: 0.1390\n",
      "Epoch 141/200\n",
      "1257/1257 [==============================] - 0s 17us/step - loss: 0.1718\n",
      "Epoch 142/200\n",
      "1257/1257 [==============================] - 0s 17us/step - loss: 0.1830\n",
      "Epoch 143/200\n",
      "1257/1257 [==============================] - 0s 17us/step - loss: 0.1692\n",
      "Epoch 144/200\n",
      "1257/1257 [==============================] - 0s 17us/step - loss: 0.1691\n",
      "Epoch 145/200\n",
      "1257/1257 [==============================] - 0s 16us/step - loss: 0.1510\n",
      "Epoch 146/200\n",
      "1257/1257 [==============================] - 0s 17us/step - loss: 0.1420\n",
      "Epoch 147/200\n",
      "1257/1257 [==============================] - 0s 17us/step - loss: 0.1399\n",
      "Epoch 148/200\n",
      "1257/1257 [==============================] - 0s 17us/step - loss: 0.1548\n",
      "Epoch 149/200\n",
      "1257/1257 [==============================] - 0s 17us/step - loss: 0.1640\n",
      "Epoch 150/200\n",
      "1257/1257 [==============================] - 0s 17us/step - loss: 0.1428\n",
      "Epoch 151/200\n",
      "1257/1257 [==============================] - 0s 17us/step - loss: 0.1625\n",
      "Epoch 152/200\n",
      "1257/1257 [==============================] - 0s 18us/step - loss: 0.1278\n",
      "Epoch 153/200\n",
      "1257/1257 [==============================] - 0s 17us/step - loss: 0.1439\n",
      "Epoch 154/200\n",
      "1257/1257 [==============================] - 0s 17us/step - loss: 0.1363\n",
      "Epoch 155/200\n",
      "1257/1257 [==============================] - 0s 17us/step - loss: 0.1529\n",
      "Epoch 156/200\n",
      "1257/1257 [==============================] - 0s 16us/step - loss: 0.1433\n",
      "Epoch 157/200\n",
      "1257/1257 [==============================] - 0s 17us/step - loss: 0.1244\n",
      "Epoch 158/200\n",
      "1257/1257 [==============================] - 0s 17us/step - loss: 0.1681\n",
      "Epoch 159/200\n",
      "1257/1257 [==============================] - 0s 17us/step - loss: 0.1608\n",
      "Epoch 160/200\n",
      "1257/1257 [==============================] - 0s 17us/step - loss: 0.1575\n",
      "Epoch 161/200\n",
      "1257/1257 [==============================] - 0s 17us/step - loss: 0.1412\n",
      "Epoch 162/200\n",
      "1257/1257 [==============================] - 0s 17us/step - loss: 0.1273\n",
      "Epoch 163/200\n",
      "1257/1257 [==============================] - 0s 17us/step - loss: 0.1459\n",
      "Epoch 164/200\n",
      "1257/1257 [==============================] - 0s 17us/step - loss: 0.1602\n",
      "Epoch 165/200\n",
      "1257/1257 [==============================] - 0s 17us/step - loss: 0.1409\n",
      "Epoch 166/200\n",
      "1257/1257 [==============================] - 0s 16us/step - loss: 0.1236\n",
      "Epoch 167/200\n",
      "1257/1257 [==============================] - 0s 17us/step - loss: 0.1285\n",
      "Epoch 168/200\n",
      "1257/1257 [==============================] - 0s 17us/step - loss: 0.1445\n",
      "Epoch 169/200\n",
      "1257/1257 [==============================] - 0s 17us/step - loss: 0.1303\n",
      "Epoch 170/200\n",
      "1257/1257 [==============================] - 0s 17us/step - loss: 0.1355\n",
      "Epoch 171/200\n",
      "1257/1257 [==============================] - 0s 17us/step - loss: 0.1570\n",
      "Epoch 172/200\n",
      "1257/1257 [==============================] - 0s 17us/step - loss: 0.1518\n",
      "Epoch 173/200\n",
      "1257/1257 [==============================] - 0s 17us/step - loss: 0.1098\n",
      "Epoch 174/200\n",
      "1257/1257 [==============================] - 0s 17us/step - loss: 0.1243\n",
      "Epoch 175/200\n",
      "1257/1257 [==============================] - 0s 17us/step - loss: 0.1260\n",
      "Epoch 176/200\n",
      "1257/1257 [==============================] - 0s 17us/step - loss: 0.1152\n",
      "Epoch 177/200\n",
      "1257/1257 [==============================] - 0s 17us/step - loss: 0.1299\n",
      "Epoch 178/200\n",
      "1257/1257 [==============================] - 0s 17us/step - loss: 0.1342\n",
      "Epoch 179/200\n",
      "1257/1257 [==============================] - 0s 16us/step - loss: 0.1325\n",
      "Epoch 180/200\n",
      "1257/1257 [==============================] - 0s 17us/step - loss: 0.1240\n",
      "Epoch 181/200\n",
      "1257/1257 [==============================] - 0s 17us/step - loss: 0.1299\n",
      "Epoch 182/200\n",
      "1257/1257 [==============================] - 0s 17us/step - loss: 0.1055\n",
      "Epoch 183/200\n",
      "1257/1257 [==============================] - 0s 17us/step - loss: 0.1267\n",
      "Epoch 184/200\n",
      "1257/1257 [==============================] - 0s 16us/step - loss: 0.1131\n",
      "Epoch 185/200\n",
      "1257/1257 [==============================] - 0s 16us/step - loss: 0.1362\n",
      "Epoch 186/200\n",
      "1257/1257 [==============================] - 0s 17us/step - loss: 0.1280\n",
      "Epoch 187/200\n",
      "1257/1257 [==============================] - 0s 17us/step - loss: 0.1111\n",
      "Epoch 188/200\n",
      "1257/1257 [==============================] - 0s 18us/step - loss: 0.1152\n",
      "Epoch 189/200\n",
      "1257/1257 [==============================] - 0s 17us/step - loss: 0.1153\n",
      "Epoch 190/200\n"
     ]
    },
    {
     "name": "stdout",
     "output_type": "stream",
     "text": [
      "1257/1257 [==============================] - 0s 17us/step - loss: 0.1155\n",
      "Epoch 191/200\n",
      "1257/1257 [==============================] - 0s 17us/step - loss: 0.1175\n",
      "Epoch 192/200\n",
      "1257/1257 [==============================] - 0s 17us/step - loss: 0.1171\n",
      "Epoch 193/200\n",
      "1257/1257 [==============================] - 0s 16us/step - loss: 0.1183\n",
      "Epoch 194/200\n",
      "1257/1257 [==============================] - 0s 16us/step - loss: 0.0997\n",
      "Epoch 195/200\n",
      "1257/1257 [==============================] - 0s 17us/step - loss: 0.1160\n",
      "Epoch 196/200\n",
      "1257/1257 [==============================] - 0s 18us/step - loss: 0.1100\n",
      "Epoch 197/200\n",
      "1257/1257 [==============================] - 0s 17us/step - loss: 0.0990\n",
      "Epoch 198/200\n",
      "1257/1257 [==============================] - 0s 17us/step - loss: 0.1173\n",
      "Epoch 199/200\n",
      "1257/1257 [==============================] - 0s 16us/step - loss: 0.1303\n",
      "Epoch 200/200\n",
      "1257/1257 [==============================] - 0s 17us/step - loss: 0.1145\n"
     ]
    },
    {
     "data": {
      "text/plain": [
       "<keras.callbacks.History at 0x26c9f215240>"
      ]
     },
     "execution_count": 50,
     "metadata": {},
     "output_type": "execute_result"
    }
   ],
   "source": [
    "# Model training\n",
    "model.fit(X_train, Y_train, batch_size=batch_size, epochs=nb_epochs, verbose=1)"
   ]
  },
  {
   "cell_type": "code",
   "execution_count": 51,
   "metadata": {},
   "outputs": [
    {
     "name": "stdout",
     "output_type": "stream",
     "text": [
      "\n",
      "\n",
      "Deep Neural Network - Train accuracy: 0.998\n",
      "\n",
      "Deep Neural Network - Train Classification Report              precision    recall  f1-score   support\n",
      "\n",
      "          0       1.00      1.00      1.00       125\n",
      "          1       0.99      1.00      0.99       132\n",
      "          2       1.00      1.00      1.00       130\n",
      "          3       1.00      1.00      1.00       129\n",
      "          4       1.00      1.00      1.00       121\n",
      "          5       1.00      1.00      1.00       116\n",
      "          6       1.00      1.00      1.00       128\n",
      "          7       1.00      1.00      1.00       124\n",
      "          8       1.00      0.98      0.99       131\n",
      "          9       1.00      1.00      1.00       121\n",
      "\n",
      "avg / total       1.00      1.00      1.00      1257\n",
      "\n",
      "\n",
      "Deep Neural Network - Train Confusion Matrix\n",
      "Predicted    0    1    2    3    4    5    6    7    8    9\n",
      "Actuall                                                    \n",
      "0          125    0    0    0    0    0    0    0    0    0\n",
      "1            0  132    0    0    0    0    0    0    0    0\n",
      "2            0    0  130    0    0    0    0    0    0    0\n",
      "3            0    0    0  129    0    0    0    0    0    0\n",
      "4            0    0    0    0  121    0    0    0    0    0\n",
      "5            0    0    0    0    0  116    0    0    0    0\n",
      "6            0    0    0    0    0    0  128    0    0    0\n",
      "7            0    0    0    0    0    0    0  124    0    0\n",
      "8            0    2    0    0    0    0    0    0  129    0\n",
      "9            0    0    0    0    0    0    0    0    0  121\n",
      "\n",
      "\n",
      "Deep Neural Network - Test accuracy: 0.976\n",
      "\n",
      "Deep Neural Network - Test Classification Report              precision    recall  f1-score   support\n",
      "\n",
      "          0       0.98      1.00      0.99        53\n",
      "          1       0.96      0.96      0.96        50\n",
      "          2       0.96      1.00      0.98        47\n",
      "          3       1.00      0.96      0.98        54\n",
      "          4       0.98      1.00      0.99        60\n",
      "          5       0.97      0.97      0.97        66\n",
      "          6       0.98      0.98      0.98        53\n",
      "          7       0.98      0.98      0.98        55\n",
      "          8       0.95      0.93      0.94        43\n",
      "          9       0.98      0.97      0.97        59\n",
      "\n",
      "avg / total       0.98      0.98      0.98       540\n",
      "\n",
      "\n",
      "Deep Neural Network - Test Confusion Matrix\n",
      "Predicted   0   1   2   3   4   5   6   7   8   9\n",
      "Actuall                                          \n",
      "0          53   0   0   0   0   0   0   0   0   0\n",
      "1           0  48   1   0   0   0   0   0   1   0\n",
      "2           0   0  47   0   0   0   0   0   0   0\n",
      "3           0   0   1  52   0   1   0   0   0   0\n",
      "4           0   0   0   0  60   0   0   0   0   0\n",
      "5           0   0   0   0   1  64   1   0   0   0\n",
      "6           1   0   0   0   0   0  52   0   0   0\n",
      "7           0   0   0   0   0   0   0  54   0   1\n",
      "8           0   2   0   0   0   1   0   0  40   0\n",
      "9           0   0   0   0   0   0   0   1   1  57\n"
     ]
    }
   ],
   "source": [
    "# Model Prediction\n",
    "y_train_predclass = model.predict_classes(X_train, batch_size=batch_size)\n",
    "y_test_predclass = model.predict_classes(X_test, batch_size=batch_size)\n",
    "print('\\n\\nDeep Neural Network - Train accuracy:', round(accuracy_score(y_train, y_train_predclass), 3))\n",
    "print('\\nDeep Neural Network - Train Classification Report', classification_report(y_train, y_train_predclass))\n",
    "print('\\nDeep Neural Network - Train Confusion Matrix\\n', pd.crosstab(y_train, y_train_predclass,\n",
    "                                                                     rownames=['Actuall'], colnames=['Predicted']), sep='')\n",
    "\n",
    "print('\\n\\nDeep Neural Network - Test accuracy:', round(accuracy_score(y_test, y_test_predclass), 3))\n",
    "print('\\nDeep Neural Network - Test Classification Report', classification_report(y_test, y_test_predclass))\n",
    "print('\\nDeep Neural Network - Test Confusion Matrix\\n', pd.crosstab(y_test, y_test_predclass,\n",
    "                                                                     rownames=['Actuall'], colnames=['Predicted']), sep='')"
   ]
  },
  {
   "cell_type": "markdown",
   "metadata": {},
   "source": [
    "However, the true evaluation is performed on the test data instead. Here, we have got 97.6\n",
    "percentage accuracy, which is similar to the scikit-learn accuracy of 97.78 percentage.\n",
    "Hence, it has been proved that we have successfully replicated the results in the deep\n",
    "learning software; however, in Keras, we can do much better things than in scikit-learn\n",
    "(such as convolutional neural networks, recurrent neural networks, auto encoders, and so\n",
    "on, which are very advanced in nature)."
   ]
  },
  {
   "cell_type": "code",
   "execution_count": null,
   "metadata": {},
   "outputs": [],
   "source": []
  }
 ],
 "metadata": {
  "kernelspec": {
   "display_name": "Python 3",
   "language": "python",
   "name": "python3"
  },
  "language_info": {
   "codemirror_mode": {
    "name": "ipython",
    "version": 3
   },
   "file_extension": ".py",
   "mimetype": "text/x-python",
   "name": "python",
   "nbconvert_exporter": "python",
   "pygments_lexer": "ipython3",
   "version": "3.6.4"
  }
 },
 "nbformat": 4,
 "nbformat_minor": 2
}
