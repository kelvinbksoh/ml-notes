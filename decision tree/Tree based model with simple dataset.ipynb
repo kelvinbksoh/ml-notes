{
 "cells": [
  {
   "cell_type": "markdown",
   "metadata": {},
   "source": [
    "# Decision Tree with HR-Employee-Attrition dataset"
   ]
  },
  {
   "cell_type": "code",
   "execution_count": 1,
   "metadata": {},
   "outputs": [],
   "source": [
    "import pandas as pd"
   ]
  },
  {
   "cell_type": "code",
   "execution_count": 2,
   "metadata": {},
   "outputs": [],
   "source": [
    "df = pd.read_csv(\"../dataset/ibm-hr-analytics-employee-attrition-performance/WA_Fn-UseC_-HR-Employee-Attrition.csv\")"
   ]
  },
  {
   "cell_type": "code",
   "execution_count": 3,
   "metadata": {},
   "outputs": [
    {
     "data": {
      "text/html": [
       "<div>\n",
       "<style scoped>\n",
       "    .dataframe tbody tr th:only-of-type {\n",
       "        vertical-align: middle;\n",
       "    }\n",
       "\n",
       "    .dataframe tbody tr th {\n",
       "        vertical-align: top;\n",
       "    }\n",
       "\n",
       "    .dataframe thead th {\n",
       "        text-align: right;\n",
       "    }\n",
       "</style>\n",
       "<table border=\"1\" class=\"dataframe\">\n",
       "  <thead>\n",
       "    <tr style=\"text-align: right;\">\n",
       "      <th></th>\n",
       "      <th>Age</th>\n",
       "      <th>Attrition</th>\n",
       "      <th>BusinessTravel</th>\n",
       "      <th>DailyRate</th>\n",
       "      <th>Department</th>\n",
       "      <th>DistanceFromHome</th>\n",
       "      <th>Education</th>\n",
       "      <th>EducationField</th>\n",
       "      <th>EmployeeCount</th>\n",
       "      <th>EmployeeNumber</th>\n",
       "      <th>...</th>\n",
       "      <th>RelationshipSatisfaction</th>\n",
       "      <th>StandardHours</th>\n",
       "      <th>StockOptionLevel</th>\n",
       "      <th>TotalWorkingYears</th>\n",
       "      <th>TrainingTimesLastYear</th>\n",
       "      <th>WorkLifeBalance</th>\n",
       "      <th>YearsAtCompany</th>\n",
       "      <th>YearsInCurrentRole</th>\n",
       "      <th>YearsSinceLastPromotion</th>\n",
       "      <th>YearsWithCurrManager</th>\n",
       "    </tr>\n",
       "  </thead>\n",
       "  <tbody>\n",
       "    <tr>\n",
       "      <th>0</th>\n",
       "      <td>41</td>\n",
       "      <td>Yes</td>\n",
       "      <td>Travel_Rarely</td>\n",
       "      <td>1102</td>\n",
       "      <td>Sales</td>\n",
       "      <td>1</td>\n",
       "      <td>2</td>\n",
       "      <td>Life Sciences</td>\n",
       "      <td>1</td>\n",
       "      <td>1</td>\n",
       "      <td>...</td>\n",
       "      <td>1</td>\n",
       "      <td>80</td>\n",
       "      <td>0</td>\n",
       "      <td>8</td>\n",
       "      <td>0</td>\n",
       "      <td>1</td>\n",
       "      <td>6</td>\n",
       "      <td>4</td>\n",
       "      <td>0</td>\n",
       "      <td>5</td>\n",
       "    </tr>\n",
       "    <tr>\n",
       "      <th>1</th>\n",
       "      <td>49</td>\n",
       "      <td>No</td>\n",
       "      <td>Travel_Frequently</td>\n",
       "      <td>279</td>\n",
       "      <td>Research &amp; Development</td>\n",
       "      <td>8</td>\n",
       "      <td>1</td>\n",
       "      <td>Life Sciences</td>\n",
       "      <td>1</td>\n",
       "      <td>2</td>\n",
       "      <td>...</td>\n",
       "      <td>4</td>\n",
       "      <td>80</td>\n",
       "      <td>1</td>\n",
       "      <td>10</td>\n",
       "      <td>3</td>\n",
       "      <td>3</td>\n",
       "      <td>10</td>\n",
       "      <td>7</td>\n",
       "      <td>1</td>\n",
       "      <td>7</td>\n",
       "    </tr>\n",
       "    <tr>\n",
       "      <th>2</th>\n",
       "      <td>37</td>\n",
       "      <td>Yes</td>\n",
       "      <td>Travel_Rarely</td>\n",
       "      <td>1373</td>\n",
       "      <td>Research &amp; Development</td>\n",
       "      <td>2</td>\n",
       "      <td>2</td>\n",
       "      <td>Other</td>\n",
       "      <td>1</td>\n",
       "      <td>4</td>\n",
       "      <td>...</td>\n",
       "      <td>2</td>\n",
       "      <td>80</td>\n",
       "      <td>0</td>\n",
       "      <td>7</td>\n",
       "      <td>3</td>\n",
       "      <td>3</td>\n",
       "      <td>0</td>\n",
       "      <td>0</td>\n",
       "      <td>0</td>\n",
       "      <td>0</td>\n",
       "    </tr>\n",
       "    <tr>\n",
       "      <th>3</th>\n",
       "      <td>33</td>\n",
       "      <td>No</td>\n",
       "      <td>Travel_Frequently</td>\n",
       "      <td>1392</td>\n",
       "      <td>Research &amp; Development</td>\n",
       "      <td>3</td>\n",
       "      <td>4</td>\n",
       "      <td>Life Sciences</td>\n",
       "      <td>1</td>\n",
       "      <td>5</td>\n",
       "      <td>...</td>\n",
       "      <td>3</td>\n",
       "      <td>80</td>\n",
       "      <td>0</td>\n",
       "      <td>8</td>\n",
       "      <td>3</td>\n",
       "      <td>3</td>\n",
       "      <td>8</td>\n",
       "      <td>7</td>\n",
       "      <td>3</td>\n",
       "      <td>0</td>\n",
       "    </tr>\n",
       "    <tr>\n",
       "      <th>4</th>\n",
       "      <td>27</td>\n",
       "      <td>No</td>\n",
       "      <td>Travel_Rarely</td>\n",
       "      <td>591</td>\n",
       "      <td>Research &amp; Development</td>\n",
       "      <td>2</td>\n",
       "      <td>1</td>\n",
       "      <td>Medical</td>\n",
       "      <td>1</td>\n",
       "      <td>7</td>\n",
       "      <td>...</td>\n",
       "      <td>4</td>\n",
       "      <td>80</td>\n",
       "      <td>1</td>\n",
       "      <td>6</td>\n",
       "      <td>3</td>\n",
       "      <td>3</td>\n",
       "      <td>2</td>\n",
       "      <td>2</td>\n",
       "      <td>2</td>\n",
       "      <td>2</td>\n",
       "    </tr>\n",
       "  </tbody>\n",
       "</table>\n",
       "<p>5 rows × 35 columns</p>\n",
       "</div>"
      ],
      "text/plain": [
       "   Age Attrition     BusinessTravel  DailyRate              Department  \\\n",
       "0   41       Yes      Travel_Rarely       1102                   Sales   \n",
       "1   49        No  Travel_Frequently        279  Research & Development   \n",
       "2   37       Yes      Travel_Rarely       1373  Research & Development   \n",
       "3   33        No  Travel_Frequently       1392  Research & Development   \n",
       "4   27        No      Travel_Rarely        591  Research & Development   \n",
       "\n",
       "   DistanceFromHome  Education EducationField  EmployeeCount  EmployeeNumber  \\\n",
       "0                 1          2  Life Sciences              1               1   \n",
       "1                 8          1  Life Sciences              1               2   \n",
       "2                 2          2          Other              1               4   \n",
       "3                 3          4  Life Sciences              1               5   \n",
       "4                 2          1        Medical              1               7   \n",
       "\n",
       "           ...           RelationshipSatisfaction StandardHours  \\\n",
       "0          ...                                  1            80   \n",
       "1          ...                                  4            80   \n",
       "2          ...                                  2            80   \n",
       "3          ...                                  3            80   \n",
       "4          ...                                  4            80   \n",
       "\n",
       "   StockOptionLevel  TotalWorkingYears  TrainingTimesLastYear WorkLifeBalance  \\\n",
       "0                 0                  8                      0               1   \n",
       "1                 1                 10                      3               3   \n",
       "2                 0                  7                      3               3   \n",
       "3                 0                  8                      3               3   \n",
       "4                 1                  6                      3               3   \n",
       "\n",
       "   YearsAtCompany YearsInCurrentRole  YearsSinceLastPromotion  \\\n",
       "0               6                  4                        0   \n",
       "1              10                  7                        1   \n",
       "2               0                  0                        0   \n",
       "3               8                  7                        3   \n",
       "4               2                  2                        2   \n",
       "\n",
       "   YearsWithCurrManager  \n",
       "0                     5  \n",
       "1                     7  \n",
       "2                     0  \n",
       "3                     0  \n",
       "4                     2  \n",
       "\n",
       "[5 rows x 35 columns]"
      ]
     },
     "execution_count": 3,
     "metadata": {},
     "output_type": "execute_result"
    }
   ],
   "source": [
    "df.head()"
   ]
  },
  {
   "cell_type": "code",
   "execution_count": 4,
   "metadata": {},
   "outputs": [
    {
     "data": {
      "text/plain": [
       "(1470, 35)"
      ]
     },
     "execution_count": 4,
     "metadata": {},
     "output_type": "execute_result"
    }
   ],
   "source": [
    "df.shape"
   ]
  },
  {
   "cell_type": "code",
   "execution_count": 5,
   "metadata": {},
   "outputs": [
    {
     "data": {
      "text/plain": [
       "False"
      ]
     },
     "execution_count": 5,
     "metadata": {},
     "output_type": "execute_result"
    }
   ],
   "source": [
    "df.isnull().sum().any() # no null values"
   ]
  },
  {
   "cell_type": "code",
   "execution_count": 6,
   "metadata": {},
   "outputs": [],
   "source": [
    "# Convert Yes or No categories into 1 and 0 for modeling purposes\n",
    "# Dummy coding"
   ]
  },
  {
   "cell_type": "code",
   "execution_count": 7,
   "metadata": {},
   "outputs": [],
   "source": [
    "df['Attrition_ind'] = 0\n",
    "df.loc[df['Attrition'] == 'Yes', 'Attrition_ind'] = 1"
   ]
  },
  {
   "cell_type": "code",
   "execution_count": 8,
   "metadata": {},
   "outputs": [
    {
     "data": {
      "text/plain": [
       "Age                           43\n",
       "Attrition                      2\n",
       "BusinessTravel                 3\n",
       "DailyRate                    886\n",
       "Department                     3\n",
       "DistanceFromHome              29\n",
       "Education                      5\n",
       "EducationField                 6\n",
       "EmployeeCount                  1\n",
       "EmployeeNumber              1470\n",
       "EnvironmentSatisfaction        4\n",
       "Gender                         2\n",
       "HourlyRate                    71\n",
       "JobInvolvement                 4\n",
       "JobLevel                       5\n",
       "JobRole                        9\n",
       "JobSatisfaction                4\n",
       "MaritalStatus                  3\n",
       "MonthlyIncome               1349\n",
       "MonthlyRate                 1427\n",
       "NumCompaniesWorked            10\n",
       "Over18                         1\n",
       "OverTime                       2\n",
       "PercentSalaryHike             15\n",
       "PerformanceRating              2\n",
       "RelationshipSatisfaction       4\n",
       "StandardHours                  1\n",
       "StockOptionLevel               4\n",
       "TotalWorkingYears             40\n",
       "TrainingTimesLastYear          7\n",
       "WorkLifeBalance                4\n",
       "YearsAtCompany                37\n",
       "YearsInCurrentRole            19\n",
       "YearsSinceLastPromotion       16\n",
       "YearsWithCurrManager          18\n",
       "Attrition_ind                  2\n",
       "dtype: int64"
      ]
     },
     "execution_count": 8,
     "metadata": {},
     "output_type": "execute_result"
    }
   ],
   "source": [
    "df.nunique() # Get the no. of unique values of each variables"
   ]
  },
  {
   "cell_type": "code",
   "execution_count": 9,
   "metadata": {},
   "outputs": [],
   "source": [
    "# We can ignore the four variables as they do not change across the observations\n",
    "to_ignore = ['EmployeeNumber', 'EmployeeCount', 'Over18', 'StandardHours', 'Attrition_ind']"
   ]
  },
  {
   "cell_type": "code",
   "execution_count": 10,
   "metadata": {},
   "outputs": [],
   "source": [
    "discrete_columns, continuous_columns = [], []\n",
    "for i, j in enumerate(df.dtypes):\n",
    "    if j == object:\n",
    "        discrete_columns.append(df.columns[i])\n",
    "    else:\n",
    "        continuous_columns.append(df.columns[i])"
   ]
  },
  {
   "cell_type": "code",
   "execution_count": 11,
   "metadata": {},
   "outputs": [
    {
     "name": "stdout",
     "output_type": "stream",
     "text": [
      "Discrete: \n",
      "['Attrition', 'BusinessTravel', 'Department', 'EducationField', 'Gender', 'JobRole', 'MaritalStatus', 'Over18', 'OverTime']\n",
      "\n",
      "Continuous: \n",
      "['Age', 'DailyRate', 'DistanceFromHome', 'Education', 'EmployeeCount', 'EmployeeNumber', 'EnvironmentSatisfaction', 'HourlyRate', 'JobInvolvement', 'JobLevel', 'JobSatisfaction', 'MonthlyIncome', 'MonthlyRate', 'NumCompaniesWorked', 'PercentSalaryHike', 'PerformanceRating', 'RelationshipSatisfaction', 'StandardHours', 'StockOptionLevel', 'TotalWorkingYears', 'TrainingTimesLastYear', 'WorkLifeBalance', 'YearsAtCompany', 'YearsInCurrentRole', 'YearsSinceLastPromotion', 'YearsWithCurrManager', 'Attrition_ind']\n"
     ]
    }
   ],
   "source": [
    "print(\"Discrete: \\n\", discrete_columns, '\\n\\n', \"Continuous: \\n\", continuous_columns, sep='')"
   ]
  },
  {
   "cell_type": "code",
   "execution_count": 12,
   "metadata": {},
   "outputs": [],
   "source": [
    "dummy_busnstrvl = pd.get_dummies(df['BusinessTravel'], prefix='busns_trvl')\n",
    "dummy_dept = pd.get_dummies(df['Department'], prefix='dept')\n",
    "dummy_edufield = pd.get_dummies(df['EducationField'], prefix='edufield')\n",
    "dummy_gender = pd.get_dummies(df['Gender'], prefix='gender')\n",
    "dummy_jobrole = pd.get_dummies(df['JobRole'], prefix='jobrole')\n",
    "dummy_maritstat = pd.get_dummies(df['MaritalStatus'], prefix='maritalstat')\n",
    "dummy_overtime = pd.get_dummies(df['OverTime'], prefix='overtime')"
   ]
  },
  {
   "cell_type": "code",
   "execution_count": 13,
   "metadata": {},
   "outputs": [],
   "source": [
    "to_ignore_continuous = ['EmployeeNumber', 'EmployeeCount', 'StandardHours', 'Attrition_ind']"
   ]
  },
  {
   "cell_type": "code",
   "execution_count": 14,
   "metadata": {},
   "outputs": [],
   "source": [
    "continuous_columns = [x for x in continuous_columns if x not in to_ignore_continuous] # list comprehension"
   ]
  },
  {
   "cell_type": "code",
   "execution_count": 15,
   "metadata": {},
   "outputs": [
    {
     "name": "stdout",
     "output_type": "stream",
     "text": [
      "['Age', 'DailyRate', 'DistanceFromHome', 'Education', 'EnvironmentSatisfaction', 'HourlyRate', 'JobInvolvement', 'JobLevel', 'JobSatisfaction', 'MonthlyIncome', 'MonthlyRate', 'NumCompaniesWorked', 'PercentSalaryHike', 'PerformanceRating', 'RelationshipSatisfaction', 'StockOptionLevel', 'TotalWorkingYears', 'TrainingTimesLastYear', 'WorkLifeBalance', 'YearsAtCompany', 'YearsInCurrentRole', 'YearsSinceLastPromotion', 'YearsWithCurrManager']\n"
     ]
    }
   ],
   "source": [
    "print(continuous_columns, sep='')"
   ]
  },
  {
   "cell_type": "code",
   "execution_count": 16,
   "metadata": {},
   "outputs": [],
   "source": [
    "df_continuous = df[continuous_columns]"
   ]
  },
  {
   "cell_type": "code",
   "execution_count": 17,
   "metadata": {},
   "outputs": [],
   "source": [
    "df_new = pd.concat([dummy_busnstrvl, dummy_dept, dummy_edufield, dummy_gender,\n",
    "                   dummy_jobrole, dummy_maritstat, dummy_overtime, df_continuous,\n",
    "                   df['Attrition_ind']], axis=1)\n",
    "# Multi-collinearity does not create a problem in decision trees as opposed to logistic or linear regression,\n",
    "# hence there is no need to remove any extra derived categorical dummy variable"
   ]
  },
  {
   "cell_type": "code",
   "execution_count": 18,
   "metadata": {},
   "outputs": [],
   "source": [
    "X = df_new.iloc[:, :-1]\n",
    "y = df_new['Attrition_ind']"
   ]
  },
  {
   "cell_type": "code",
   "execution_count": 19,
   "metadata": {},
   "outputs": [],
   "source": [
    "# Train test split\n",
    "from sklearn.model_selection import train_test_split\n",
    "\n",
    "X_train, X_test, y_train, y_test = train_test_split(X, y, test_size=0.3, random_state=42)"
   ]
  },
  {
   "cell_type": "markdown",
   "metadata": {},
   "source": [
    "Lets train our data with Decision tree classifier"
   ]
  },
  {
   "cell_type": "code",
   "execution_count": 20,
   "metadata": {},
   "outputs": [
    {
     "name": "stdout",
     "output_type": "stream",
     "text": [
      "Decision Tree - Train Confusion Matrix\n",
      "\n",
      "Predicted    0   1\n",
      "Actuall           \n",
      "0          844   9\n",
      "1           98  78\n",
      "\n",
      "Decision Tree - Train accuracy\n",
      "\n",
      " 0.896\n",
      "\n",
      "Decision Tree - Train Classification Report\n",
      "              precision    recall  f1-score   support\n",
      "\n",
      "          0       0.90      0.99      0.94       853\n",
      "          1       0.90      0.44      0.59       176\n",
      "\n",
      "avg / total       0.90      0.90      0.88      1029\n",
      "\n",
      "\n",
      "\n",
      "Decision Tree - Test Confusion Matrix\n",
      "\n",
      "Predicted    0   1\n",
      "Actuall           \n",
      "0          361  19\n",
      "1           49  12\n",
      "\n",
      "Decision Tree - Test accuracy 0.846\n",
      "\n",
      "Decision Tree - Test Classification Report\n",
      "              precision    recall  f1-score   support\n",
      "\n",
      "          0       0.88      0.95      0.91       380\n",
      "          1       0.39      0.20      0.26        61\n",
      "\n",
      "avg / total       0.81      0.85      0.82       441\n",
      "\n"
     ]
    }
   ],
   "source": [
    "# Decision Tree Classifier\n",
    "from sklearn.tree import DecisionTreeClassifier\n",
    "\n",
    "# parameters selected for DT classifier\n",
    "# criterion='gini', max_depth=5, min_samples_split=2, min_samples_leaf=1\n",
    "dt_fit = DecisionTreeClassifier(criterion='gini', max_depth=5, min_samples_split=2, min_samples_leaf=1, random_state=42)\n",
    "dt_fit.fit(X_train, y_train)\n",
    "\n",
    "print(\"Decision Tree - Train Confusion Matrix\\n\\n\", pd.crosstab(y_train, dt_fit.predict(X_train),\n",
    "                                                               rownames=['Actuall'], colnames=['Predicted']), sep='')\n",
    "\n",
    "from sklearn.metrics import accuracy_score, classification_report\n",
    "print(\"\\nDecision Tree - Train accuracy\\n\\n\", round(accuracy_score(y_train, dt_fit.predict(X_train)), 3))\n",
    "print(\"\\nDecision Tree - Train Classification Report\\n\", classification_report(y_train, dt_fit.predict(X_train)))\n",
    "\n",
    "print(\"\\n\\nDecision Tree - Test Confusion Matrix\\n\\n\", pd.crosstab(y_test, dt_fit.predict(X_test),\n",
    "                                                                  rownames=['Actuall'], colnames=['Predicted']), sep='')\n",
    "print(\"\\nDecision Tree - Test accuracy\", round(accuracy_score(y_test, dt_fit.predict(X_test)), 3))\n",
    "print(\"\\nDecision Tree - Test Classification Report\\n\", classification_report(y_test, dt_fit.predict(X_test)))"
   ]
  },
  {
   "cell_type": "code",
   "execution_count": 21,
   "metadata": {},
   "outputs": [
    {
     "data": {
      "text/plain": [
       "['precision',\n",
       " 'recall',\n",
       " 'f1-score',\n",
       " 'support',\n",
       " '0',\n",
       " '0.88',\n",
       " '0.95',\n",
       " '0.91',\n",
       " '380',\n",
       " '1',\n",
       " '0.39',\n",
       " '0.20',\n",
       " '0.26',\n",
       " '61',\n",
       " 'avg',\n",
       " '/',\n",
       " 'total',\n",
       " '0.81',\n",
       " '0.85',\n",
       " '0.82',\n",
       " '441']"
      ]
     },
     "execution_count": 21,
     "metadata": {},
     "output_type": "execute_result"
    }
   ],
   "source": [
    "classification_report(y_test, dt_fit.predict(X_test)).split()"
   ]
  },
  {
   "cell_type": "markdown",
   "metadata": {},
   "source": [
    "By carefully observing the results, we can infer that, even though the test accuracy is high\n",
    "(84.6%), the precision and recall of one category (Attrition = Yes) is low (precision = 0.39 and\n",
    "recall = 0.20). This could be a serious issue when management tries to use this model to\n",
    "provide some extra benefits proactively to the employees with a high chance of attrition\n",
    "prior to actual attrition, as this model is unable to identify the real employees who will be\n",
    "leaving. Hence, we need to look for other modifications; one way is to control the model by\n",
    "using class weights. By utilizing class weights, we can increase the importance of a\n",
    "particular class at the cost of an increase in other errors.\n",
    "\n",
    "For example, by increasing class weight to category 1, we can identify more employees with\n",
    "the characteristics of actual attrition, but by doing so, we will mark some of the nonpotential\n",
    "churner employees as potential attriters (which should be acceptable).\n",
    "\n",
    "Another classical example of the important use of class weights is, in banking scenarios.\n",
    "When giving loans, it is better to reject some good applications than accepting bad loans.\n",
    "Hence, even in this case, it is a better idea to use higher weightage to defaulters over nondefaulters:"
   ]
  },
  {
   "cell_type": "markdown",
   "metadata": {},
   "source": [
    "## Tuning class weights in decision tree classifier"
   ]
  },
  {
   "cell_type": "code",
   "execution_count": 22,
   "metadata": {},
   "outputs": [],
   "source": [
    "import numpy as np\n",
    "dummyarray = np.empty((6, 10))\n",
    "dt_wttune = pd.DataFrame(dummyarray)\n",
    "# class weights are tuned to see the performance change in decision \n",
    "# trees with the same parameters. A dummy DataFrame is created to save all the results of\n",
    "# various precision-recall details of combinations:"
   ]
  },
  {
   "cell_type": "markdown",
   "metadata": {},
   "source": [
    "Metrics to be considered for capture are weight for zero and one category (for example, if\n",
    "the weight for zero category given is 0.2, then automatically, weight for the one should be\n",
    "0.8, as total weight should be equal to 1), training and testing accuracy, precision for zero\n",
    "category, one category, and overall. Similarly, recall for zero category, one category, and\n",
    "overall are also calculated:"
   ]
  },
  {
   "cell_type": "code",
   "execution_count": 23,
   "metadata": {},
   "outputs": [
    {
     "name": "stdout",
     "output_type": "stream",
     "text": [
      "\n",
      "Class Weights {0: 0.01, 1: 0.99} Train accuracy: 0.342 Test accuracy: 0.272\n",
      "Test Confusion Matrix\n",
      "\n",
      "Predicted   0    1\n",
      "Actual            \n",
      "0          65  315\n",
      "1           6   55\n",
      "\n",
      "Class Weights {0: 0.1, 1: 0.9} Train accuracy: 0.806 Test accuracy: 0.732\n",
      "Test Confusion Matrix\n",
      "\n",
      "Predicted    0   1\n",
      "Actual            \n",
      "0          282  98\n",
      "1           20  41\n",
      "\n",
      "Class Weights {0: 0.2, 1: 0.8} Train accuracy: 0.871 Test accuracy: 0.83\n",
      "Test Confusion Matrix\n",
      "\n",
      "Predicted    0   1\n",
      "Actual            \n",
      "0          341  39\n",
      "1           36  25\n",
      "\n",
      "Class Weights {0: 0.3, 1: 0.7} Train accuracy: 0.881 Test accuracy: 0.839\n",
      "Test Confusion Matrix\n",
      "\n",
      "Predicted    0   1\n",
      "Actual            \n",
      "0          345  35\n",
      "1           36  25\n",
      "\n",
      "Class Weights {0: 0.4, 1: 0.6} Train accuracy: 0.894 Test accuracy: 0.832\n",
      "Test Confusion Matrix\n",
      "\n",
      "Predicted    0   1\n",
      "Actual            \n",
      "0          346  34\n",
      "1           40  21\n",
      "\n",
      "Class Weights {0: 0.5, 1: 0.5} Train accuracy: 0.896 Test accuracy: 0.846\n",
      "Test Confusion Matrix\n",
      "\n",
      "Predicted    0   1\n",
      "Actual            \n",
      "0          361  19\n",
      "1           49  12\n"
     ]
    }
   ],
   "source": [
    "dt_wttune.columns = ['zero_wght', 'one_wght', 'tr_accuracy',\n",
    "                    'tst_accuracy', 'prec_zero', 'prec_one', 'prec_ovll',\n",
    "                    'recl_zero', 'recl_one', 'recl_ovll']\n",
    "\n",
    "# Weights for the zero category are verified from 0.01 to 0.5, as we know we do not want to\n",
    "# explore cases where the zero category will be given higher weightage than one category:\n",
    "zero_clwghts = [0.01, 0.1, 0.2, 0.3, 0.4, 0.5]\n",
    "\n",
    "for i in range(len(zero_clwghts)):\n",
    "    clwght = {0: zero_clwghts[i], 1:1.0-zero_clwghts[i]}\n",
    "    dt_fit = DecisionTreeClassifier(criterion='gini', max_depth=5, min_samples_split=2,\n",
    "                                   min_samples_leaf=1, random_state=42, class_weight=clwght)\n",
    "    dt_fit.fit(X_train, y_train)\n",
    "    dt_wttune.loc[i, 'zero_wght'] = clwght[0]\n",
    "    dt_wttune.loc[i, 'one_wght'] = clwght[1]\n",
    "    dt_wttune.loc[i, 'tr_accuracy'] = round(accuracy_score(y_train, dt_fit.predict(X_train)), 3)\n",
    "    dt_wttune.loc[i, 'tst_accuracy'] = round(accuracy_score(y_test, dt_fit.predict(X_test)), 3)\n",
    "    clf_sp = classification_report(y_test, dt_fit.predict(X_test)).split()\n",
    "    dt_wttune.loc[i, 'prec_zero'] = float(clf_sp[5])\n",
    "    dt_wttune.loc[i, 'prec_one'] = float(clf_sp[10])\n",
    "    dt_wttune.loc[i, 'prec_ovll'] = float(clf_sp[17])\n",
    "    dt_wttune.loc[i, 'recl_zero'] = float(clf_sp[6])\n",
    "    dt_wttune.loc[i, 'recl_one'] = float(clf_sp[11])\n",
    "    dt_wttune.loc[i, 'recl_ovll'] = float(clf_sp[18])\n",
    "    print(\"\\nClass Weights\", clwght, \"Train accuracy:\",\n",
    "         round(accuracy_score(y_train, dt_fit.predict(X_train)), 3),\n",
    "         \"Test accuracy:\", round(accuracy_score(y_test, dt_fit.predict(X_test)), 3))\n",
    "    \n",
    "    print(\"Test Confusion Matrix\\n\\n\", pd.crosstab(y_test, dt_fit.predict(X_test),\n",
    "                                                  rownames=['Actual'], colnames=['Predicted']), sep='')"
   ]
  },
  {
   "cell_type": "markdown",
   "metadata": {},
   "source": [
    "From the preceding screenshot, we can seen that at class weight values of 0.3 (for zero) and\n",
    "0.7 (for one) it is identifying a higher number of attriters (25 out of 61) without\n",
    "compromising test accuracy 83.9% using decision trees methodology:"
   ]
  },
  {
   "cell_type": "code",
   "execution_count": 24,
   "metadata": {},
   "outputs": [
    {
     "data": {
      "text/html": [
       "<div>\n",
       "<style scoped>\n",
       "    .dataframe tbody tr th:only-of-type {\n",
       "        vertical-align: middle;\n",
       "    }\n",
       "\n",
       "    .dataframe tbody tr th {\n",
       "        vertical-align: top;\n",
       "    }\n",
       "\n",
       "    .dataframe thead th {\n",
       "        text-align: right;\n",
       "    }\n",
       "</style>\n",
       "<table border=\"1\" class=\"dataframe\">\n",
       "  <thead>\n",
       "    <tr style=\"text-align: right;\">\n",
       "      <th></th>\n",
       "      <th>zero_wght</th>\n",
       "      <th>one_wght</th>\n",
       "      <th>tr_accuracy</th>\n",
       "      <th>tst_accuracy</th>\n",
       "      <th>prec_zero</th>\n",
       "      <th>prec_one</th>\n",
       "      <th>prec_ovll</th>\n",
       "      <th>recl_zero</th>\n",
       "      <th>recl_one</th>\n",
       "      <th>recl_ovll</th>\n",
       "    </tr>\n",
       "  </thead>\n",
       "  <tbody>\n",
       "    <tr>\n",
       "      <th>0</th>\n",
       "      <td>0.01</td>\n",
       "      <td>0.99</td>\n",
       "      <td>0.342</td>\n",
       "      <td>0.272</td>\n",
       "      <td>0.92</td>\n",
       "      <td>0.15</td>\n",
       "      <td>0.81</td>\n",
       "      <td>0.17</td>\n",
       "      <td>0.90</td>\n",
       "      <td>0.27</td>\n",
       "    </tr>\n",
       "    <tr>\n",
       "      <th>1</th>\n",
       "      <td>0.10</td>\n",
       "      <td>0.90</td>\n",
       "      <td>0.806</td>\n",
       "      <td>0.732</td>\n",
       "      <td>0.93</td>\n",
       "      <td>0.29</td>\n",
       "      <td>0.85</td>\n",
       "      <td>0.74</td>\n",
       "      <td>0.67</td>\n",
       "      <td>0.73</td>\n",
       "    </tr>\n",
       "    <tr>\n",
       "      <th>2</th>\n",
       "      <td>0.20</td>\n",
       "      <td>0.80</td>\n",
       "      <td>0.871</td>\n",
       "      <td>0.830</td>\n",
       "      <td>0.90</td>\n",
       "      <td>0.39</td>\n",
       "      <td>0.83</td>\n",
       "      <td>0.90</td>\n",
       "      <td>0.41</td>\n",
       "      <td>0.83</td>\n",
       "    </tr>\n",
       "    <tr>\n",
       "      <th>3</th>\n",
       "      <td>0.30</td>\n",
       "      <td>0.70</td>\n",
       "      <td>0.881</td>\n",
       "      <td>0.839</td>\n",
       "      <td>0.91</td>\n",
       "      <td>0.42</td>\n",
       "      <td>0.84</td>\n",
       "      <td>0.91</td>\n",
       "      <td>0.41</td>\n",
       "      <td>0.84</td>\n",
       "    </tr>\n",
       "    <tr>\n",
       "      <th>4</th>\n",
       "      <td>0.40</td>\n",
       "      <td>0.60</td>\n",
       "      <td>0.894</td>\n",
       "      <td>0.832</td>\n",
       "      <td>0.90</td>\n",
       "      <td>0.38</td>\n",
       "      <td>0.83</td>\n",
       "      <td>0.91</td>\n",
       "      <td>0.34</td>\n",
       "      <td>0.83</td>\n",
       "    </tr>\n",
       "    <tr>\n",
       "      <th>5</th>\n",
       "      <td>0.50</td>\n",
       "      <td>0.50</td>\n",
       "      <td>0.896</td>\n",
       "      <td>0.846</td>\n",
       "      <td>0.88</td>\n",
       "      <td>0.39</td>\n",
       "      <td>0.81</td>\n",
       "      <td>0.95</td>\n",
       "      <td>0.20</td>\n",
       "      <td>0.85</td>\n",
       "    </tr>\n",
       "  </tbody>\n",
       "</table>\n",
       "</div>"
      ],
      "text/plain": [
       "   zero_wght  one_wght  tr_accuracy  tst_accuracy  prec_zero  prec_one  \\\n",
       "0       0.01      0.99        0.342         0.272       0.92      0.15   \n",
       "1       0.10      0.90        0.806         0.732       0.93      0.29   \n",
       "2       0.20      0.80        0.871         0.830       0.90      0.39   \n",
       "3       0.30      0.70        0.881         0.839       0.91      0.42   \n",
       "4       0.40      0.60        0.894         0.832       0.90      0.38   \n",
       "5       0.50      0.50        0.896         0.846       0.88      0.39   \n",
       "\n",
       "   prec_ovll  recl_zero  recl_one  recl_ovll  \n",
       "0       0.81       0.17      0.90       0.27  \n",
       "1       0.85       0.74      0.67       0.73  \n",
       "2       0.83       0.90      0.41       0.83  \n",
       "3       0.84       0.91      0.41       0.84  \n",
       "4       0.83       0.91      0.34       0.83  \n",
       "5       0.81       0.95      0.20       0.85  "
      ]
     },
     "execution_count": 24,
     "metadata": {},
     "output_type": "execute_result"
    }
   ],
   "source": [
    "dt_wttune"
   ]
  },
  {
   "cell_type": "markdown",
   "metadata": {},
   "source": [
    "# Bagging Classifier over single DT\n",
    "\n",
    "In bagging, we build a number of decision trees on bootstrapped\n",
    "samples from training data, but the one big drawback with the bagging technique is that it\n",
    "selects all the variables."
   ]
  },
  {
   "cell_type": "code",
   "execution_count": 26,
   "metadata": {},
   "outputs": [
    {
     "name": "stdout",
     "output_type": "stream",
     "text": [
      "\n",
      "Bagging - Train Confusion Matrix\n",
      "\n",
      " Predicted    0    1\n",
      "Actuall            \n",
      "0          846    7\n",
      "1           66  110\n",
      "\n",
      "Bagging - Train accuracy 0.929\n",
      "\n",
      "Bagging - Train Classification Report\n",
      "              precision    recall  f1-score   support\n",
      "\n",
      "          0       0.93      0.99      0.96       853\n",
      "          1       0.94      0.62      0.75       176\n",
      "\n",
      "avg / total       0.93      0.93      0.92      1029\n",
      "\n",
      "\n",
      "\n",
      "Bagging - Test Confusion Matrix\n",
      "\n",
      " Predicted    0   1\n",
      "Actuall           \n",
      "0          372   8\n",
      "1           49  12\n",
      "\n",
      "Bagging - Test accuracy 0.871\n",
      "\n",
      "Bagging - Test Classification Report\n",
      "              precision    recall  f1-score   support\n",
      "\n",
      "          0       0.88      0.98      0.93       380\n",
      "          1       0.60      0.20      0.30        61\n",
      "\n",
      "avg / total       0.84      0.87      0.84       441\n",
      "\n"
     ]
    }
   ],
   "source": [
    "# Bagging Classifier\n",
    "from sklearn.tree import DecisionTreeClassifier\n",
    "from sklearn.ensemble import BaggingClassifier\n",
    "from sklearn.metrics import accuracy_score, classification_report\n",
    "\n",
    "dt_fit = DecisionTreeClassifier(criterion='gini', max_depth=5, min_samples_split=2, min_samples_leaf=1, random_state=42,\n",
    "                               class_weight={0:0.3, 1:0.7})\n",
    "bag_fit = BaggingClassifier(base_estimator=dt_fit, n_estimators=5000, max_samples=0.67,\n",
    "                           max_features=1.0, bootstrap=True,\n",
    "                           bootstrap_features=False, n_jobs=-1, random_state=42)\n",
    "bag_fit.fit(X_train, y_train)\n",
    "\n",
    "bag_pred = bag_fit.predict(X_train)\n",
    "print(\"\\nBagging - Train Confusion Matrix\\n\\n\", pd.crosstab(y_train, bag_pred,\n",
    "                                                           rownames=['Actuall'], colnames=['Predicted']))\n",
    "print('\\nBagging - Train accuracy', round(accuracy_score(y_train, bag_pred), 3))\n",
    "print('\\nBagging - Train Classification Report\\n', classification_report(y_train, bag_pred))\n",
    "\n",
    "bag_pred = bag_fit.predict(X_test)\n",
    "print('\\n\\nBagging - Test Confusion Matrix\\n\\n', pd.crosstab(y_test, bag_pred,\n",
    "                                                            rownames=['Actuall'], colnames=['Predicted']))\n",
    "print('\\nBagging - Test accuracy', round(accuracy_score(y_test, bag_pred), 3))\n",
    "print('\\nBagging - Test Classification Report\\n', classification_report(y_test, bag_pred))"
   ]
  },
  {
   "cell_type": "markdown",
   "metadata": {},
   "source": [
    "Given the confusion matrix for test data, we can see the no. of false positive (the number of 0 classified as 1 significantly reduced to 8 compared with 19 in DT)\n",
    "\n",
    "Overall, Bagging improves performance over the single tree"
   ]
  },
  {
   "cell_type": "markdown",
   "metadata": {},
   "source": [
    "# Random forest classifier"
   ]
  },
  {
   "cell_type": "code",
   "execution_count": 28,
   "metadata": {},
   "outputs": [],
   "source": [
    "from sklearn.ensemble import RandomForestClassifier"
   ]
  },
  {
   "cell_type": "code",
   "execution_count": 29,
   "metadata": {},
   "outputs": [
    {
     "name": "stdout",
     "output_type": "stream",
     "text": [
      "\n",
      "Random Forest - Train Confusion Matrix\n",
      "\n",
      " Predicted    0    1\n",
      "Actuall            \n",
      "0          841   12\n",
      "1           76  100\n",
      "\n",
      "Random Forest - Train accuracy 0.914\n",
      "\n",
      "Random Forest - Train Classification Report\n",
      "              precision    recall  f1-score   support\n",
      "\n",
      "          0       0.92      0.99      0.95       853\n",
      "          1       0.89      0.57      0.69       176\n",
      "\n",
      "avg / total       0.91      0.91      0.91      1029\n",
      "\n",
      "\n",
      "Random Forest - Test Confusion Matrix\n",
      "\n",
      " Predicted    0   1\n",
      "Actuall           \n",
      "0          373   7\n",
      "1           47  14\n",
      "\n",
      "Random Forest: Test accuracy 0.878\n",
      "\n",
      "Random Forest - Test Classification Report\n",
      "              precision    recall  f1-score   support\n",
      "\n",
      "          0       0.89      0.98      0.93       380\n",
      "          1       0.67      0.23      0.34        61\n",
      "\n",
      "avg / total       0.86      0.88      0.85       441\n",
      "\n"
     ]
    }
   ],
   "source": [
    "rf_fit = RandomForestClassifier(n_estimators=5000, criterion='gini', max_depth=5, min_samples_split=2,\n",
    "                               bootstrap=True, max_features='auto', random_state=42, min_samples_leaf=1, \n",
    "                               class_weight = {0: 0.3, 1: 0.7})\n",
    "rf_fit.fit(X_train, y_train)\n",
    "\n",
    "rf_pred = rf_fit.predict(X_train)\n",
    "print('\\nRandom Forest - Train Confusion Matrix\\n\\n', pd.crosstab(y_train, rf_pred,\n",
    "                                                                 rownames=['Actuall'], colnames=['Predicted']))\n",
    "print('\\nRandom Forest - Train accuracy', round(accuracy_score(y_train, rf_pred), 3))\n",
    "print('\\nRandom Forest - Train Classification Report\\n', classification_report(y_train, rf_pred))\n",
    "\n",
    "rf_pred = rf_fit.predict(X_test)\n",
    "print('\\nRandom Forest - Test Confusion Matrix\\n\\n', pd.crosstab(y_test, rf_pred,\n",
    "                                                                rownames=['Actuall'], colnames=['Predicted']))\n",
    "print('\\nRandom Forest: Test accuracy', round(accuracy_score(y_test, rf_pred), 3))\n",
    "print('\\nRandom Forest - Test Classification Report\\n', classification_report(y_test, rf_pred))"
   ]
  },
  {
   "cell_type": "markdown",
   "metadata": {},
   "source": [
    "Random forest classifier produced 87.8% test accuracy compared with bagging 87.3%, and\n",
    "also identifies 14 actually attrited employees in contrast with bagging, for which 13 attrited\n",
    "employees have been identified:"
   ]
  },
  {
   "cell_type": "code",
   "execution_count": 42,
   "metadata": {},
   "outputs": [
    {
     "data": {
      "image/png": "[encoded data removed]",
      "text/plain": [
       "<matplotlib.figure.Figure at 0x1bcb6825f28>"
      ]
     },
     "metadata": {},
     "output_type": "display_data"
    }
   ],
   "source": [
    "# Plot of variable imoprtance by mean decrease in gini\n",
    "model_ranks = pd.Series(rf_fit.feature_importances_, index=X_train.columns,\n",
    "                       name='Importance').sort_values(ascending=False, inplace=False)\n",
    "model_ranks.index.name = 'Variables'\n",
    "top_features = model_ranks.iloc[:31].sort_values(ascending=True, inplace=False)\n",
    "import matplotlib.pyplot as plt\n",
    "plt.figure(figsize=(20, 10))\n",
    "ax = top_features.plot(kind='barh')\n",
    "_ = ax.set_title('Variable Importance Plot')\n",
    "_ = ax.set_xlabel('Mean decrease in Variance')\n",
    "_ = ax.set_yticklabels(top_features.index, fontsize=13)"
   ]
  },
  {
   "cell_type": "code",
   "execution_count": 65,
   "metadata": {},
   "outputs": [],
   "source": [
    "from sklearn.ensemble import RandomForestClassifier\n",
    "class feat_importances():\n",
    "    \n",
    "    def __init__(self, n_estimators=5000, test_size=0.3, random_state=42):\n",
    "        self.test_size = test_size\n",
    "        self.random_state = random_state\n",
    "        self.n_estimators = n_estimators\n",
    "    \n",
    "    def get_feat_importances(self, X, y):\n",
    "        print(\"Feature ranking:\")\n",
    "        X_train, X_test, y_train, y_test = \\\n",
    "            train_test_split(X, y, test_size=self.test_size, random_state=self.random_state)\n",
    "\n",
    "        # optional hyperparameters tuning for rf: criterion='gini', max_depth=300, min_samples_split=3, min_samples_leaf=1\n",
    "        # n_estimators=5000, criterion='gini', max_depth=5, min_samples_split=2,\n",
    "        # bootstrap=True, max_features='auto', random_state=42, min_samples_leaf=1, \n",
    "        # class_weight = {0: 0.3, 1: 0.7}\n",
    "        # Parameters is important at determining the importances of features..\n",
    "        feat_labels = X.columns\n",
    "        forest = RandomForestClassifier(n_estimators=self.n_estimators, random_state=self.random_state,\n",
    "                                       criterion='gini', max_depth=5, min_samples_split=2, bootstrap=True,\n",
    "                                       max_features='auto', min_samples_leaf=1, class_weight={0: 0.3, 1: 0.7})\n",
    "        \n",
    "        forest.fit(X_train, y_train)\n",
    "        importances = forest.feature_importances_\n",
    "\n",
    "        indices = np.argsort(importances)[::-1]\n",
    "        \n",
    "        for f in range(30): # Show only the top 30 features, change to X_train.shape[1] to display all the features \n",
    "            print(\"%2d) %-*s %f\" % (indices[f], 30, feat_labels[indices[f]], importances[indices[f]]))\n",
    "        plt.title('Feature Importance')\n",
    "        plt.bar(range(X_train.shape[1]), importances[indices], align='center')\n",
    "        plt.xticks(range(X_train.shape[1]), feat_labels[indices], rotation=90)\n",
    "        plt.xlim([-1, X_train.shape[1]])\n",
    "        plt.tight_layout()\n",
    "        plt.show()\n",
    "      \n",
    "        \n",
    "    #def plot_feat_importances():"
   ]
  },
  {
   "cell_type": "code",
   "execution_count": 66,
   "metadata": {},
   "outputs": [
    {
     "name": "stdout",
     "output_type": "stream",
     "text": [
      "Feature ranking:\n",
      "37) MonthlyIncome                  0.089823\n",
      "26) overtime_No                    0.082077\n",
      "27) overtime_Yes                   0.078884\n",
      "28) Age                            0.065810\n",
      "44) TotalWorkingYears              0.065120\n",
      "43) StockOptionLevel               0.057430\n",
      "47) YearsAtCompany                 0.052720\n",
      "25) maritalstat_Single             0.039953\n",
      "48) YearsInCurrentRole             0.039645\n",
      "50) YearsWithCurrManager           0.037980\n",
      "35) JobLevel                       0.036110\n",
      "39) NumCompaniesWorked             0.027221\n",
      "29) DailyRate                      0.025916\n",
      "30) DistanceFromHome               0.023696\n",
      "38) MonthlyRate                    0.023413\n",
      "33) HourlyRate                     0.022821\n",
      "36) JobSatisfaction                0.016712\n",
      "32) EnvironmentSatisfaction        0.016450\n",
      "40) PercentSalaryHike              0.013988\n",
      "34) JobInvolvement                 0.013918\n",
      "45) TrainingTimesLastYear          0.013894\n",
      "49) YearsSinceLastPromotion        0.013030\n",
      "22) jobrole_Sales Representative   0.011243\n",
      "23) maritalstat_Divorced           0.010080\n",
      "42) RelationshipSatisfaction       0.009997\n",
      "46) WorkLifeBalance                0.009845\n",
      " 5) dept_Sales                     0.008841\n",
      "31) Education                      0.008567\n",
      " 1) busns_trvl_Travel_Frequently   0.008481\n",
      " 4) dept_Research & Development    0.008180\n"
     ]
    },
    {
     "data": {
      "image/png": "[encoded data removed]",
      "text/plain": [
       "<matplotlib.figure.Figure at 0x1bcb5819f98>"
      ]
     },
     "metadata": {},
     "output_type": "display_data"
    }
   ],
   "source": [
    "plt.figure(figsize=(20, 10))\n",
    "feat_imp = feat_importances()\n",
    "feat_imp.get_feat_importances(X, y)"
   ]
  },
  {
   "cell_type": "markdown",
   "metadata": {},
   "source": [
    "From the variable importance plot, it seems that the monthly income variable seems to be\n",
    "most significant, followed by overtime, total working years, stock option levels, years at\n",
    "company, and so on. This provides us with some insight into what are major contributing\n",
    "factors that determine whether the employee will remain with the company or leave the\n",
    "organization:"
   ]
  },
  {
   "cell_type": "code",
   "execution_count": null,
   "metadata": {},
   "outputs": [],
   "source": []
  },
  {
   "cell_type": "code",
   "execution_count": null,
   "metadata": {},
   "outputs": [],
   "source": []
  },
  {
   "cell_type": "code",
   "execution_count": null,
   "metadata": {},
   "outputs": [],
   "source": []
  },
  {
   "cell_type": "code",
   "execution_count": null,
   "metadata": {},
   "outputs": [],
   "source": []
  },
  {
   "cell_type": "code",
   "execution_count": null,
   "metadata": {},
   "outputs": [],
   "source": []
  },
  {
   "cell_type": "code",
   "execution_count": null,
   "metadata": {},
   "outputs": [],
   "source": []
  },
  {
   "cell_type": "code",
   "execution_count": null,
   "metadata": {},
   "outputs": [],
   "source": []
  },
  {
   "cell_type": "code",
   "execution_count": null,
   "metadata": {},
   "outputs": [],
   "source": []
  },
  {
   "cell_type": "code",
   "execution_count": null,
   "metadata": {},
   "outputs": [],
   "source": []
  },
  {
   "cell_type": "code",
   "execution_count": null,
   "metadata": {},
   "outputs": [],
   "source": []
  },
  {
   "cell_type": "code",
   "execution_count": null,
   "metadata": {},
   "outputs": [],
   "source": []
  },
  {
   "cell_type": "code",
   "execution_count": null,
   "metadata": {},
   "outputs": [],
   "source": []
  },
  {
   "cell_type": "code",
   "execution_count": null,
   "metadata": {},
   "outputs": [],
   "source": []
  },
  {
   "cell_type": "code",
   "execution_count": null,
   "metadata": {},
   "outputs": [],
   "source": []
  },
  {
   "cell_type": "code",
   "execution_count": null,
   "metadata": {},
   "outputs": [],
   "source": []
  },
  {
   "cell_type": "code",
   "execution_count": null,
   "metadata": {},
   "outputs": [],
   "source": []
  },
  {
   "cell_type": "code",
   "execution_count": null,
   "metadata": {},
   "outputs": [],
   "source": []
  },
  {
   "cell_type": "code",
   "execution_count": null,
   "metadata": {},
   "outputs": [],
   "source": []
  },
  {
   "cell_type": "code",
   "execution_count": null,
   "metadata": {},
   "outputs": [],
   "source": []
  },
  {
   "cell_type": "code",
   "execution_count": null,
   "metadata": {},
   "outputs": [],
   "source": []
  },
  {
   "cell_type": "code",
   "execution_count": null,
   "metadata": {},
   "outputs": [],
   "source": []
  },
  {
   "cell_type": "code",
   "execution_count": null,
   "metadata": {},
   "outputs": [],
   "source": []
  },
  {
   "cell_type": "code",
   "execution_count": 25,
   "metadata": {},
   "outputs": [],
   "source": []
  }
 ],
 "metadata": {
  "kernelspec": {
   "display_name": "Python 3",
   "language": "python",
   "name": "python3"
  },
  "language_info": {
   "codemirror_mode": {
    "name": "ipython",
    "version": 3
   },
   "file_extension": ".py",
   "mimetype": "text/x-python",
   "name": "python",
   "nbconvert_exporter": "python",
   "pygments_lexer": "ipython3",
   "version": "3.6.4"
  }
 },
 "nbformat": 4,
 "nbformat_minor": 2
}
