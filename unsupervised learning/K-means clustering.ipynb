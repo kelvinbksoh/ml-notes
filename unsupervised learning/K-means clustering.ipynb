{
 "cells": [
  {
   "cell_type": "markdown",
   "metadata": {},
   "source": [
    "## K-means clustering with the iris data"
   ]
  },
  {
   "cell_type": "code",
   "execution_count": 1,
   "metadata": {},
   "outputs": [],
   "source": [
    "# K-means clustering\n",
    "import numpy as np\n",
    "import pandas as pd\n",
    "import matplotlib.pyplot as plt\n",
    "import seaborn as sns\n",
    "plt.style.use('seaborn')\n",
    "from scipy.spatial.distance import cdist, pdist\n",
    "\n",
    "from sklearn.cluster import KMeans\n",
    "from sklearn.metrics import silhouette_score"
   ]
  },
  {
   "cell_type": "code",
   "execution_count": 38,
   "metadata": {},
   "outputs": [],
   "source": [
    "df = pd.read_csv('../dataset/iris-dataset/Iris.csv')"
   ]
  },
  {
   "cell_type": "code",
   "execution_count": 39,
   "metadata": {},
   "outputs": [
    {
     "data": {
      "text/html": [
       "<div>\n",
       "<style scoped>\n",
       "    .dataframe tbody tr th:only-of-type {\n",
       "        vertical-align: middle;\n",
       "    }\n",
       "\n",
       "    .dataframe tbody tr th {\n",
       "        vertical-align: top;\n",
       "    }\n",
       "\n",
       "    .dataframe thead th {\n",
       "        text-align: right;\n",
       "    }\n",
       "</style>\n",
       "<table border=\"1\" class=\"dataframe\">\n",
       "  <thead>\n",
       "    <tr style=\"text-align: right;\">\n",
       "      <th></th>\n",
       "      <th>Id</th>\n",
       "      <th>SepalLengthCm</th>\n",
       "      <th>SepalWidthCm</th>\n",
       "      <th>PetalLengthCm</th>\n",
       "      <th>PetalWidthCm</th>\n",
       "      <th>Species</th>\n",
       "    </tr>\n",
       "  </thead>\n",
       "  <tbody>\n",
       "    <tr>\n",
       "      <th>0</th>\n",
       "      <td>1</td>\n",
       "      <td>5.1</td>\n",
       "      <td>3.5</td>\n",
       "      <td>1.4</td>\n",
       "      <td>0.2</td>\n",
       "      <td>Iris-setosa</td>\n",
       "    </tr>\n",
       "    <tr>\n",
       "      <th>1</th>\n",
       "      <td>2</td>\n",
       "      <td>4.9</td>\n",
       "      <td>3.0</td>\n",
       "      <td>1.4</td>\n",
       "      <td>0.2</td>\n",
       "      <td>Iris-setosa</td>\n",
       "    </tr>\n",
       "    <tr>\n",
       "      <th>2</th>\n",
       "      <td>3</td>\n",
       "      <td>4.7</td>\n",
       "      <td>3.2</td>\n",
       "      <td>1.3</td>\n",
       "      <td>0.2</td>\n",
       "      <td>Iris-setosa</td>\n",
       "    </tr>\n",
       "    <tr>\n",
       "      <th>3</th>\n",
       "      <td>4</td>\n",
       "      <td>4.6</td>\n",
       "      <td>3.1</td>\n",
       "      <td>1.5</td>\n",
       "      <td>0.2</td>\n",
       "      <td>Iris-setosa</td>\n",
       "    </tr>\n",
       "    <tr>\n",
       "      <th>4</th>\n",
       "      <td>5</td>\n",
       "      <td>5.0</td>\n",
       "      <td>3.6</td>\n",
       "      <td>1.4</td>\n",
       "      <td>0.2</td>\n",
       "      <td>Iris-setosa</td>\n",
       "    </tr>\n",
       "  </tbody>\n",
       "</table>\n",
       "</div>"
      ],
      "text/plain": [
       "   Id  SepalLengthCm  SepalWidthCm  PetalLengthCm  PetalWidthCm      Species\n",
       "0   1            5.1           3.5            1.4           0.2  Iris-setosa\n",
       "1   2            4.9           3.0            1.4           0.2  Iris-setosa\n",
       "2   3            4.7           3.2            1.3           0.2  Iris-setosa\n",
       "3   4            4.6           3.1            1.5           0.2  Iris-setosa\n",
       "4   5            5.0           3.6            1.4           0.2  Iris-setosa"
      ]
     },
     "execution_count": 39,
     "metadata": {},
     "output_type": "execute_result"
    }
   ],
   "source": [
    "df.head()"
   ]
  },
  {
   "cell_type": "code",
   "execution_count": 40,
   "metadata": {},
   "outputs": [],
   "source": [
    "X = df.drop(['Id', 'Species'], axis=1)\n",
    "y = df['Species']"
   ]
  },
  {
   "cell_type": "code",
   "execution_count": 41,
   "metadata": {},
   "outputs": [
    {
     "name": "stdout",
     "output_type": "stream",
     "text": [
      "\n",
      "K-Means Clustering - Confusion Matrix\n",
      "\n",
      "Predicted         0   1   2\n",
      "Actual                     \n",
      "Iris-setosa      50   0   0\n",
      "Iris-versicolor   0  48   2\n",
      "Iris-virginica    0  14  36\n",
      "\n",
      "Silhouette-Score: 0.553\n"
     ]
    }
   ],
   "source": [
    "# Choosing the no. of cluster is the question\n",
    "# let's try with 3 cluster\n",
    "\n",
    "k_means_fit = KMeans(n_clusters=3, max_iter=300)\n",
    "k_means_fit.fit(X)\n",
    "\n",
    "print('\\nK-Means Clustering - Confusion Matrix\\n\\n', pd.crosstab(y, k_means_fit.labels_,\n",
    "                                                                rownames=['Actual'], colnames=['Predicted']), sep='')\n",
    "print('\\nSilhouette-Score: %0.3f' % silhouette_score(X, k_means_fit.labels_, metric='euclidean'))"
   ]
  },
  {
   "cell_type": "markdown",
   "metadata": {},
   "source": [
    "From the previous confusion matrix, we can see that 1 out of 50 setosa flowers are clustered\n",
    "incorrectly, and 1 out of 50 versicolor, whereas none of the virginica flowers are incorrectly\n",
    "classified.\n",
    "\n",
    "Again, to reiterate, in real-life examples we do not have the category\n",
    "names in advance, so we cannot measure accuracy, and so on.\n",
    "\n",
    "Following code is used to perform sensitivity analysis to check how many number of\n",
    "clusters does actually provide better explanation of segments:"
   ]
  },
  {
   "cell_type": "code",
   "execution_count": 42,
   "metadata": {},
   "outputs": [
    {
     "data": {
      "text/plain": [
       "array([0, 1, 2])"
      ]
     },
     "execution_count": 42,
     "metadata": {},
     "output_type": "execute_result"
    }
   ],
   "source": [
    "np.unique(k_means_fit.labels_)\n",
    "# 0, 1, 2 are the cluster labels"
   ]
  },
  {
   "cell_type": "markdown",
   "metadata": {},
   "source": [
    "Evaluation of clusters with silhouette coefficient: the silhouette coefficient is a measure of\n",
    "the compactness and separation of the clusters. Higher values represent a better quality of\n",
    "cluster. The silhouette coefficient is higher for compact clusters that are well separated and\n",
    "lower for overlapping clusters. Silhouette coefficient values do change from -1 to +1, and the\n",
    "higher the value is, the better."
   ]
  },
  {
   "cell_type": "code",
   "execution_count": 43,
   "metadata": {},
   "outputs": [
    {
     "name": "stdout",
     "output_type": "stream",
     "text": [
      "For K value 2 , Silhouette-Score: 0.553\n",
      "For K value 3 , Silhouette-Score: 0.553\n",
      "For K value 4 , Silhouette-Score: 0.553\n",
      "For K value 5 , Silhouette-Score: 0.553\n",
      "For K value 6 , Silhouette-Score: 0.553\n",
      "For K value 7 , Silhouette-Score: 0.553\n",
      "For K value 8 , Silhouette-Score: 0.553\n",
      "For K value 9 , Silhouette-Score: 0.553\n"
     ]
    }
   ],
   "source": [
    "for k in range(2, 10):\n",
    "    k_means_fitk = KMeans(n_clusters=k, max_iter=300)\n",
    "    k_means_fitk.fit(X)\n",
    "    print(\"For K value\", k, \", Silhouette-Score: %0.3f\" % silhouette_score(X, k_means_fit.labels_, metric='euclidean'))"
   ]
  },
  {
   "cell_type": "markdown",
   "metadata": {},
   "source": [
    "As a thumb rule, we need to take the\n",
    "next K value of the highest silhouette coefficient.\n",
    "\n",
    "Since all has k value has the same score, we pick the K value 3\n",
    "\n",
    "In addition, we also need to see the average within cluster variation value and elbow\n",
    "plot before concluding the optimal K value."
   ]
  },
  {
   "cell_type": "code",
   "execution_count": 50,
   "metadata": {},
   "outputs": [
    {
     "data": {
      "text/plain": [
       "array([[5.84333333, 3.054     , 3.75866667, 1.19866667]])"
      ]
     },
     "execution_count": 50,
     "metadata": {},
     "output_type": "execute_result"
    }
   ],
   "source": [
    "centroids[0]"
   ]
  },
  {
   "cell_type": "code",
   "execution_count": 46,
   "metadata": {},
   "outputs": [
    {
     "data": {
      "text/html": [
       "<div>\n",
       "<style scoped>\n",
       "    .dataframe tbody tr th:only-of-type {\n",
       "        vertical-align: middle;\n",
       "    }\n",
       "\n",
       "    .dataframe tbody tr th {\n",
       "        vertical-align: top;\n",
       "    }\n",
       "\n",
       "    .dataframe thead th {\n",
       "        text-align: right;\n",
       "    }\n",
       "</style>\n",
       "<table border=\"1\" class=\"dataframe\">\n",
       "  <thead>\n",
       "    <tr style=\"text-align: right;\">\n",
       "      <th></th>\n",
       "      <th>SepalLengthCm</th>\n",
       "      <th>SepalWidthCm</th>\n",
       "      <th>PetalLengthCm</th>\n",
       "      <th>PetalWidthCm</th>\n",
       "    </tr>\n",
       "  </thead>\n",
       "  <tbody>\n",
       "    <tr>\n",
       "      <th>0</th>\n",
       "      <td>5.1</td>\n",
       "      <td>3.5</td>\n",
       "      <td>1.4</td>\n",
       "      <td>0.2</td>\n",
       "    </tr>\n",
       "    <tr>\n",
       "      <th>1</th>\n",
       "      <td>4.9</td>\n",
       "      <td>3.0</td>\n",
       "      <td>1.4</td>\n",
       "      <td>0.2</td>\n",
       "    </tr>\n",
       "  </tbody>\n",
       "</table>\n",
       "</div>"
      ],
      "text/plain": [
       "   SepalLengthCm  SepalWidthCm  PetalLengthCm  PetalWidthCm\n",
       "0            5.1           3.5            1.4           0.2\n",
       "1            4.9           3.0            1.4           0.2"
      ]
     },
     "execution_count": 46,
     "metadata": {},
     "output_type": "execute_result"
    }
   ],
   "source": [
    "X[:2]"
   ]
  },
  {
   "cell_type": "code",
   "execution_count": 56,
   "metadata": {},
   "outputs": [
    {
     "data": {
      "text/plain": [
       "1.9430341590370264"
      ]
     },
     "execution_count": 56,
     "metadata": {},
     "output_type": "execute_result"
    }
   ],
   "source": [
    "sum(dist[0]) / X.shape[0]"
   ]
  },
  {
   "cell_type": "code",
   "execution_count": 48,
   "metadata": {},
   "outputs": [
    {
     "data": {
      "image/png": "[encoded data removed]",
      "text/plain": [
       "<Figure size 432x288 with 1 Axes>"
      ]
     },
     "metadata": {},
     "output_type": "display_data"
    }
   ],
   "source": [
    "# Avg. within-cluster sum of squares\n",
    "K = range(1, 10)\n",
    "\n",
    "KM = [KMeans(n_clusters=k).fit(X) for k in K]\n",
    "centroids = [k.cluster_centers_ for k in KM]\n",
    "\n",
    "D_k = [cdist(X, centrds, 'euclidean') for centrds in centroids]\n",
    "\n",
    "cIdx = [np.argmin(D, axis=1) for D in D_k]\n",
    "dist = [np.min(D, axis=1) for D in D_k]\n",
    "avgWithinSS = [sum(d) / X.shape[0] for d in dist]\n",
    "\n",
    "# Total within sum of square\n",
    "wcss = [sum(d**2) for d in dist]\n",
    "tss = sum(pdist(X)**2 / X.shape[0])\n",
    "bss = tss - wcss\n",
    "\n",
    "# Elbow curve - Avg. within cluster sum of squares\n",
    "fig = plt.figure()\n",
    "ax = fig.add_subplot(111)\n",
    "ax.plot(K, avgWithinSS, 'b*-')\n",
    "plt.title('Elbow Point - Avg. within Cluster Sum of Squares')\n",
    "plt.grid(True)\n",
    "plt.xlabel('Number of clusters')\n",
    "plt.ylabel('Average within-cluster sum of squares')\n",
    "plt.show()"
   ]
  },
  {
   "cell_type": "markdown",
   "metadata": {},
   "source": [
    "From the elbow plot, it seems that at the value of three, the slope changes drastically. Here,\n",
    "we can select the optimal k-value as three."
   ]
  },
  {
   "cell_type": "code",
   "execution_count": 49,
   "metadata": {},
   "outputs": [
    {
     "data": {
      "image/png": "[encoded data removed]",
      "text/plain": [
       "<Figure size 432x288 with 1 Axes>"
      ]
     },
     "metadata": {},
     "output_type": "display_data"
    }
   ],
   "source": [
    "# elbow curve - percentage of variance explained\n",
    "\n",
    "fig = plt.figure()\n",
    "ax = fig.add_subplot(111)\n",
    "ax.plot(K, bss/tss*100, 'b*-')\n",
    "plt.grid(True)\n",
    "plt.title('Elbow Point - Percent of Variance Explained')\n",
    "plt.xlabel('Number of clusters')\n",
    "plt.ylabel('Percent of Variance Explained')\n",
    "plt.show()"
   ]
  },
  {
   "cell_type": "markdown",
   "metadata": {},
   "source": [
    "Last but not least, the total percentage of variance explained value should be greater than 80\n",
    "percent to decide the optimal number of clusters. Even here, a k-value of three seems to\n",
    "give a decent value of total variance explained. Hence, we can conclude from all the\n",
    "preceding metrics (silhouette, average within cluster variance, and total variance\n",
    "explained), that three clusters are ideal."
   ]
  },
  {
   "cell_type": "code",
   "execution_count": 10,
   "metadata": {},
   "outputs": [],
   "source": [
    "# References and credits to\n",
    "# Statistics for Machine Learning\n",
    "# dataset from: https://archive.ics.uci.edu/ml/datasets/iris\n",
    "# https://www.datascience.com/blog/k-means-clustering"
   ]
  }
 ],
 "metadata": {
  "kernelspec": {
   "display_name": "Python 3",
   "language": "python",
   "name": "python3"
  },
  "language_info": {
   "codemirror_mode": {
    "name": "ipython",
    "version": 3
   },
   "file_extension": ".py",
   "mimetype": "text/x-python",
   "name": "python",
   "nbconvert_exporter": "python",
   "pygments_lexer": "ipython3",
   "version": "3.6.4"
  }
 },
 "nbformat": 4,
 "nbformat_minor": 2
}
