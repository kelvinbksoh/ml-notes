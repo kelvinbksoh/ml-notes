{
 "cells": [
  {
   "cell_type": "markdown",
   "metadata": {},
   "source": [
    "## Recommendation engine application on movie lens data"
   ]
  },
  {
   "cell_type": "code",
   "execution_count": 1,
   "metadata": {},
   "outputs": [],
   "source": [
    "# https://grouplens.org/datasets/movielens/"
   ]
  },
  {
   "cell_type": "code",
   "execution_count": 2,
   "metadata": {},
   "outputs": [],
   "source": [
    "import pandas as pd\n",
    "import numpy as np\n",
    "import matplotlib.pyplot as plt"
   ]
  },
  {
   "cell_type": "code",
   "execution_count": 3,
   "metadata": {},
   "outputs": [],
   "source": [
    "ratings = pd.read_csv('../dataset/ml-latest-small/ml-latest-small/ratings.csv')"
   ]
  },
  {
   "cell_type": "code",
   "execution_count": 4,
   "metadata": {},
   "outputs": [
    {
     "data": {
      "text/html": [
       "<div>\n",
       "<style scoped>\n",
       "    .dataframe tbody tr th:only-of-type {\n",
       "        vertical-align: middle;\n",
       "    }\n",
       "\n",
       "    .dataframe tbody tr th {\n",
       "        vertical-align: top;\n",
       "    }\n",
       "\n",
       "    .dataframe thead th {\n",
       "        text-align: right;\n",
       "    }\n",
       "</style>\n",
       "<table border=\"1\" class=\"dataframe\">\n",
       "  <thead>\n",
       "    <tr style=\"text-align: right;\">\n",
       "      <th></th>\n",
       "      <th>userId</th>\n",
       "      <th>movieId</th>\n",
       "      <th>rating</th>\n",
       "      <th>timestamp</th>\n",
       "    </tr>\n",
       "  </thead>\n",
       "  <tbody>\n",
       "    <tr>\n",
       "      <th>0</th>\n",
       "      <td>1</td>\n",
       "      <td>31</td>\n",
       "      <td>2.5</td>\n",
       "      <td>1260759144</td>\n",
       "    </tr>\n",
       "    <tr>\n",
       "      <th>1</th>\n",
       "      <td>1</td>\n",
       "      <td>1029</td>\n",
       "      <td>3.0</td>\n",
       "      <td>1260759179</td>\n",
       "    </tr>\n",
       "    <tr>\n",
       "      <th>2</th>\n",
       "      <td>1</td>\n",
       "      <td>1061</td>\n",
       "      <td>3.0</td>\n",
       "      <td>1260759182</td>\n",
       "    </tr>\n",
       "    <tr>\n",
       "      <th>3</th>\n",
       "      <td>1</td>\n",
       "      <td>1129</td>\n",
       "      <td>2.0</td>\n",
       "      <td>1260759185</td>\n",
       "    </tr>\n",
       "    <tr>\n",
       "      <th>4</th>\n",
       "      <td>1</td>\n",
       "      <td>1172</td>\n",
       "      <td>4.0</td>\n",
       "      <td>1260759205</td>\n",
       "    </tr>\n",
       "  </tbody>\n",
       "</table>\n",
       "</div>"
      ],
      "text/plain": [
       "   userId  movieId  rating   timestamp\n",
       "0       1       31     2.5  1260759144\n",
       "1       1     1029     3.0  1260759179\n",
       "2       1     1061     3.0  1260759182\n",
       "3       1     1129     2.0  1260759185\n",
       "4       1     1172     4.0  1260759205"
      ]
     },
     "execution_count": 4,
     "metadata": {},
     "output_type": "execute_result"
    }
   ],
   "source": [
    "ratings.head()"
   ]
  },
  {
   "cell_type": "code",
   "execution_count": 5,
   "metadata": {},
   "outputs": [],
   "source": [
    "movies = pd.read_csv('../dataset/ml-latest-small/ml-latest-small/movies.csv')"
   ]
  },
  {
   "cell_type": "code",
   "execution_count": 6,
   "metadata": {},
   "outputs": [
    {
     "data": {
      "text/html": [
       "<div>\n",
       "<style scoped>\n",
       "    .dataframe tbody tr th:only-of-type {\n",
       "        vertical-align: middle;\n",
       "    }\n",
       "\n",
       "    .dataframe tbody tr th {\n",
       "        vertical-align: top;\n",
       "    }\n",
       "\n",
       "    .dataframe thead th {\n",
       "        text-align: right;\n",
       "    }\n",
       "</style>\n",
       "<table border=\"1\" class=\"dataframe\">\n",
       "  <thead>\n",
       "    <tr style=\"text-align: right;\">\n",
       "      <th></th>\n",
       "      <th>movieId</th>\n",
       "      <th>title</th>\n",
       "      <th>genres</th>\n",
       "    </tr>\n",
       "  </thead>\n",
       "  <tbody>\n",
       "    <tr>\n",
       "      <th>0</th>\n",
       "      <td>1</td>\n",
       "      <td>Toy Story (1995)</td>\n",
       "      <td>Adventure|Animation|Children|Comedy|Fantasy</td>\n",
       "    </tr>\n",
       "    <tr>\n",
       "      <th>1</th>\n",
       "      <td>2</td>\n",
       "      <td>Jumanji (1995)</td>\n",
       "      <td>Adventure|Children|Fantasy</td>\n",
       "    </tr>\n",
       "    <tr>\n",
       "      <th>2</th>\n",
       "      <td>3</td>\n",
       "      <td>Grumpier Old Men (1995)</td>\n",
       "      <td>Comedy|Romance</td>\n",
       "    </tr>\n",
       "    <tr>\n",
       "      <th>3</th>\n",
       "      <td>4</td>\n",
       "      <td>Waiting to Exhale (1995)</td>\n",
       "      <td>Comedy|Drama|Romance</td>\n",
       "    </tr>\n",
       "    <tr>\n",
       "      <th>4</th>\n",
       "      <td>5</td>\n",
       "      <td>Father of the Bride Part II (1995)</td>\n",
       "      <td>Comedy</td>\n",
       "    </tr>\n",
       "  </tbody>\n",
       "</table>\n",
       "</div>"
      ],
      "text/plain": [
       "   movieId                               title  \\\n",
       "0        1                    Toy Story (1995)   \n",
       "1        2                      Jumanji (1995)   \n",
       "2        3             Grumpier Old Men (1995)   \n",
       "3        4            Waiting to Exhale (1995)   \n",
       "4        5  Father of the Bride Part II (1995)   \n",
       "\n",
       "                                        genres  \n",
       "0  Adventure|Animation|Children|Comedy|Fantasy  \n",
       "1                   Adventure|Children|Fantasy  \n",
       "2                               Comedy|Romance  \n",
       "3                         Comedy|Drama|Romance  \n",
       "4                                       Comedy  "
      ]
     },
     "execution_count": 6,
     "metadata": {},
     "output_type": "execute_result"
    }
   ],
   "source": [
    "movies.head()"
   ]
  },
  {
   "cell_type": "code",
   "execution_count": 7,
   "metadata": {},
   "outputs": [],
   "source": [
    "# Combining movie ratings & movie names\n",
    "ratings = pd.merge(ratings[['userId', 'movieId', 'rating']], \n",
    "                  movies[['movieId', 'title']], how='left', left_on='movieId', right_on='movieId')"
   ]
  },
  {
   "cell_type": "code",
   "execution_count": 8,
   "metadata": {},
   "outputs": [
    {
     "data": {
      "text/html": [
       "<div>\n",
       "<style scoped>\n",
       "    .dataframe tbody tr th:only-of-type {\n",
       "        vertical-align: middle;\n",
       "    }\n",
       "\n",
       "    .dataframe tbody tr th {\n",
       "        vertical-align: top;\n",
       "    }\n",
       "\n",
       "    .dataframe thead th {\n",
       "        text-align: right;\n",
       "    }\n",
       "</style>\n",
       "<table border=\"1\" class=\"dataframe\">\n",
       "  <thead>\n",
       "    <tr style=\"text-align: right;\">\n",
       "      <th></th>\n",
       "      <th>userId</th>\n",
       "      <th>movieId</th>\n",
       "      <th>rating</th>\n",
       "      <th>title</th>\n",
       "    </tr>\n",
       "  </thead>\n",
       "  <tbody>\n",
       "    <tr>\n",
       "      <th>0</th>\n",
       "      <td>1</td>\n",
       "      <td>31</td>\n",
       "      <td>2.5</td>\n",
       "      <td>Dangerous Minds (1995)</td>\n",
       "    </tr>\n",
       "    <tr>\n",
       "      <th>1</th>\n",
       "      <td>1</td>\n",
       "      <td>1029</td>\n",
       "      <td>3.0</td>\n",
       "      <td>Dumbo (1941)</td>\n",
       "    </tr>\n",
       "    <tr>\n",
       "      <th>2</th>\n",
       "      <td>1</td>\n",
       "      <td>1061</td>\n",
       "      <td>3.0</td>\n",
       "      <td>Sleepers (1996)</td>\n",
       "    </tr>\n",
       "    <tr>\n",
       "      <th>3</th>\n",
       "      <td>1</td>\n",
       "      <td>1129</td>\n",
       "      <td>2.0</td>\n",
       "      <td>Escape from New York (1981)</td>\n",
       "    </tr>\n",
       "    <tr>\n",
       "      <th>4</th>\n",
       "      <td>1</td>\n",
       "      <td>1172</td>\n",
       "      <td>4.0</td>\n",
       "      <td>Cinema Paradiso (Nuovo cinema Paradiso) (1989)</td>\n",
       "    </tr>\n",
       "  </tbody>\n",
       "</table>\n",
       "</div>"
      ],
      "text/plain": [
       "   userId  movieId  rating                                           title\n",
       "0       1       31     2.5                          Dangerous Minds (1995)\n",
       "1       1     1029     3.0                                    Dumbo (1941)\n",
       "2       1     1061     3.0                                 Sleepers (1996)\n",
       "3       1     1129     2.0                     Escape from New York (1981)\n",
       "4       1     1172     4.0  Cinema Paradiso (Nuovo cinema Paradiso) (1989)"
      ]
     },
     "execution_count": 8,
     "metadata": {},
     "output_type": "execute_result"
    }
   ],
   "source": [
    "ratings.head()"
   ]
  },
  {
   "cell_type": "markdown",
   "metadata": {},
   "source": [
    "The following code converts the data into a matrix form where rows are unique user IDs\n",
    "and columns are unique movie IDs, and the values in the matrix are ratings provided by\n",
    "users. This matrix is majorly sparse in nature, hence we are replacing NAN values with\n",
    "zeros to enable calculations. The entire computation in later sections of the code is based on\n",
    "this matrix:"
   ]
  },
  {
   "cell_type": "code",
   "execution_count": 22,
   "metadata": {},
   "outputs": [],
   "source": [
    "rp = ratings.pivot_table(columns = ['movieId'], index=['userId'], values='rating')\n",
    "rp = rp.fillna(0)"
   ]
  },
  {
   "cell_type": "markdown",
   "metadata": {},
   "source": [
    "A pandas DataFrame is built on top of a NumPy array, hence it would be advisable to use a\n",
    "NumPy array instead of a pandas DataFrame; a little conversion like this saves huge\n",
    "computational overheads while calculating a user-user similarity matrix or item-item\n",
    "similarity matrix."
   ]
  },
  {
   "cell_type": "code",
   "execution_count": 23,
   "metadata": {},
   "outputs": [],
   "source": [
    "# Converting pandas DataFrame to Numpy for faster execution in loops etc\n",
    "rp_mat = rp.as_matrix()"
   ]
  },
  {
   "cell_type": "code",
   "execution_count": 24,
   "metadata": {},
   "outputs": [
    {
     "data": {
      "text/plain": [
       "numpy.ndarray"
      ]
     },
     "execution_count": 24,
     "metadata": {},
     "output_type": "execute_result"
    }
   ],
   "source": [
    "type(rp_mat)"
   ]
  },
  {
   "cell_type": "markdown",
   "metadata": {},
   "source": [
    "Sample cosine similarity is illustrated with the following code for dummy values. But, the\n",
    "methodology remains the same for content-based filtering:"
   ]
  },
  {
   "cell_type": "code",
   "execution_count": 25,
   "metadata": {},
   "outputs": [
    {
     "name": "stdout",
     "output_type": "stream",
     "text": [
      "Cosine similarity between A and B is 0.8216\n"
     ]
    }
   ],
   "source": [
    "from scipy.spatial.distance import cosine\n",
    "# The consine of the angle between them is about 0.822.\n",
    "a = np.asarray([2, 1, 0, 2, 0, 1, 1, 1])\n",
    "b = np.asarray([2, 1, 1, 1, 1, 0, 1, 1])\n",
    "print('Cosine similarity between A and B is %0.4f' % (1-cosine(a,b)))"
   ]
  },
  {
   "cell_type": "markdown",
   "metadata": {},
   "source": [
    "### User-user similarity matrix"
   ]
  },
  {
   "cell_type": "markdown",
   "metadata": {},
   "source": [
    "The following code illustrates user-user similarity matrix computation based on complete\n",
    "brute force calculations (using a for loop inside another for loop with time complexity of\n",
    "On2). There are many other efficient methods to compute the same, but for ease of\n",
    "understanding for readers, here we have provided one that is as simple as possible:"
   ]
  },
  {
   "cell_type": "code",
   "execution_count": 53,
   "metadata": {},
   "outputs": [
    {
     "data": {
      "text/plain": [
       "range(0, 671)"
      ]
     },
     "execution_count": 53,
     "metadata": {},
     "output_type": "execute_result"
    }
   ],
   "source": [
    "range(m)"
   ]
  },
  {
   "cell_type": "code",
   "execution_count": 26,
   "metadata": {},
   "outputs": [],
   "source": [
    "m, n = rp.shape\n",
    "# User similarity matrix\n",
    "mat_users = np.zeros((m, m))\n",
    "\n",
    "for i in range(m):\n",
    "    for j in range(m):\n",
    "        if i != j:\n",
    "            mat_users[i][j] = (1 - cosine(rp_mat[i, :], rp_mat[j, :]))\n",
    "        else:\n",
    "            mat_users[i][j] = 0\n",
    "pd_users = pd.DataFrame(mat_users, index=rp.index, columns=rp.index)"
   ]
  },
  {
   "cell_type": "markdown",
   "metadata": {},
   "source": [
    "The following custom function takes any user ID and the number of similar users to be\n",
    "displayed as an input and returns the similar users according to their relevant cosine\n",
    "similarity score:"
   ]
  },
  {
   "cell_type": "code",
   "execution_count": 57,
   "metadata": {},
   "outputs": [
    {
     "name": "stdout",
     "output_type": "stream",
     "text": [
      "Similar users as user: 17\n",
      "           score\n",
      "userId          \n",
      "596     0.379128\n",
      "23      0.374641\n",
      "355     0.329605\n",
      "430     0.328872\n",
      "608     0.319770\n",
      "509     0.319313\n",
      "105     0.309477\n",
      "457     0.308201\n",
      "15      0.307179\n",
      "461     0.299035\n"
     ]
    }
   ],
   "source": [
    "# Finding similar users\n",
    "def topn_simuusers(uid=16, n=5):\n",
    "    users = pd_users.loc[uid, :].sort_values(ascending=False)\n",
    "    topn_users = users.iloc[:n,]\n",
    "    topn_users = topn_users.rename('score')\n",
    "    print('Similar users as user:', uid)\n",
    "    return pd.DataFrame(topn_users)\n",
    "print(topn_simuusers(uid=17, n=10))"
   ]
  },
  {
   "cell_type": "markdown",
   "metadata": {},
   "source": [
    "Our task is not complete by just looking into the similar users themselves; rather, we would\n",
    "like to see what the most highly rated movies of any particular user are too. The following\n",
    "function provides that information for any given user and their most preferred movies:"
   ]
  },
  {
   "cell_type": "code",
   "execution_count": 60,
   "metadata": {},
   "outputs": [
    {
     "name": "stdout",
     "output_type": "stream",
     "text": [
      "Top 10 movie ratings of user: 596\n",
      "       userId  movieId  rating                                   title\n",
      "89645     596     4262     5.0                         Scarface (1983)\n",
      "89732     596     6874     5.0                Kill Bill: Vol. 1 (2003)\n",
      "89353     596      194     5.0                            Smoke (1995)\n",
      "89546     596     2329     5.0               American History X (1998)\n",
      "89453     596     1193     5.0  One Flew Over the Cuckoo's Nest (1975)\n",
      "89751     596     8132     5.0                        Gladiator (1992)\n",
      "89579     596     2858     5.0                  American Beauty (1999)\n",
      "89365     596      296     5.0                     Pulp Fiction (1994)\n",
      "89587     596     2959     5.0                       Fight Club (1999)\n",
      "89368     596      318     5.0        Shawshank Redemption, The (1994)\n"
     ]
    }
   ],
   "source": [
    "# Finding most rated movies of a user\n",
    "def topn_movieratings(uid = 355, n_ratings=10):\n",
    "    uid_ratings = ratings.loc[ratings['userId'] == uid]\n",
    "    uid_ratings = uid_ratings.sort_values(by='rating', ascending=[False])\n",
    "    print('Top', n_ratings, 'movie ratings of user:', uid)\n",
    "    return uid_ratings.iloc[:n_ratings,]\n",
    "print(topn_movieratings(uid=596, n_ratings=10))"
   ]
  },
  {
   "cell_type": "markdown",
   "metadata": {},
   "source": [
    "The following screenshot displays the most rated movies of user 596 and their titles so that\n",
    "we will get an idea which movies that particular user rated most highly:"
   ]
  },
  {
   "cell_type": "markdown",
   "metadata": {},
   "source": [
    "### Movie-movie similarity matrix\n",
    "\n",
    "Previous sections of the code discussed content-based user-user similarity, whereas in the\n",
    "following section, we will be talking about a pure movie-movie similarity relation matrix,\n",
    "so that we will mine a bit deeper into how close each movie is to other movies.\n",
    "\n",
    "In the following code, time functions are utilized for computing the movie-movie similarity\n",
    "matrix. It took a good 30 minutes on my i7 computer. It may take even more time on\n",
    "moderate computers, hence I have stored the output result and read back for convenience;\n",
    "readers are encouraged to run it and check for themselves though:"
   ]
  },
  {
   "cell_type": "code",
   "execution_count": 62,
   "metadata": {},
   "outputs": [
    {
     "data": {
      "text/plain": [
       "(9066, 9066)"
      ]
     },
     "execution_count": 62,
     "metadata": {},
     "output_type": "execute_result"
    }
   ],
   "source": [
    "np.zeros((n, n)).shape"
   ]
  },
  {
   "cell_type": "code",
   "execution_count": 64,
   "metadata": {},
   "outputs": [
    {
     "data": {
      "text/html": [
       "<div>\n",
       "<style scoped>\n",
       "    .dataframe tbody tr th:only-of-type {\n",
       "        vertical-align: middle;\n",
       "    }\n",
       "\n",
       "    .dataframe tbody tr th {\n",
       "        vertical-align: top;\n",
       "    }\n",
       "\n",
       "    .dataframe thead th {\n",
       "        text-align: right;\n",
       "    }\n",
       "</style>\n",
       "<table border=\"1\" class=\"dataframe\">\n",
       "  <thead>\n",
       "    <tr style=\"text-align: right;\">\n",
       "      <th>movieId</th>\n",
       "      <th>1</th>\n",
       "      <th>2</th>\n",
       "      <th>3</th>\n",
       "      <th>4</th>\n",
       "      <th>5</th>\n",
       "      <th>6</th>\n",
       "      <th>7</th>\n",
       "      <th>8</th>\n",
       "      <th>9</th>\n",
       "      <th>10</th>\n",
       "      <th>...</th>\n",
       "      <th>161084</th>\n",
       "      <th>161155</th>\n",
       "      <th>161594</th>\n",
       "      <th>161830</th>\n",
       "      <th>161918</th>\n",
       "      <th>161944</th>\n",
       "      <th>162376</th>\n",
       "      <th>162542</th>\n",
       "      <th>162672</th>\n",
       "      <th>163949</th>\n",
       "    </tr>\n",
       "    <tr>\n",
       "      <th>userId</th>\n",
       "      <th></th>\n",
       "      <th></th>\n",
       "      <th></th>\n",
       "      <th></th>\n",
       "      <th></th>\n",
       "      <th></th>\n",
       "      <th></th>\n",
       "      <th></th>\n",
       "      <th></th>\n",
       "      <th></th>\n",
       "      <th></th>\n",
       "      <th></th>\n",
       "      <th></th>\n",
       "      <th></th>\n",
       "      <th></th>\n",
       "      <th></th>\n",
       "      <th></th>\n",
       "      <th></th>\n",
       "      <th></th>\n",
       "      <th></th>\n",
       "      <th></th>\n",
       "    </tr>\n",
       "  </thead>\n",
       "  <tbody>\n",
       "    <tr>\n",
       "      <th>1</th>\n",
       "      <td>0.0</td>\n",
       "      <td>0.0</td>\n",
       "      <td>0.0</td>\n",
       "      <td>0.0</td>\n",
       "      <td>0.0</td>\n",
       "      <td>0.0</td>\n",
       "      <td>0.0</td>\n",
       "      <td>0.0</td>\n",
       "      <td>0.0</td>\n",
       "      <td>0.0</td>\n",
       "      <td>...</td>\n",
       "      <td>0.0</td>\n",
       "      <td>0.0</td>\n",
       "      <td>0.0</td>\n",
       "      <td>0.0</td>\n",
       "      <td>0.0</td>\n",
       "      <td>0.0</td>\n",
       "      <td>0.0</td>\n",
       "      <td>0.0</td>\n",
       "      <td>0.0</td>\n",
       "      <td>0.0</td>\n",
       "    </tr>\n",
       "    <tr>\n",
       "      <th>2</th>\n",
       "      <td>0.0</td>\n",
       "      <td>0.0</td>\n",
       "      <td>0.0</td>\n",
       "      <td>0.0</td>\n",
       "      <td>0.0</td>\n",
       "      <td>0.0</td>\n",
       "      <td>0.0</td>\n",
       "      <td>0.0</td>\n",
       "      <td>0.0</td>\n",
       "      <td>4.0</td>\n",
       "      <td>...</td>\n",
       "      <td>0.0</td>\n",
       "      <td>0.0</td>\n",
       "      <td>0.0</td>\n",
       "      <td>0.0</td>\n",
       "      <td>0.0</td>\n",
       "      <td>0.0</td>\n",
       "      <td>0.0</td>\n",
       "      <td>0.0</td>\n",
       "      <td>0.0</td>\n",
       "      <td>0.0</td>\n",
       "    </tr>\n",
       "  </tbody>\n",
       "</table>\n",
       "<p>2 rows × 9066 columns</p>\n",
       "</div>"
      ],
      "text/plain": [
       "movieId  1       2       3       4       5       6       7       8       \\\n",
       "userId                                                                    \n",
       "1           0.0     0.0     0.0     0.0     0.0     0.0     0.0     0.0   \n",
       "2           0.0     0.0     0.0     0.0     0.0     0.0     0.0     0.0   \n",
       "\n",
       "movieId  9       10       ...    161084  161155  161594  161830  161918  \\\n",
       "userId                    ...                                             \n",
       "1           0.0     0.0   ...       0.0     0.0     0.0     0.0     0.0   \n",
       "2           0.0     4.0   ...       0.0     0.0     0.0     0.0     0.0   \n",
       "\n",
       "movieId  161944  162376  162542  162672  163949  \n",
       "userId                                           \n",
       "1           0.0     0.0     0.0     0.0     0.0  \n",
       "2           0.0     0.0     0.0     0.0     0.0  \n",
       "\n",
       "[2 rows x 9066 columns]"
      ]
     },
     "execution_count": 64,
     "metadata": {},
     "output_type": "execute_result"
    }
   ],
   "source": [
    "rp[:2]"
   ]
  },
  {
   "cell_type": "code",
   "execution_count": 65,
   "metadata": {},
   "outputs": [
    {
     "name": "stdout",
     "output_type": "stream",
     "text": [
      "--- 2916.9139189720154 seconds ---\n"
     ]
    }
   ],
   "source": [
    "# Movie similarity matrix\n",
    "import time\n",
    "start_time = time.time()\n",
    "mat_movies = np.zeros((n, n))\n",
    "\n",
    "for i in range(n):\n",
    "    for j in range(n):\n",
    "        if i != j:\n",
    "            mat_movies[i, j] = (1 - cosine(rp_mat[:, i], rp_mat[:, j]))\n",
    "        else:\n",
    "            mat_movies[i, j] = 0\n",
    "print(\"--- %s seconds ---\" % (time.time() - start_time))\n",
    "\n",
    "pd_movies = pd.DataFrame(mat_movies, index = rp.columns, columns = rp.columns)"
   ]
  },
  {
   "cell_type": "code",
   "execution_count": 67,
   "metadata": {},
   "outputs": [],
   "source": [
    "pd_movies.to_csv('pd_movies.csv', sep=',')\n",
    "pd_movies = pd.read_csv('pd_movies.csv', index_col='movieId')"
   ]
  },
  {
   "cell_type": "code",
   "execution_count": 68,
   "metadata": {},
   "outputs": [
    {
     "data": {
      "text/plain": [
       "(9066, 9066)"
      ]
     },
     "execution_count": 68,
     "metadata": {},
     "output_type": "execute_result"
    }
   ],
   "source": [
    "pd_movies.shape"
   ]
  },
  {
   "cell_type": "code",
   "execution_count": 69,
   "metadata": {},
   "outputs": [
    {
     "data": {
      "text/html": [
       "<div>\n",
       "<style scoped>\n",
       "    .dataframe tbody tr th:only-of-type {\n",
       "        vertical-align: middle;\n",
       "    }\n",
       "\n",
       "    .dataframe tbody tr th {\n",
       "        vertical-align: top;\n",
       "    }\n",
       "\n",
       "    .dataframe thead th {\n",
       "        text-align: right;\n",
       "    }\n",
       "</style>\n",
       "<table border=\"1\" class=\"dataframe\">\n",
       "  <thead>\n",
       "    <tr style=\"text-align: right;\">\n",
       "      <th></th>\n",
       "      <th>1</th>\n",
       "      <th>2</th>\n",
       "      <th>3</th>\n",
       "      <th>4</th>\n",
       "      <th>5</th>\n",
       "      <th>6</th>\n",
       "      <th>7</th>\n",
       "      <th>8</th>\n",
       "      <th>9</th>\n",
       "      <th>10</th>\n",
       "      <th>...</th>\n",
       "      <th>161084</th>\n",
       "      <th>161155</th>\n",
       "      <th>161594</th>\n",
       "      <th>161830</th>\n",
       "      <th>161918</th>\n",
       "      <th>161944</th>\n",
       "      <th>162376</th>\n",
       "      <th>162542</th>\n",
       "      <th>162672</th>\n",
       "      <th>163949</th>\n",
       "    </tr>\n",
       "    <tr>\n",
       "      <th>movieId</th>\n",
       "      <th></th>\n",
       "      <th></th>\n",
       "      <th></th>\n",
       "      <th></th>\n",
       "      <th></th>\n",
       "      <th></th>\n",
       "      <th></th>\n",
       "      <th></th>\n",
       "      <th></th>\n",
       "      <th></th>\n",
       "      <th></th>\n",
       "      <th></th>\n",
       "      <th></th>\n",
       "      <th></th>\n",
       "      <th></th>\n",
       "      <th></th>\n",
       "      <th></th>\n",
       "      <th></th>\n",
       "      <th></th>\n",
       "      <th></th>\n",
       "      <th></th>\n",
       "    </tr>\n",
       "  </thead>\n",
       "  <tbody>\n",
       "    <tr>\n",
       "      <th>1</th>\n",
       "      <td>0.000000</td>\n",
       "      <td>0.394511</td>\n",
       "      <td>0.306516</td>\n",
       "      <td>0.133614</td>\n",
       "      <td>0.245102</td>\n",
       "      <td>0.377086</td>\n",
       "      <td>0.278629</td>\n",
       "      <td>0.063031</td>\n",
       "      <td>0.117499</td>\n",
       "      <td>0.310689</td>\n",
       "      <td>...</td>\n",
       "      <td>0.055829</td>\n",
       "      <td>0.031902</td>\n",
       "      <td>0.079755</td>\n",
       "      <td>0.079755</td>\n",
       "      <td>0.079755</td>\n",
       "      <td>0.079755</td>\n",
       "      <td>0.079755</td>\n",
       "      <td>0.0</td>\n",
       "      <td>0.0</td>\n",
       "      <td>0.055829</td>\n",
       "    </tr>\n",
       "    <tr>\n",
       "      <th>2</th>\n",
       "      <td>0.394511</td>\n",
       "      <td>0.000000</td>\n",
       "      <td>0.217492</td>\n",
       "      <td>0.164651</td>\n",
       "      <td>0.278476</td>\n",
       "      <td>0.222003</td>\n",
       "      <td>0.207299</td>\n",
       "      <td>0.223524</td>\n",
       "      <td>0.113669</td>\n",
       "      <td>0.418124</td>\n",
       "      <td>...</td>\n",
       "      <td>0.000000</td>\n",
       "      <td>0.055038</td>\n",
       "      <td>0.068797</td>\n",
       "      <td>0.082557</td>\n",
       "      <td>0.082557</td>\n",
       "      <td>0.137594</td>\n",
       "      <td>0.068797</td>\n",
       "      <td>0.0</td>\n",
       "      <td>0.0</td>\n",
       "      <td>0.000000</td>\n",
       "    </tr>\n",
       "  </tbody>\n",
       "</table>\n",
       "<p>2 rows × 9066 columns</p>\n",
       "</div>"
      ],
      "text/plain": [
       "                1         2         3         4         5         6         7  \\\n",
       "movieId                                                                         \n",
       "1        0.000000  0.394511  0.306516  0.133614  0.245102  0.377086  0.278629   \n",
       "2        0.394511  0.000000  0.217492  0.164651  0.278476  0.222003  0.207299   \n",
       "\n",
       "                8         9        10    ...       161084    161155    161594  \\\n",
       "movieId                                  ...                                    \n",
       "1        0.063031  0.117499  0.310689    ...     0.055829  0.031902  0.079755   \n",
       "2        0.223524  0.113669  0.418124    ...     0.000000  0.055038  0.068797   \n",
       "\n",
       "           161830    161918    161944    162376  162542  162672    163949  \n",
       "movieId                                                                    \n",
       "1        0.079755  0.079755  0.079755  0.079755     0.0     0.0  0.055829  \n",
       "2        0.082557  0.082557  0.137594  0.068797     0.0     0.0  0.000000  \n",
       "\n",
       "[2 rows x 9066 columns]"
      ]
     },
     "execution_count": 69,
     "metadata": {},
     "output_type": "execute_result"
    }
   ],
   "source": [
    "pd_movies[:2]"
   ]
  },
  {
   "cell_type": "code",
   "execution_count": 70,
   "metadata": {},
   "outputs": [
    {
     "name": "stdout",
     "output_type": "stream",
     "text": [
      "Movies simlar to movie id: 589 , Terminator 2: Judgment Day (1991) ,are\n",
      "         589  movieId                                              title\n",
      "0   0.702256      480                               Jurassic Park (1993)\n",
      "1   0.636392     1240                             Terminator, The (1984)\n",
      "2   0.633428      110                                  Braveheart (1995)\n",
      "3   0.619415      356                                Forrest Gump (1994)\n",
      "4   0.614814      377                                       Speed (1994)\n",
      "5   0.605887      380                                   True Lies (1994)\n",
      "6   0.604555      457                               Fugitive, The (1993)\n",
      "7   0.591071      593                   Silence of the Lambs, The (1991)\n",
      "8   0.579325      367                                   Mask, The (1994)\n",
      "9   0.577299     1036                                    Die Hard (1988)\n",
      "10  0.576275      592                                      Batman (1989)\n",
      "11  0.568341      296                                Pulp Fiction (1994)\n",
      "12  0.564779     1196  Star Wars: Episode V - The Empire Strikes Back...\n",
      "13  0.562415      260          Star Wars: Episode IV - A New Hope (1977)\n",
      "14  0.553626       47                        Seven (a.k.a. Se7en) (1995)\n"
     ]
    }
   ],
   "source": [
    "# Finding similar movies\n",
    "def topn_simovies(mid = 588, n = 15):\n",
    "    mid_ratings = pd_movies.loc[mid, :].sort_values(ascending=False)\n",
    "    topn_movies = pd.DataFrame(mid_ratings.iloc[:n,])\n",
    "    topn_movies['index1'] = topn_movies.index\n",
    "    topn_movies['index1'] = topn_movies['index1'].astype('int64')\n",
    "    topn_movies = pd.merge(topn_movies, movies[['movieId', 'title']],\n",
    "                          how='left', left_on='index1', right_on='movieId')\n",
    "    print('Movies simlar to movie id:', mid, ',', \n",
    "          movies['title'][movies['movieId'] == mid].to_string(index=False), ',are')\n",
    "    del topn_movies['index1']\n",
    "    return topn_movies\n",
    "\n",
    "print(topn_simovies(mid=589, n=15))"
   ]
  },
  {
   "cell_type": "markdown",
   "metadata": {},
   "source": [
    "After carefully examining the following results, the movies which are similar to\n",
    "Terminator 2 are Jurassic Park, Terminator, The, Braveheart, Forrest Gump,\n",
    "Speed, and so on; all these movies fall under the action category actually. The results seem\n",
    "to be sound enough for me to select my next movie to watch from this analysis! Contentbased\n",
    "filtering seems to be working!"
   ]
  },
  {
   "cell_type": "markdown",
   "metadata": {},
   "source": [
    "### Collaborative filtering using ALS"
   ]
  },
  {
   "cell_type": "code",
   "execution_count": 127,
   "metadata": {},
   "outputs": [
    {
     "data": {
      "text/html": [
       "<div>\n",
       "<style scoped>\n",
       "    .dataframe tbody tr th:only-of-type {\n",
       "        vertical-align: middle;\n",
       "    }\n",
       "\n",
       "    .dataframe tbody tr th {\n",
       "        vertical-align: top;\n",
       "    }\n",
       "\n",
       "    .dataframe thead th {\n",
       "        text-align: right;\n",
       "    }\n",
       "</style>\n",
       "<table border=\"1\" class=\"dataframe\">\n",
       "  <thead>\n",
       "    <tr style=\"text-align: right;\">\n",
       "      <th></th>\n",
       "      <th>userId</th>\n",
       "      <th>movieId</th>\n",
       "      <th>rating</th>\n",
       "      <th>title</th>\n",
       "    </tr>\n",
       "  </thead>\n",
       "  <tbody>\n",
       "    <tr>\n",
       "      <th>0</th>\n",
       "      <td>1</td>\n",
       "      <td>31</td>\n",
       "      <td>2.5</td>\n",
       "      <td>Dangerous Minds (1995)</td>\n",
       "    </tr>\n",
       "    <tr>\n",
       "      <th>1</th>\n",
       "      <td>1</td>\n",
       "      <td>1029</td>\n",
       "      <td>3.0</td>\n",
       "      <td>Dumbo (1941)</td>\n",
       "    </tr>\n",
       "    <tr>\n",
       "      <th>2</th>\n",
       "      <td>1</td>\n",
       "      <td>1061</td>\n",
       "      <td>3.0</td>\n",
       "      <td>Sleepers (1996)</td>\n",
       "    </tr>\n",
       "    <tr>\n",
       "      <th>3</th>\n",
       "      <td>1</td>\n",
       "      <td>1129</td>\n",
       "      <td>2.0</td>\n",
       "      <td>Escape from New York (1981)</td>\n",
       "    </tr>\n",
       "    <tr>\n",
       "      <th>4</th>\n",
       "      <td>1</td>\n",
       "      <td>1172</td>\n",
       "      <td>4.0</td>\n",
       "      <td>Cinema Paradiso (Nuovo cinema Paradiso) (1989)</td>\n",
       "    </tr>\n",
       "  </tbody>\n",
       "</table>\n",
       "</div>"
      ],
      "text/plain": [
       "   userId  movieId  rating                                           title\n",
       "0       1       31     2.5                          Dangerous Minds (1995)\n",
       "1       1     1029     3.0                                    Dumbo (1941)\n",
       "2       1     1061     3.0                                 Sleepers (1996)\n",
       "3       1     1129     2.0                     Escape from New York (1981)\n",
       "4       1     1172     4.0  Cinema Paradiso (Nuovo cinema Paradiso) (1989)"
      ]
     },
     "execution_count": 127,
     "metadata": {},
     "output_type": "execute_result"
    }
   ],
   "source": [
    "rating = pd.read_csv('../dataset/ml-latest-small/ml-latest-small/ratings.csv')\n",
    "ratings.head()"
   ]
  },
  {
   "cell_type": "code",
   "execution_count": 128,
   "metadata": {},
   "outputs": [
    {
     "data": {
      "text/html": [
       "<div>\n",
       "<style scoped>\n",
       "    .dataframe tbody tr th:only-of-type {\n",
       "        vertical-align: middle;\n",
       "    }\n",
       "\n",
       "    .dataframe tbody tr th {\n",
       "        vertical-align: top;\n",
       "    }\n",
       "\n",
       "    .dataframe thead th {\n",
       "        text-align: right;\n",
       "    }\n",
       "</style>\n",
       "<table border=\"1\" class=\"dataframe\">\n",
       "  <thead>\n",
       "    <tr style=\"text-align: right;\">\n",
       "      <th></th>\n",
       "      <th>movieId</th>\n",
       "      <th>title</th>\n",
       "      <th>genres</th>\n",
       "    </tr>\n",
       "  </thead>\n",
       "  <tbody>\n",
       "    <tr>\n",
       "      <th>0</th>\n",
       "      <td>1</td>\n",
       "      <td>Toy Story (1995)</td>\n",
       "      <td>Adventure|Animation|Children|Comedy|Fantasy</td>\n",
       "    </tr>\n",
       "    <tr>\n",
       "      <th>1</th>\n",
       "      <td>2</td>\n",
       "      <td>Jumanji (1995)</td>\n",
       "      <td>Adventure|Children|Fantasy</td>\n",
       "    </tr>\n",
       "    <tr>\n",
       "      <th>2</th>\n",
       "      <td>3</td>\n",
       "      <td>Grumpier Old Men (1995)</td>\n",
       "      <td>Comedy|Romance</td>\n",
       "    </tr>\n",
       "    <tr>\n",
       "      <th>3</th>\n",
       "      <td>4</td>\n",
       "      <td>Waiting to Exhale (1995)</td>\n",
       "      <td>Comedy|Drama|Romance</td>\n",
       "    </tr>\n",
       "    <tr>\n",
       "      <th>4</th>\n",
       "      <td>5</td>\n",
       "      <td>Father of the Bride Part II (1995)</td>\n",
       "      <td>Comedy</td>\n",
       "    </tr>\n",
       "  </tbody>\n",
       "</table>\n",
       "</div>"
      ],
      "text/plain": [
       "   movieId                               title  \\\n",
       "0        1                    Toy Story (1995)   \n",
       "1        2                      Jumanji (1995)   \n",
       "2        3             Grumpier Old Men (1995)   \n",
       "3        4            Waiting to Exhale (1995)   \n",
       "4        5  Father of the Bride Part II (1995)   \n",
       "\n",
       "                                        genres  \n",
       "0  Adventure|Animation|Children|Comedy|Fantasy  \n",
       "1                   Adventure|Children|Fantasy  \n",
       "2                               Comedy|Romance  \n",
       "3                         Comedy|Drama|Romance  \n",
       "4                                       Comedy  "
      ]
     },
     "execution_count": 128,
     "metadata": {},
     "output_type": "execute_result"
    }
   ],
   "source": [
    "movies = pd.read_csv('../dataset/ml-latest-small/ml-latest-small/movies.csv')\n",
    "movies.head()"
   ]
  },
  {
   "cell_type": "code",
   "execution_count": 129,
   "metadata": {},
   "outputs": [],
   "source": [
    "rp = ratings.pivot_table(columns=['movieId'], index=['userId'], values='rating')\n",
    "rp = rp.fillna(0)"
   ]
  },
  {
   "cell_type": "code",
   "execution_count": 130,
   "metadata": {},
   "outputs": [
    {
     "name": "stdout",
     "output_type": "stream",
     "text": [
      "\n",
      "Shape of Original Sparse Matrix (671, 9066)\n"
     ]
    }
   ],
   "source": [
    "A = rp.values\n",
    "print('\\nShape of Original Sparse Matrix', A.shape)"
   ]
  },
  {
   "cell_type": "markdown",
   "metadata": {},
   "source": [
    "The following W matrix actually has the same dimension as the original ratings matrix\n",
    "(matrix A) but only has values of 0 or 1 whenever a user provided a rating to any movie\n",
    "(minimum valid rating for any movie is 0.5, with the maximum rating as 5); we needed this\n",
    "type of matrix in calculating errors and so on (we will see its application in a later section of\n",
    "the code) as this way is more convenient to minimize the errors:"
   ]
  },
  {
   "cell_type": "code",
   "execution_count": 131,
   "metadata": {},
   "outputs": [],
   "source": [
    "W = A > 0.5\n",
    "W[W == True] = 1\n",
    "W[W == False] = 0\n",
    "W = W.astype(np.float64, copy=False)"
   ]
  },
  {
   "cell_type": "code",
   "execution_count": 132,
   "metadata": {},
   "outputs": [
    {
     "data": {
      "text/plain": [
       "array([ True, False, False, ..., False, False, False])"
      ]
     },
     "execution_count": 132,
     "metadata": {},
     "output_type": "execute_result"
    }
   ],
   "source": [
    "A[-1] > 0.5"
   ]
  },
  {
   "cell_type": "markdown",
   "metadata": {},
   "source": [
    "Similarly, another matrix, W_pred, is also needed to provide recommendations. The W_pred\n",
    "matrix has values of 0 or 1, exactly opposite to the W matrix. The reason for this is, if we\n",
    "multiply the predicted rating matrix with this W_pred matrix, this will make all values 0 for\n",
    "already provided ratings, so that other non-reviewed/non-rated values can be easily put in\n",
    "descending order and suggest the top 5 or 10 movies to the user who has never rated/seen\n",
    "those movies. If you observe carefully, here we are assigned zeros to all diagonal elements\n",
    "too, as we should not recommend the same movie as the most probable movie to users,\n",
    "which is sensible:"
   ]
  },
  {
   "cell_type": "code",
   "execution_count": 133,
   "metadata": {},
   "outputs": [],
   "source": [
    "W_pred = A < 0.5\n",
    "W_pred[W_pred == True] = 1\n",
    "W_pred[W_pred == False] = 0\n",
    "W_pred = W_pred.astype(np.float64, copy=False)\n",
    "np.fill_diagonal(W_pred, val=0)"
   ]
  },
  {
   "cell_type": "markdown",
   "metadata": {},
   "source": [
    "Hyperparameters are initiated in the following code with sample values, the number of\n",
    "iterations is set to 200, the number of latent factors is set to 100 with learning rate as 0.1:"
   ]
  },
  {
   "cell_type": "code",
   "execution_count": 134,
   "metadata": {},
   "outputs": [],
   "source": [
    "# Parameters\n",
    "m, n = A.shape\n",
    "n_iterations = 200\n",
    "n_factors = 100\n",
    "lmbda = 0.1"
   ]
  },
  {
   "cell_type": "markdown",
   "metadata": {},
   "source": [
    "The X and Y values are initiated with random numbers from uniform distribution [0-1] and\n",
    "multiplied by 5 for converting between 0 and 5. The number of dimensions for X and Y is (m\n",
    "x k) and (k x n) respectively, as we will start with a random value and optimize step by step\n",
    "for each iteration:"
   ]
  },
  {
   "cell_type": "code",
   "execution_count": 135,
   "metadata": {},
   "outputs": [],
   "source": [
    "X = 5 * np.random.rand(m, n_factors)\n",
    "Y = 5 * np.random.rand(n_factors, n)"
   ]
  },
  {
   "cell_type": "markdown",
   "metadata": {},
   "source": [
    "RMSE values are calculated with the following formulas. Here, we are multiplying with the\n",
    "W matrix to consider only the ratings metric in the error calculations; though matrix\n",
    "np.dot(X, Y) has values across the matrix, we should not consider them due to the fact\n",
    "that the error metric needs to be calculated only for the available ratings:"
   ]
  },
  {
   "cell_type": "code",
   "execution_count": 136,
   "metadata": {},
   "outputs": [],
   "source": [
    "def get_error(A, X, Y, W):\n",
    "    return np.sqrt(np.sum((W * (A - np.dot(X, Y))) ** 2) / np.sum(W))"
   ]
  },
  {
   "cell_type": "markdown",
   "metadata": {},
   "source": [
    "The following step is the most critical part of the entire ALS methodology. Initially, here, we\n",
    "are optimizing X based on the given Y, followed by optimizing Y based on the given X; we\n",
    "will repeat this process until we finish all the number of iterations. After every 10 iterations,\n",
    "we print to see how the RMSE value changes with respective to change in number of\n",
    "iterations:"
   ]
  },
  {
   "cell_type": "code",
   "execution_count": 137,
   "metadata": {},
   "outputs": [
    {
     "name": "stdout",
     "output_type": "stream",
     "text": [
      "0  iterations completed RMSError value is: 3.1975662558730407\n",
      "10  iterations completed RMSError value is: 1.7181271141374044\n",
      "20  iterations completed RMSError value is: 1.708200782359471\n",
      "30  iterations completed RMSError value is: 1.7042432408717847\n",
      "40  iterations completed RMSError value is: 1.701999110040571\n",
      "50  iterations completed RMSError value is: 1.700546442189325\n",
      "60  iterations completed RMSError value is: 1.6995418804407842\n",
      "70  iterations completed RMSError value is: 1.698813863221394\n",
      "80  iterations completed RMSError value is: 1.69826518953804\n",
      "90  iterations completed RMSError value is: 1.6978378452727465\n",
      "100  iterations completed RMSError value is: 1.6974958524899468\n",
      "110  iterations completed RMSError value is: 1.6972160298596588\n",
      "120  iterations completed RMSError value is: 1.696982877100337\n",
      "130  iterations completed RMSError value is: 1.6967856712639384\n",
      "140  iterations completed RMSError value is: 1.6966167659354612\n",
      "150  iterations completed RMSError value is: 1.6964705607760078\n",
      "160  iterations completed RMSError value is: 1.6963428564349785\n",
      "170  iterations completed RMSError value is: 1.696230438332703\n",
      "180  iterations completed RMSError value is: 1.6961308006478626\n",
      "190  iterations completed RMSError value is: 1.6960419586640285\n"
     ]
    }
   ],
   "source": [
    "errors = []\n",
    "for itr in range(n_iterations):\n",
    "    X = np.linalg.solve(np.dot(Y, Y.T) + lmbda *\n",
    "                        np.eye(n_factors), np.dot(Y, A.T)).T\n",
    "    Y = np.linalg.solve(np.dot(X.T, X) + lmbda *\n",
    "                       np.eye(n_factors), np.dot(X.T, A))\n",
    "    if itr % 10 == 0:\n",
    "        print(itr, ' iterations completed', 'RMSError value is:', get_error(A, X, Y, W))\n",
    "    errors.append(get_error(A, X, Y, W))"
   ]
  },
  {
   "cell_type": "markdown",
   "metadata": {},
   "source": [
    "From the preceding results, it is apparent that the error values in fact decrease with the\n",
    "number of iterations, which is in fact the algorithm performing as expected. The following\n",
    "code is for plotting the same errors on the graph:"
   ]
  },
  {
   "cell_type": "code",
   "execution_count": 147,
   "metadata": {},
   "outputs": [
    {
     "data": {
      "text/plain": [
       "200"
      ]
     },
     "execution_count": 147,
     "metadata": {},
     "output_type": "execute_result"
    }
   ],
   "source": [
    "len(errors)"
   ]
  },
  {
   "cell_type": "code",
   "execution_count": 154,
   "metadata": {},
   "outputs": [
    {
     "data": {
      "text/plain": [
       "3.1975662558730407"
      ]
     },
     "execution_count": 154,
     "metadata": {},
     "output_type": "execute_result"
    }
   ],
   "source": [
    "max(errors)"
   ]
  },
  {
   "cell_type": "code",
   "execution_count": 156,
   "metadata": {},
   "outputs": [
    {
     "name": "stdout",
     "output_type": "stream",
     "text": [
      "RMSError of rated movies:  1.695969907159543\n"
     ]
    },
    {
     "data": {
      "image/png": "[encoded data removed]",
      "text/plain": [
       "<matplotlib.figure.Figure at 0x143f54ae4a8>"
      ]
     },
     "metadata": {},
     "output_type": "display_data"
    }
   ],
   "source": [
    "print('RMSError of rated movies: ', get_error(A, X, Y, W))\n",
    "plt.figure()\n",
    "plt.plot(errors)\n",
    "plt.ylim([0, 3.5])\n",
    "plt.xlabel('Number of Iterations')\n",
    "plt.ylabel('RMSE')\n",
    "plt.title('No. of Iterations vs. RMSE')\n",
    "plt.show()"
   ]
  },
  {
   "cell_type": "markdown",
   "metadata": {},
   "source": [
    "Once the number of iterations has finished, we will get updated X and Y matrices, which\n",
    "will be utilized to create the entire predicted ratings matrix, which can be obtained from a\n",
    "simple dot product, as follows:"
   ]
  },
  {
   "cell_type": "code",
   "execution_count": 157,
   "metadata": {},
   "outputs": [],
   "source": [
    "A_hat = np.dot(X, Y)"
   ]
  },
  {
   "cell_type": "markdown",
   "metadata": {},
   "source": [
    "After calculating the predicted matrix (A_hat), the next and final task is to utilize it to\n",
    "recommend the most relevant movies to users. In the following code, we recommend\n",
    "movies to any particular user based on their movie review patterns or ratings provided:"
   ]
  },
  {
   "cell_type": "code",
   "execution_count": 158,
   "metadata": {},
   "outputs": [
    {
     "name": "stdout",
     "output_type": "stream",
     "text": [
      "\n",
      "Top 10 movies predicted for the user: 355  based on collaborative filtering\n",
      "\n",
      "   pred_ratings  movieId                                title\n",
      "0      2.814084     1213                    Goodfellas (1990)\n",
      "1      2.396029     1197           Princess Bride, The (1987)\n",
      "2      2.388550     1923  There's Something About Mary (1998)\n",
      "3      2.272392     2987      Who Framed Roger Rabbit? (1988)\n",
      "4      2.087558     5010               Black Hawk Down (2001)\n",
      "5      2.051411     5903                   Equilibrium (2002)\n",
      "6      1.955899     8798                    Collateral (2004)\n",
      "7      1.918850     8622               Fahrenheit 9/11 (2004)\n",
      "8      1.841540     1298          Pink Floyd: The Wall (1982)\n",
      "9      1.790842     8957                           Saw (2004)\n"
     ]
    }
   ],
   "source": [
    "def print_recommovies(uid=315, n_movies=15, pred_mat=A_hat, wpred_mat=W_pred):\n",
    "    pred_recos = pred_mat * wpred_mat\n",
    "    pd_predrecos = pd.DataFrame(pred_recos, index=rp.index, columns=rp.columns)\n",
    "    pred_ratings = pd_predrecos.loc[uid,:].sort_values(ascending=False)\n",
    "    pred_topratings = pred_ratings[:n_movies,]\n",
    "    pred_topratings = pred_topratings.rename('pred_ratings')\n",
    "    pred_topratings = pd.DataFrame(pred_topratings)\n",
    "    pred_topratings['index1'] = pred_topratings.index\n",
    "    pred_topratings['index1'] = pred_topratings['index1'].astype('int64')\n",
    "    pred_topratings = pd.merge(pred_topratings, movies[['movieId', 'title']], how='left', left_on='index1',\n",
    "                              right_on='movieId')\n",
    "    del pred_topratings['index1']\n",
    "    print('\\nTop', n_movies, 'movies predicted for the user:', uid, ' based on collaborative filtering\\n')\n",
    "    return pred_topratings\n",
    "\n",
    "predmtrx = print_recommovies(uid=355, n_movies=10, pred_mat=A_hat, wpred_mat=W_pred)\n",
    "print(predmtrx)"
   ]
  },
  {
   "cell_type": "markdown",
   "metadata": {},
   "source": [
    "From the previous recommendations, we can see that the movie user 355 might like most is\n",
    "Goodfellas, followed by Princess Bride, There's Something About Mary, and so\n",
    "on. Well, these recommendations need to be judged by the user himself!"
   ]
  },
  {
   "cell_type": "markdown",
   "metadata": {},
   "source": [
    "### Grid search on collaborative filtering\n",
    "\n",
    "As we mentioned earlier, we need to tune the parameters in order to see where we will get\n",
    "the best possible machine learning model. Tuning the parameters is a kind of de-facto\n",
    "standard in any machine learning model. In the following code, we have tried various\n",
    "combinations for number of iterations, latent factors, and learning rate. The entire code will\n",
    "remain more or less the same, but we always keep a tab on the least minimum errors we\n",
    "have seen; if any new errors comes up as less than the existing errors, we print the\n",
    "combinations accordingly:"
   ]
  },
  {
   "cell_type": "code",
   "execution_count": 160,
   "metadata": {},
   "outputs": [
    {
     "name": "stdout",
     "output_type": "stream",
     "text": [
      "\n",
      "\n",
      "Grid Search results of ALS Matrix Factorization:\n",
      "\n",
      "No. of iters 20 No. of Factors 30 Lambda 0.1 RMSE 2.321545343476532\n",
      "No. of iters 20 No. of Factors 30 Lambda 0.1 RMSE 2.321331728550021\n",
      "No. of iters 20 No. of Factors 50 Lambda 0.1 RMSE 2.106197050365968\n",
      "No. of iters 20 No. of Factors 50 Lambda 0.1 RMSE 2.1060966285147638\n",
      "No. of iters 20 No. of Factors 70 Lambda 0.1 RMSE 1.9318027866133833\n",
      "No. of iters 20 No. of Factors 70 Lambda 0.1 RMSE 1.9316763426262076\n",
      "No. of iters 20 No. of Factors 70 Lambda 0.1 RMSE 1.9314155661884542\n",
      "No. of iters 20 No. of Factors 100 Lambda 0.1 RMSE 1.7081674823007502\n",
      "No. of iters 20 No. of Factors 100 Lambda 0.1 RMSE 1.7074661490403047\n",
      "No. of iters 50 No. of Factors 100 Lambda 0.1 RMSE 1.7004941913599483\n",
      "No. of iters 50 No. of Factors 100 Lambda 0.1 RMSE 1.7002990565338432\n",
      "No. of iters 100 No. of Factors 100 Lambda 0.1 RMSE 1.6972266992521148\n",
      "No. of iters 200 No. of Factors 100 Lambda 0.1 RMSE 1.6960399645289455\n",
      "No. of iters 200 No. of Factors 100 Lambda 0.1 RMSE 1.6957102445607228\n"
     ]
    }
   ],
   "source": [
    "# Grid Search on Collaborative Filtering\n",
    "niters = [20, 50, 100, 200]\n",
    "factors = [30, 50, 70, 100]\n",
    "lambdas = [0.001, 0.01, 0.05, 0.1]\n",
    "\n",
    "init_error = float('inf')\n",
    "print('\\n\\nGrid Search results of ALS Matrix Factorization:\\n')\n",
    "for niter in niters:\n",
    "    for facts in factors:\n",
    "        for lmbd in lambdas:\n",
    "            X = 5 * np.random.rand(m, facts)\n",
    "            Y = 5 * np.random.rand(facts, n)\n",
    "            for iter in range(niter):\n",
    "                X = np.linalg.solve(np.dot(Y, Y.T) + lmbda *\n",
    "                                   np.eye(facts), np.dot(Y, A.T)).T\n",
    "                Y = np.linalg.solve(np.dot(X.T, X) + lmbda *\n",
    "                                   np.eye(facts), np.dot(X.T, A))\n",
    "            error = get_error(A, X, Y, W)\n",
    "            if error < init_error:\n",
    "                print('No. of iters', niter, 'No. of Factors', facts, \n",
    "                     'Lambda', lmbda, 'RMSE', error)\n",
    "                init_error = error"
   ]
  },
  {
   "cell_type": "markdown",
   "metadata": {},
   "source": [
    "The best possible RMSE value obtained from the grid search is 1.695710, which is less than\n",
    "the RMSE value from the basic method, which is 1.695710. Hence, it is always advisable to\n",
    "perform grid search before implementing any algorithm."
   ]
  },
  {
   "cell_type": "code",
   "execution_count": 161,
   "metadata": {},
   "outputs": [],
   "source": [
    "# References and credits to\n",
    "# Statistics in Machine Learning"
   ]
  }
 ],
 "metadata": {
  "kernelspec": {
   "display_name": "Python 3",
   "language": "python",
   "name": "python3"
  },
  "language_info": {
   "codemirror_mode": {
    "name": "ipython",
    "version": 3
   },
   "file_extension": ".py",
   "mimetype": "text/x-python",
   "name": "python",
   "nbconvert_exporter": "python",
   "pygments_lexer": "ipython3",
   "version": "3.6.4"
  }
 },
 "nbformat": 4,
 "nbformat_minor": 2
}
