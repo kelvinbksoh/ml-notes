{
 "cells": [
  {
   "cell_type": "markdown",
   "metadata": {},
   "source": [
    "## KNN classifier with simple dataset"
   ]
  },
  {
   "cell_type": "code",
   "execution_count": 36,
   "metadata": {},
   "outputs": [],
   "source": [
    "# KNN Classifier - Breast Cancer\n",
    "import numpy as np\n",
    "import pandas as pd\n",
    "from sklearn.metrics import accuracy_score, classification_report"
   ]
  },
  {
   "cell_type": "code",
   "execution_count": 37,
   "metadata": {},
   "outputs": [],
   "source": [
    "df = pd.read_csv('../dataset/Breast Cancer Wisconsin (Diagnostic) Data Set/breast-cancer-wisconsin.data', header=None)\n",
    "df.columns = ['ID_Number', 'Clump_Thickness', 'Unif_Cell_Size', 'Unif_Cell_Shape', 'Marg_Adhesion', 'Single_Epith_Cell_Size',\n",
    "             'Bare_Nuclei', 'Bland_Chromatin', 'Normal_Nucleoli', 'Mitoses', 'Class']"
   ]
  },
  {
   "cell_type": "code",
   "execution_count": 38,
   "metadata": {},
   "outputs": [
    {
     "data": {
      "text/html": [
       "<div>\n",
       "<style scoped>\n",
       "    .dataframe tbody tr th:only-of-type {\n",
       "        vertical-align: middle;\n",
       "    }\n",
       "\n",
       "    .dataframe tbody tr th {\n",
       "        vertical-align: top;\n",
       "    }\n",
       "\n",
       "    .dataframe thead th {\n",
       "        text-align: right;\n",
       "    }\n",
       "</style>\n",
       "<table border=\"1\" class=\"dataframe\">\n",
       "  <thead>\n",
       "    <tr style=\"text-align: right;\">\n",
       "      <th></th>\n",
       "      <th>ID_Number</th>\n",
       "      <th>Clump_Thickness</th>\n",
       "      <th>Unif_Cell_Size</th>\n",
       "      <th>Unif_Cell_Shape</th>\n",
       "      <th>Marg_Adhesion</th>\n",
       "      <th>Single_Epith_Cell_Size</th>\n",
       "      <th>Bare_Nuclei</th>\n",
       "      <th>Bland_Chromatin</th>\n",
       "      <th>Normal_Nucleoli</th>\n",
       "      <th>Mitoses</th>\n",
       "      <th>Class</th>\n",
       "    </tr>\n",
       "  </thead>\n",
       "  <tbody>\n",
       "    <tr>\n",
       "      <th>0</th>\n",
       "      <td>1000025</td>\n",
       "      <td>5</td>\n",
       "      <td>1</td>\n",
       "      <td>1</td>\n",
       "      <td>1</td>\n",
       "      <td>2</td>\n",
       "      <td>1</td>\n",
       "      <td>3</td>\n",
       "      <td>1</td>\n",
       "      <td>1</td>\n",
       "      <td>2</td>\n",
       "    </tr>\n",
       "    <tr>\n",
       "      <th>1</th>\n",
       "      <td>1002945</td>\n",
       "      <td>5</td>\n",
       "      <td>4</td>\n",
       "      <td>4</td>\n",
       "      <td>5</td>\n",
       "      <td>7</td>\n",
       "      <td>10</td>\n",
       "      <td>3</td>\n",
       "      <td>2</td>\n",
       "      <td>1</td>\n",
       "      <td>2</td>\n",
       "    </tr>\n",
       "    <tr>\n",
       "      <th>2</th>\n",
       "      <td>1015425</td>\n",
       "      <td>3</td>\n",
       "      <td>1</td>\n",
       "      <td>1</td>\n",
       "      <td>1</td>\n",
       "      <td>2</td>\n",
       "      <td>2</td>\n",
       "      <td>3</td>\n",
       "      <td>1</td>\n",
       "      <td>1</td>\n",
       "      <td>2</td>\n",
       "    </tr>\n",
       "    <tr>\n",
       "      <th>3</th>\n",
       "      <td>1016277</td>\n",
       "      <td>6</td>\n",
       "      <td>8</td>\n",
       "      <td>8</td>\n",
       "      <td>1</td>\n",
       "      <td>3</td>\n",
       "      <td>4</td>\n",
       "      <td>3</td>\n",
       "      <td>7</td>\n",
       "      <td>1</td>\n",
       "      <td>2</td>\n",
       "    </tr>\n",
       "    <tr>\n",
       "      <th>4</th>\n",
       "      <td>1017023</td>\n",
       "      <td>4</td>\n",
       "      <td>1</td>\n",
       "      <td>1</td>\n",
       "      <td>3</td>\n",
       "      <td>2</td>\n",
       "      <td>1</td>\n",
       "      <td>3</td>\n",
       "      <td>1</td>\n",
       "      <td>1</td>\n",
       "      <td>2</td>\n",
       "    </tr>\n",
       "  </tbody>\n",
       "</table>\n",
       "</div>"
      ],
      "text/plain": [
       "   ID_Number  Clump_Thickness  Unif_Cell_Size  Unif_Cell_Shape  Marg_Adhesion  \\\n",
       "0    1000025                5               1                1              1   \n",
       "1    1002945                5               4                4              5   \n",
       "2    1015425                3               1                1              1   \n",
       "3    1016277                6               8                8              1   \n",
       "4    1017023                4               1                1              3   \n",
       "\n",
       "   Single_Epith_Cell_Size Bare_Nuclei  Bland_Chromatin  Normal_Nucleoli  \\\n",
       "0                       2           1                3                1   \n",
       "1                       7          10                3                2   \n",
       "2                       2           2                3                1   \n",
       "3                       3           4                3                7   \n",
       "4                       2           1                3                1   \n",
       "\n",
       "   Mitoses  Class  \n",
       "0        1      2  \n",
       "1        1      2  \n",
       "2        1      2  \n",
       "3        1      2  \n",
       "4        1      2  "
      ]
     },
     "execution_count": 38,
     "metadata": {},
     "output_type": "execute_result"
    }
   ],
   "source": [
    "df.head()"
   ]
  },
  {
   "cell_type": "code",
   "execution_count": 39,
   "metadata": {},
   "outputs": [
    {
     "data": {
      "text/plain": [
       "ID_Number                 645\n",
       "Clump_Thickness            10\n",
       "Unif_Cell_Size             10\n",
       "Unif_Cell_Shape            10\n",
       "Marg_Adhesion              10\n",
       "Single_Epith_Cell_Size     10\n",
       "Bare_Nuclei                11\n",
       "Bland_Chromatin            10\n",
       "Normal_Nucleoli            10\n",
       "Mitoses                     9\n",
       "Class                       2\n",
       "dtype: int64"
      ]
     },
     "execution_count": 39,
     "metadata": {},
     "output_type": "execute_result"
    }
   ],
   "source": [
    "df.nunique()"
   ]
  },
  {
   "cell_type": "code",
   "execution_count": 40,
   "metadata": {},
   "outputs": [
    {
     "name": "stdout",
     "output_type": "stream",
     "text": [
      "<class 'pandas.core.frame.DataFrame'>\n",
      "RangeIndex: 699 entries, 0 to 698\n",
      "Data columns (total 11 columns):\n",
      "ID_Number                 699 non-null int64\n",
      "Clump_Thickness           699 non-null int64\n",
      "Unif_Cell_Size            699 non-null int64\n",
      "Unif_Cell_Shape           699 non-null int64\n",
      "Marg_Adhesion             699 non-null int64\n",
      "Single_Epith_Cell_Size    699 non-null int64\n",
      "Bare_Nuclei               699 non-null object\n",
      "Bland_Chromatin           699 non-null int64\n",
      "Normal_Nucleoli           699 non-null int64\n",
      "Mitoses                   699 non-null int64\n",
      "Class                     699 non-null int64\n",
      "dtypes: int64(10), object(1)\n",
      "memory usage: 60.1+ KB\n"
     ]
    }
   ],
   "source": [
    "df.info()"
   ]
  },
  {
   "cell_type": "code",
   "execution_count": 41,
   "metadata": {},
   "outputs": [
    {
     "data": {
      "text/plain": [
       "array(['1', '10', '2', '4', '3', '9', '7', '?', '5', '8', '6'],\n",
       "      dtype=object)"
      ]
     },
     "execution_count": 41,
     "metadata": {},
     "output_type": "execute_result"
    }
   ],
   "source": [
    "df['Bare_Nuclei'].unique()"
   ]
  },
  {
   "cell_type": "code",
   "execution_count": 42,
   "metadata": {},
   "outputs": [
    {
     "data": {
      "text/plain": [
       "1     402\n",
       "10    132\n",
       "2      30\n",
       "5      30\n",
       "3      28\n",
       "8      21\n",
       "4      19\n",
       "?      16\n",
       "9       9\n",
       "7       8\n",
       "6       4\n",
       "Name: Bare_Nuclei, dtype: int64"
      ]
     },
     "execution_count": 42,
     "metadata": {},
     "output_type": "execute_result"
    }
   ],
   "source": [
    "df['Bare_Nuclei'].value_counts()"
   ]
  },
  {
   "cell_type": "markdown",
   "metadata": {},
   "source": [
    "Let's fix the 16 \"?\" nan value"
   ]
  },
  {
   "cell_type": "code",
   "execution_count": 43,
   "metadata": {},
   "outputs": [
    {
     "data": {
      "text/plain": [
       "count     699\n",
       "unique     11\n",
       "top         1\n",
       "freq      402\n",
       "Name: Bare_Nuclei, dtype: object"
      ]
     },
     "execution_count": 43,
     "metadata": {},
     "output_type": "execute_result"
    }
   ],
   "source": [
    "df['Bare_Nuclei'].describe()"
   ]
  },
  {
   "cell_type": "code",
   "execution_count": 44,
   "metadata": {},
   "outputs": [],
   "source": [
    "# Replace with the most frequent value which is 1\n",
    "df['Bare_Nuclei'] = df['Bare_Nuclei'].replace('?', np.NAN)\n",
    "df['Bare_Nuclei'] = df['Bare_Nuclei'].fillna(df['Bare_Nuclei'].value_counts().index[0])"
   ]
  },
  {
   "cell_type": "code",
   "execution_count": 45,
   "metadata": {},
   "outputs": [
    {
     "data": {
      "text/plain": [
       "array([2, 4], dtype=int64)"
      ]
     },
     "execution_count": 45,
     "metadata": {},
     "output_type": "execute_result"
    }
   ],
   "source": [
    "df['Class'].unique()"
   ]
  },
  {
   "cell_type": "code",
   "execution_count": 46,
   "metadata": {},
   "outputs": [],
   "source": [
    "# Let's convert the classes to a 0 and 1 indicator for using in the classifier\n",
    "df['Cancer_Ind'] = 0\n",
    "df.loc[df['Class'] == 4, 'Cancer_Ind'] = 1"
   ]
  },
  {
   "cell_type": "code",
   "execution_count": 48,
   "metadata": {},
   "outputs": [],
   "source": [
    "# Dropping irrevelant columns\n",
    "X = df.drop(['ID_Number', 'Class', 'Cancer_Ind'], axis=1)\n",
    "y = df['Cancer_Ind']"
   ]
  },
  {
   "cell_type": "code",
   "execution_count": 57,
   "metadata": {},
   "outputs": [],
   "source": [
    "from sklearn.preprocessing import StandardScaler\n",
    "X_std = StandardScaler()\n",
    "X_std = X_std.fit_transform(X)"
   ]
  },
  {
   "cell_type": "markdown",
   "metadata": {},
   "source": [
    "KNN is very sensitive to distances, thus we need to standardizing all the columns before applying the algorithms"
   ]
  },
  {
   "cell_type": "code",
   "execution_count": 62,
   "metadata": {},
   "outputs": [],
   "source": [
    "from sklearn.model_selection import train_test_split\n",
    "X_std_df = pd.DataFrame(X_std, index=X.index, columns=X.columns)\n",
    "X_train, X_test, y_train, y_test = train_test_split(X_std_df, y, test_size=0.3, random_state=42)"
   ]
  },
  {
   "cell_type": "markdown",
   "metadata": {},
   "source": [
    "KNN classifier is being applied with a neighbor value of 3 and p value indicates it is 2-norm, also known as Euclidean distance for computing classes"
   ]
  },
  {
   "cell_type": "code",
   "execution_count": 66,
   "metadata": {},
   "outputs": [
    {
     "name": "stdout",
     "output_type": "stream",
     "text": [
      "\n",
      "K-Nearest Neighbors - Train Confusion Matrix\n",
      "\n",
      "Predicted    0    1\n",
      "Actuall            \n",
      "0          309    6\n",
      "1            4  170\n",
      "\n",
      "K-Nearest Neighbors - Train accuracy 0.98\n",
      "\n",
      "K-Nearest Neighbors - Train Classification Report\n",
      "              precision    recall  f1-score   support\n",
      "\n",
      "          0       0.99      0.98      0.98       315\n",
      "          1       0.97      0.98      0.97       174\n",
      "\n",
      "avg / total       0.98      0.98      0.98       489\n",
      "\n",
      "\n",
      "K-Nearest Neighbors - Test Confusion Matrix\n",
      "\n",
      "Predicted    0   1\n",
      "Actuall           \n",
      "0          141   2\n",
      "1            3  64\n",
      "\n",
      "K-Nearest Neighbors - Test accuracy 0.976\n",
      "\n",
      "K-Nearest Neighbors - Test Classification Report\n",
      "              precision    recall  f1-score   support\n",
      "\n",
      "          0       0.98      0.99      0.98       143\n",
      "          1       0.97      0.96      0.96        67\n",
      "\n",
      "avg / total       0.98      0.98      0.98       210\n",
      "\n"
     ]
    }
   ],
   "source": [
    "from sklearn.neighbors import KNeighborsClassifier\n",
    "knn_fit = KNeighborsClassifier(n_neighbors=3, p=2, metric='minkowski')\n",
    "knn_fit.fit(X_train, y_train)\n",
    "\n",
    "knn_pred = knn_fit.predict(X_train)\n",
    "print('\\nK-Nearest Neighbors - Train Confusion Matrix\\n\\n', pd.crosstab(y_train, knn_pred,\n",
    "                                                                       rownames=['Actuall'], colnames=['Predicted']), sep='')\n",
    "print('\\nK-Nearest Neighbors - Train accuracy', round(accuracy_score(y_train, knn_pred), 3))\n",
    "print('\\nK-Nearest Neighbors - Train Classification Report\\n', classification_report(y_train, knn_pred))\n",
    "\n",
    "knn_pred = knn_fit.predict(X_test)\n",
    "print('\\nK-Nearest Neighbors - Test Confusion Matrix\\n\\n', pd.crosstab(y_test, knn_pred,\n",
    "                                                                       rownames=['Actuall'], colnames=['Predicted']), sep='')\n",
    "print('\\nK-Nearest Neighbors - Test accuracy', round(accuracy_score(y_test, knn_pred), 3))\n",
    "print('\\nK-Nearest Neighbors - Test Classification Report\\n', classification_report(y_test, knn_pred))"
   ]
  },
  {
   "cell_type": "markdown",
   "metadata": {},
   "source": [
    "From the results, it is appearing that KNN is working very well in classifying malignant\n",
    "and benign classes well, obtaining test accuracy of 97.6 percent with 96 percent of recall on\n",
    "malignant class. The only deficiency of KNN classifier would be, it is computationally\n",
    "intensive during test phase, as each test observation will be compared with all the available\n",
    "observations in train data, which practically KNN does not learn a thing from training data.\n",
    "Hence, we are also calling it a lazy classifier!"
   ]
  },
  {
   "cell_type": "markdown",
   "metadata": {},
   "source": [
    "## Tuning of k-value in KNN classifier"
   ]
  },
  {
   "cell_type": "code",
   "execution_count": 74,
   "metadata": {},
   "outputs": [
    {
     "name": "stdout",
     "output_type": "stream",
     "text": [
      "\n",
      "K-value 1\n",
      "\n",
      "K-Nearest Neighbors - Train Confusion Matrix\n",
      "\n",
      "Predicted    0    1\n",
      "Actuall            \n",
      "0          315    0\n",
      "1            0  174\n",
      "\n",
      "K-Nearest Neigighbors - Train accuracy: 1.0\n",
      "\n",
      "K-Nearest Neighbors - Train Classification Report\n",
      "              precision    recall  f1-score   support\n",
      "\n",
      "          0       1.00      1.00      1.00       315\n",
      "          1       1.00      1.00      1.00       174\n",
      "\n",
      "avg / total       1.00      1.00      1.00       489\n",
      "\n",
      "\n",
      "K-Nearest Neighbors - Test Confusion Matrix\n",
      "\n",
      "Predicted    0   1\n",
      "Actuall           \n",
      "0          141   2\n",
      "1            7  60\n",
      "\n",
      "K-Nearest Neigighbors - Test accuracy: 0.957\n",
      "\n",
      "K-Nearest Neighbors - Test Classification Report\n",
      "              precision    recall  f1-score   support\n",
      "\n",
      "          0       0.95      0.99      0.97       143\n",
      "          1       0.97      0.90      0.93        67\n",
      "\n",
      "avg / total       0.96      0.96      0.96       210\n",
      "\n",
      "\n",
      "K-value 2\n",
      "\n",
      "K-Nearest Neighbors - Train Confusion Matrix\n",
      "\n",
      "Predicted    0    1\n",
      "Actuall            \n",
      "0          315    0\n",
      "1           14  160\n",
      "\n",
      "K-Nearest Neigighbors - Train accuracy: 0.971\n",
      "\n",
      "K-Nearest Neighbors - Train Classification Report\n",
      "              precision    recall  f1-score   support\n",
      "\n",
      "          0       0.96      1.00      0.98       315\n",
      "          1       1.00      0.92      0.96       174\n",
      "\n",
      "avg / total       0.97      0.97      0.97       489\n",
      "\n",
      "\n",
      "K-Nearest Neighbors - Test Confusion Matrix\n",
      "\n",
      "Predicted    0   1\n",
      "Actuall           \n",
      "0          141   2\n",
      "1           11  56\n",
      "\n",
      "K-Nearest Neigighbors - Test accuracy: 0.938\n",
      "\n",
      "K-Nearest Neighbors - Test Classification Report\n",
      "              precision    recall  f1-score   support\n",
      "\n",
      "          0       0.93      0.99      0.96       143\n",
      "          1       0.97      0.84      0.90        67\n",
      "\n",
      "avg / total       0.94      0.94      0.94       210\n",
      "\n",
      "\n",
      "K-value 3\n",
      "\n",
      "K-Nearest Neighbors - Train Confusion Matrix\n",
      "\n",
      "Predicted    0    1\n",
      "Actuall            \n",
      "0          309    6\n",
      "1            4  170\n",
      "\n",
      "K-Nearest Neigighbors - Train accuracy: 0.98\n",
      "\n",
      "K-Nearest Neighbors - Train Classification Report\n",
      "              precision    recall  f1-score   support\n",
      "\n",
      "          0       0.99      0.98      0.98       315\n",
      "          1       0.97      0.98      0.97       174\n",
      "\n",
      "avg / total       0.98      0.98      0.98       489\n",
      "\n",
      "\n",
      "K-Nearest Neighbors - Test Confusion Matrix\n",
      "\n",
      "Predicted    0   1\n",
      "Actuall           \n",
      "0          141   2\n",
      "1            3  64\n",
      "\n",
      "K-Nearest Neigighbors - Test accuracy: 0.976\n",
      "\n",
      "K-Nearest Neighbors - Test Classification Report\n",
      "              precision    recall  f1-score   support\n",
      "\n",
      "          0       0.98      0.99      0.98       143\n",
      "          1       0.97      0.96      0.96        67\n",
      "\n",
      "avg / total       0.98      0.98      0.98       210\n",
      "\n",
      "\n",
      "K-value 4\n",
      "\n",
      "K-Nearest Neighbors - Train Confusion Matrix\n",
      "\n",
      "Predicted    0    1\n",
      "Actuall            \n",
      "0          310    5\n",
      "1           13  161\n",
      "\n",
      "K-Nearest Neigighbors - Train accuracy: 0.963\n",
      "\n",
      "K-Nearest Neighbors - Train Classification Report\n",
      "              precision    recall  f1-score   support\n",
      "\n",
      "          0       0.96      0.98      0.97       315\n",
      "          1       0.97      0.93      0.95       174\n",
      "\n",
      "avg / total       0.96      0.96      0.96       489\n",
      "\n",
      "\n",
      "K-Nearest Neighbors - Test Confusion Matrix\n",
      "\n",
      "Predicted    0   1\n",
      "Actuall           \n",
      "0          141   2\n",
      "1            6  61\n",
      "\n",
      "K-Nearest Neigighbors - Test accuracy: 0.962\n",
      "\n",
      "K-Nearest Neighbors - Test Classification Report\n",
      "              precision    recall  f1-score   support\n",
      "\n",
      "          0       0.96      0.99      0.97       143\n",
      "          1       0.97      0.91      0.94        67\n",
      "\n",
      "avg / total       0.96      0.96      0.96       210\n",
      "\n",
      "\n",
      "K-value 5\n",
      "\n",
      "K-Nearest Neighbors - Train Confusion Matrix\n",
      "\n",
      "Predicted    0    1\n",
      "Actuall            \n",
      "0          306    9\n",
      "1            7  167\n",
      "\n",
      "K-Nearest Neigighbors - Train accuracy: 0.967\n",
      "\n",
      "K-Nearest Neighbors - Train Classification Report\n",
      "              precision    recall  f1-score   support\n",
      "\n",
      "          0       0.98      0.97      0.97       315\n",
      "          1       0.95      0.96      0.95       174\n",
      "\n",
      "avg / total       0.97      0.97      0.97       489\n",
      "\n",
      "\n",
      "K-Nearest Neighbors - Test Confusion Matrix\n",
      "\n",
      "Predicted    0   1\n",
      "Actuall           \n",
      "0          141   2\n",
      "1            5  62\n",
      "\n",
      "K-Nearest Neigighbors - Test accuracy: 0.967\n",
      "\n",
      "K-Nearest Neighbors - Test Classification Report\n",
      "              precision    recall  f1-score   support\n",
      "\n",
      "          0       0.97      0.99      0.98       143\n",
      "          1       0.97      0.93      0.95        67\n",
      "\n",
      "avg / total       0.97      0.97      0.97       210\n",
      "\n"
     ]
    }
   ],
   "source": [
    "# Tuning of K-value for train & test data\n",
    "dummyarray = np.empty((5, 3))\n",
    "k_valchart = pd.DataFrame(dummyarray)\n",
    "k_valchart.columns = [\"K_value\", \"Train_acc\", \"Test_acc\"]\n",
    "\n",
    "k_vals = [1, 2, 3, 4, 5]\n",
    "\n",
    "for i in range(len(k_vals)):\n",
    "    knn_fit = KNeighborsClassifier(n_neighbors=k_vals[i], p=2, metric='minkowski')\n",
    "    knn_fit.fit(X_train, y_train)\n",
    "    \n",
    "    print('\\nK-value', k_vals[i])\n",
    "    \n",
    "    knn_pred = knn_fit.predict(X_train)\n",
    "    tr_accscore = round(accuracy_score(y_train, knn_pred), 3)\n",
    "    print('\\nK-Nearest Neighbors - Train Confusion Matrix\\n\\n', pd.crosstab(y_train, knn_pred,\n",
    "                                                                           rownames=['Actuall'], colnames=['Predicted']), sep='')\n",
    "    print('\\nK-Nearest Neigighbors - Train accuracy:', tr_accscore)\n",
    "    print('\\nK-Nearest Neighbors - Train Classification Report\\n', classification_report(y_train, knn_pred))\n",
    "    \n",
    "    knn_pred = knn_fit.predict(X_test)\n",
    "    ts_accscore = round(accuracy_score(y_test, knn_pred), 3)\n",
    "    print('\\nK-Nearest Neighbors - Test Confusion Matrix\\n\\n', pd.crosstab(y_test, knn_pred,\n",
    "                                                                           rownames=['Actuall'], colnames=['Predicted']), sep='')\n",
    "    print('\\nK-Nearest Neigighbors - Test accuracy:', ts_accscore)\n",
    "    print('\\nK-Nearest Neighbors - Test Classification Report\\n', classification_report(y_test, knn_pred))\n",
    "    k_valchart.loc[i, 'K_value'] = k_vals[i]\n",
    "    k_valchart.loc[i, 'Train_acc'] = tr_accscore\n",
    "    k_valchart.loc[i, 'Test_acc'] = ts_accscore"
   ]
  },
  {
   "cell_type": "code",
   "execution_count": 92,
   "metadata": {},
   "outputs": [
    {
     "data": {
      "image/png": "[encoded data removed]",
      "text/plain": [
       "<matplotlib.figure.Figure at 0x21e4051a588>"
      ]
     },
     "metadata": {},
     "output_type": "display_data"
    }
   ],
   "source": [
    "# Plotting accuracies over varied k-values\n",
    "import matplotlib.pyplot as plt\n",
    "plt.figure(figsize=(10, 5))\n",
    "plt.xlabel('K-value')\n",
    "plt.ylabel('Accuracy')\n",
    "plt.plot(k_valchart['K_value'], k_valchart['Train_acc'])\n",
    "plt.plot(k_valchart['K_value'], k_valchart['Test_acc'])\n",
    "\n",
    "plt.axis([0.9, 5, 0.92, 1.005])\n",
    "plt.xticks([1, 2, 3, 4, 5])\n",
    "\n",
    "for a, b in zip(k_valchart['K_value'], k_valchart['Train_acc']):\n",
    "    plt.text(a, b, str(b), fontsize=10)\n",
    "    \n",
    "for a, b in zip(k_valchart['K_value'], k_valchart['Test_acc']):\n",
    "    plt.text(a, b, str(b), fontsize=10)\n",
    "plt.legend(loc='upper right')\n",
    "plt.show()"
   ]
  },
  {
   "cell_type": "markdown",
   "metadata": {},
   "source": [
    "Change in accuracies in different K-values in KNN classifier\n",
    "\n",
    "It appears that with less value of k-value, it has more overfitting problems due to the very\n",
    "high value of accuracy on train data and less on test data, with the increase in k-value more\n",
    "the train and test accuracies are converging and becoming more robust. This phenomenon\n",
    "illustrates the typical machine learning phenomenon"
   ]
  },
  {
   "cell_type": "code",
   "execution_count": 89,
   "metadata": {},
   "outputs": [
    {
     "data": {
      "text/html": [
       "<div>\n",
       "<style scoped>\n",
       "    .dataframe tbody tr th:only-of-type {\n",
       "        vertical-align: middle;\n",
       "    }\n",
       "\n",
       "    .dataframe tbody tr th {\n",
       "        vertical-align: top;\n",
       "    }\n",
       "\n",
       "    .dataframe thead th {\n",
       "        text-align: right;\n",
       "    }\n",
       "</style>\n",
       "<table border=\"1\" class=\"dataframe\">\n",
       "  <thead>\n",
       "    <tr style=\"text-align: right;\">\n",
       "      <th></th>\n",
       "      <th>K_value</th>\n",
       "      <th>Train_acc</th>\n",
       "      <th>Test_acc</th>\n",
       "    </tr>\n",
       "  </thead>\n",
       "  <tbody>\n",
       "    <tr>\n",
       "      <th>0</th>\n",
       "      <td>1.0</td>\n",
       "      <td>1.000</td>\n",
       "      <td>0.957</td>\n",
       "    </tr>\n",
       "    <tr>\n",
       "      <th>1</th>\n",
       "      <td>2.0</td>\n",
       "      <td>0.971</td>\n",
       "      <td>0.938</td>\n",
       "    </tr>\n",
       "    <tr>\n",
       "      <th>2</th>\n",
       "      <td>3.0</td>\n",
       "      <td>0.980</td>\n",
       "      <td>0.976</td>\n",
       "    </tr>\n",
       "  </tbody>\n",
       "</table>\n",
       "</div>"
      ],
      "text/plain": [
       "   K_value  Train_acc  Test_acc\n",
       "0      1.0      1.000     0.957\n",
       "1      2.0      0.971     0.938\n",
       "2      3.0      0.980     0.976"
      ]
     },
     "execution_count": 89,
     "metadata": {},
     "output_type": "execute_result"
    }
   ],
   "source": [
    "k_valchart[:3]"
   ]
  },
  {
   "cell_type": "code",
   "execution_count": null,
   "metadata": {},
   "outputs": [],
   "source": [
    "# References and credits to\n",
    "# Statistics for Machine Learning\n",
    "# dataset from: http://archive.ics.uci.edu/ml/datasets/Breast+Cancer+Wisconsin+%28Diagnostic%29"
   ]
  }
 ],
 "metadata": {
  "kernelspec": {
   "display_name": "Python 3",
   "language": "python",
   "name": "python3"
  },
  "language_info": {
   "codemirror_mode": {
    "name": "ipython",
    "version": 3
   },
   "file_extension": ".py",
   "mimetype": "text/x-python",
   "name": "python",
   "nbconvert_exporter": "python",
   "pygments_lexer": "ipython3",
   "version": "3.6.4"
  }
 },
 "nbformat": 4,
 "nbformat_minor": 2
}
